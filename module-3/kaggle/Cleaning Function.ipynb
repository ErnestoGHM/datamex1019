{
 "cells": [
  {
   "cell_type": "markdown",
   "metadata": {},
   "source": [
    "# Definición de funciones"
   ]
  },
  {
   "cell_type": "markdown",
   "metadata": {},
   "source": [
    "## Importación de librerías"
   ]
  },
  {
   "cell_type": "code",
   "execution_count": 1,
   "metadata": {},
   "outputs": [],
   "source": [
    "import pandas as pd\n",
    "import matplotlib.pyplot as plt\n",
    "import re\n",
    "import seaborn as sns\n",
    "import numpy as np\n",
    "import datetime\n",
    "from dateutil.relativedelta import relativedelta\n",
    "from sklearn.linear_model import LinearRegression\n",
    "from sklearn.model_selection import train_test_split\n",
    "from sklearn.metrics import mean_squared_error as mse\n",
    "from sklearn.ensemble import RandomForestRegressor as RFR\n",
    "from sklearn.tree import DecisionTreeRegressor\n",
    "from sklearn.feature_selection import SelectFromModel\n",
    "from sklearn.neighbors import KNeighborsRegressor as KNNR"
   ]
  },
  {
   "cell_type": "markdown",
   "metadata": {},
   "source": [
    "## Función limpieza data"
   ]
  },
  {
   "cell_type": "code",
   "execution_count": 2,
   "metadata": {},
   "outputs": [],
   "source": [
    "def cleaning(data):\n",
    "    #Property Type\n",
    "    luxury = ['Treehouse','Villa','Timeshare','Castle','Tipi','Boat','Loft','Vacation home']\n",
    "    low = ['Cabin','Bed & Breakfast','Yurt','Camper/RV','Hut','Tent','Hostel','Dorm']\n",
    "    other = ['Guest suite','In-law','Boutique hotel','Serviced apartment','Chalet','Cave','Earth House','Train']\n",
    "    data.property_type = data.property_type.apply(lambda x : 'Luxury' if x in luxury else x)\\\n",
    "                                               .apply(lambda x : 'Low' if x in low else x)\\\n",
    "                                               .apply(lambda x : 'Other' if x in other else x)\n",
    "    air_prop_type = pd.get_dummies(data.property_type, drop_first=True)\n",
    "    data = pd.concat([data,air_prop_type],axis = 1)\n",
    "    data.drop('property_type',axis = 1,inplace = True)\n",
    "    \n",
    "    #Room Type\n",
    "    room_v_price = data.pivot_table(index = 'room_type', values = 'price', aggfunc = 'mean')\n",
    "    entire = room_v_price.loc['Entire home/apt']/room_v_price.loc['Entire home/apt']\n",
    "    private = room_v_price.loc['Private room']/room_v_price.loc['Entire home/apt']\n",
    "    shared = room_v_price.loc['Shared room']/room_v_price.loc['Entire home/apt']    \n",
    "    data.room_type = data.room_type.apply(lambda x : entire[0] if x == 'Entire home/apt' else x)\\\n",
    "                                           .apply(lambda x : private[0] if x == 'Private room' else x)\\\n",
    "                                           .apply(lambda x : shared[0] if x == 'Shared room' else x)\n",
    "    \n",
    "    #Amenities\n",
    "    data.amenities = data.amenities.str.replace('\"translation missing: en.hosting_amenity_49\"','')\\\n",
    "                                 .str.replace('\"translation missing: en.hosting_amenity_50\"','').str.split(',')\n",
    "    amen = pd.DataFrame(data.amenities.apply(lambda x : len(x)))\n",
    "    amen.columns = ['amenity_items']\n",
    "    data = pd.concat([data,amen],axis = 1)\n",
    "    data.drop('amenities',axis = 1, inplace = True)\n",
    "    \n",
    "    #Bed Type\n",
    "    data.drop('bed_type',axis = 1, inplace = True)\n",
    "    \n",
    "    #Cancellation Policy\n",
    "    data.cancellation_policy = data.cancellation_policy.str.replace('super_strict_30','strict')\\\n",
    "                                 .str.replace('super_strict_60','strict')\n",
    "    air_canc_pol = pd.get_dummies(data.cancellation_policy, drop_first=True)\n",
    "    data = pd.concat([data,air_canc_pol],axis = 1)\n",
    "    data.drop('cancellation_policy',axis = 1,inplace = True)\n",
    "    \n",
    "    #Cleaning Fee\n",
    "    air_clean_fee = pd.get_dummies(data.cleaning_fee, drop_first=True)\n",
    "    air_clean_fee.columns = ['clean_fee']\n",
    "    data = pd.concat([data,air_clean_fee],axis = 1)\n",
    "    data.drop('cleaning_fee',axis = 1,inplace = True)\n",
    "    \n",
    "    #City\n",
    "    air_city = pd.get_dummies(data.city, drop_first=True)\n",
    "    data = pd.concat([data,air_city],axis = 1)\n",
    "    data.drop('city',axis = 1,inplace = True)\n",
    "    \n",
    "    #Description\n",
    "    data.drop('description',axis = 1, inplace = True)\n",
    "    \n",
    "    #Columnas de fechas\n",
    "    data['today'] = pd.Timestamp.today()\n",
    "    data['delta_first'] = (data.today - pd.to_datetime(data.first_review) )/np.timedelta64(1,'Y')\n",
    "    data['delta_last'] = (data.today - pd.to_datetime(data.last_review) )/np.timedelta64(1,'Y')\n",
    "    data['delta_host'] = (data.today - pd.to_datetime(data.host_since) )/np.timedelta64(1,'Y')\n",
    "    data.drop(['first_review','host_since','last_review','today'],axis = 1, inplace = True)\n",
    "    \n",
    "    #Host Response Rate\n",
    "    data.host_response_rate = data.host_response_rate.apply(lambda x : float(x.split('%')[0])/100)\n",
    "    \n",
    "    #Profile Pic\n",
    "    data.drop('host_has_profile_pic',axis = 1, inplace = True)\n",
    "    \n",
    "    #Identity Verified\n",
    "    air_verified = pd.get_dummies(data.host_identity_verified, drop_first = True)\n",
    "    air_verified.columns = ['verified']\n",
    "    data = pd.concat([data,air_verified],axis = 1)\n",
    "    data.drop('host_identity_verified',axis = 1,inplace = True)\n",
    "    \n",
    "    #Instant Bookable\n",
    "    air_instant = pd.get_dummies(data.instant_bookable, drop_first = True)\n",
    "    air_instant.columns = ['instant']\n",
    "    data = pd.concat([data,air_instant],axis = 1)\n",
    "    data.drop('instant_bookable',axis = 1,inplace = True)\n",
    "    \n",
    "    #Columnas name, neighbourhood y thumbnail_url\n",
    "    data.drop('name',axis = 1, inplace = True)\n",
    "    data.drop('neighbourhood',axis = 1, inplace = True)\n",
    "    data.drop('thumbnail_url',axis = 1, inplace = True)\n",
    "    \n",
    "    #Zipcode\n",
    "    data.zipcode = data.zipcode.apply(lambda x : re.findall('^\\d+',x)).apply(lambda x : pd.to_numeric(x[0]))\n",
    "    return data"
   ]
  },
  {
   "cell_type": "markdown",
   "metadata": {},
   "source": [
    "## Función limpieza submit"
   ]
  },
  {
   "cell_type": "code",
   "execution_count": 3,
   "metadata": {},
   "outputs": [],
   "source": [
    "def cleaning_sub(data):\n",
    "    #Property Type\n",
    "    luxury = ['Treehouse','Villa','Timeshare','Castle','Tipi','Boat','Loft','Vacation home']\n",
    "    low = ['Cabin','Bed & Breakfast','Yurt','Camper/RV','Hut','Tent','Hostel','Dorm']\n",
    "    other = ['Guest suite','In-law','Boutique hotel','Serviced apartment','Chalet','Cave','Earth House','Train']\n",
    "    data.property_type = data.property_type.apply(lambda x : 'Luxury' if x in luxury else x)\\\n",
    "                                               .apply(lambda x : 'Low' if x in low else x)\\\n",
    "                                               .apply(lambda x : 'Other' if x in other else x)\n",
    "    air_prop_type = pd.get_dummies(data.property_type, drop_first=True)\n",
    "    data = pd.concat([data,air_prop_type],axis = 1)\n",
    "    data.drop('property_type',axis = 1,inplace = True)\n",
    "    \n",
    "    #Room Type\n",
    "    entire = 198.166790/198.166790\n",
    "    private = 81.995331/198.166790\n",
    "    shared = 52.694215/198.166790    \n",
    "    data.room_type = data.room_type.apply(lambda x : entire if x == 'Entire home/apt' else x)\\\n",
    "                                           .apply(lambda x : private if x == 'Private room' else x)\\\n",
    "                                           .apply(lambda x : shared if x == 'Shared room' else x)\n",
    "    \n",
    "    #Amenities\n",
    "    data.amenities = data.amenities.str.replace('\"translation missing: en.hosting_amenity_49\"','')\\\n",
    "                                 .str.replace('\"translation missing: en.hosting_amenity_50\"','').str.split(',')\n",
    "    amen = pd.DataFrame(data.amenities.apply(lambda x : len(x)))\n",
    "    amen.columns = ['amenity_items']\n",
    "    data = pd.concat([data,amen],axis = 1)\n",
    "    data.drop('amenities',axis = 1, inplace = True)\n",
    "    \n",
    "    #Bed Type\n",
    "    data.drop('bed_type',axis = 1, inplace = True)\n",
    "    \n",
    "    #Cancellation Policy\n",
    "    data.cancellation_policy = data.cancellation_policy.str.replace('super_strict_30','strict')\\\n",
    "                                 .str.replace('super_strict_60','strict')\n",
    "    air_canc_pol = pd.get_dummies(data.cancellation_policy, drop_first=True)\n",
    "    data = pd.concat([data,air_canc_pol],axis = 1)\n",
    "    data.drop('cancellation_policy',axis = 1,inplace = True)\n",
    "    \n",
    "    #Cleaning Fee\n",
    "    air_clean_fee = pd.get_dummies(data.cleaning_fee, drop_first=True)\n",
    "    air_clean_fee.columns = ['clean_fee']\n",
    "    data = pd.concat([data,air_clean_fee],axis = 1)\n",
    "    data.drop('cleaning_fee',axis = 1,inplace = True)\n",
    "    \n",
    "    #City\n",
    "    air_city = pd.get_dummies(data.city, drop_first=True)\n",
    "    data = pd.concat([data,air_city],axis = 1)\n",
    "    data.drop('city',axis = 1,inplace = True)\n",
    "    \n",
    "    #Description\n",
    "    data.drop('description',axis = 1, inplace = True)\n",
    "    \n",
    "    #Columnas de fechas\n",
    "    data['today'] = pd.Timestamp.today()\n",
    "    data['delta_first'] = (data.today - pd.to_datetime(data.first_review) )/np.timedelta64(1,'Y')\n",
    "    data['delta_last'] = (data.today - pd.to_datetime(data.last_review) )/np.timedelta64(1,'Y')\n",
    "    data['delta_host'] = (data.today - pd.to_datetime(data.host_since) )/np.timedelta64(1,'Y')\n",
    "    data.drop(['first_review','host_since','last_review','today','id'],axis = 1, inplace = True)\n",
    "    \n",
    "    #Host Response Rate\n",
    "    data.host_response_rate = data.host_response_rate.apply(lambda x : float(x.split('%')[0])/100)\n",
    "    \n",
    "    #Profile Pic\n",
    "    data.drop('host_has_profile_pic',axis = 1, inplace = True)\n",
    "    \n",
    "    #Identity Verified\n",
    "    air_verified = pd.get_dummies(data.host_identity_verified, drop_first = True)\n",
    "    air_verified.columns = ['verified']\n",
    "    data = pd.concat([data,air_verified],axis = 1)\n",
    "    data.drop('host_identity_verified',axis = 1,inplace = True)\n",
    "    \n",
    "    #Instant Bookable\n",
    "    air_instant = pd.get_dummies(data.instant_bookable, drop_first = True)\n",
    "    air_instant.columns = ['instant']\n",
    "    data = pd.concat([data,air_instant],axis = 1)\n",
    "    data.drop('instant_bookable',axis = 1,inplace = True)\n",
    "    \n",
    "    #Columnas name, neighbourhood y thumbnail_url\n",
    "    data.drop('name',axis = 1, inplace = True)\n",
    "    data.drop('neighbourhood',axis = 1, inplace = True)\n",
    "    data.drop('thumbnail_url',axis = 1, inplace = True)\n",
    "    \n",
    "    #Zipcode\n",
    "    data.zipcode = data.zipcode.apply(lambda x : re.findall('^\\d+',x)).apply(lambda x : pd.to_numeric(x[0]))\n",
    "    return data"
   ]
  },
  {
   "cell_type": "markdown",
   "metadata": {},
   "source": [
    "### Importación de datos"
   ]
  },
  {
   "cell_type": "code",
   "execution_count": 4,
   "metadata": {},
   "outputs": [],
   "source": [
    "data = pd.read_csv('airbnb_data.csv')"
   ]
  },
  {
   "cell_type": "code",
   "execution_count": 5,
   "metadata": {},
   "outputs": [],
   "source": [
    "data = cleaning(data)"
   ]
  },
  {
   "cell_type": "code",
   "execution_count": 6,
   "metadata": {},
   "outputs": [
    {
     "data": {
      "text/plain": [
       "(28877, 34)"
      ]
     },
     "execution_count": 6,
     "metadata": {},
     "output_type": "execute_result"
    }
   ],
   "source": [
    "data.shape"
   ]
  },
  {
   "cell_type": "code",
   "execution_count": 7,
   "metadata": {},
   "outputs": [],
   "source": [
    "datacorr = data.corr()"
   ]
  },
  {
   "cell_type": "code",
   "execution_count": 8,
   "metadata": {},
   "outputs": [
    {
     "data": {
      "image/png": "[encoded data removed]",
      "text/plain": [
       "<Figure size 864x720 with 2 Axes>"
      ]
     },
     "metadata": {
      "needs_background": "light"
     },
     "output_type": "display_data"
    }
   ],
   "source": [
    "plt.figure(figsize=(12,10))\n",
    "sns.heatmap(datacorr);"
   ]
  },
  {
   "cell_type": "markdown",
   "metadata": {},
   "source": [
    "#### Definición de columnas para ML"
   ]
  },
  {
   "cell_type": "code",
   "execution_count": 9,
   "metadata": {},
   "outputs": [],
   "source": [
    "X_air = data.drop(['price'],axis = 1)\n",
    "#,'latitude','longitude','zipcode','delta_first','delta_last','moderate','strict','verified','instant','accommodates','amenity_items','host_response_rate','clean_fee'\n",
    "y_air = data.price"
   ]
  },
  {
   "cell_type": "code",
   "execution_count": 10,
   "metadata": {},
   "outputs": [],
   "source": [
    "X_air_train, X_air_test, y_air_train, y_air_test = train_test_split(X_air, y_air, test_size = 0.25)"
   ]
  },
  {
   "cell_type": "markdown",
   "metadata": {},
   "source": [
    "### Modelo Random Forests con 33 columnas"
   ]
  },
  {
   "cell_type": "code",
   "execution_count": 11,
   "metadata": {},
   "outputs": [
    {
     "name": "stderr",
     "output_type": "stream",
     "text": [
      "/Users/eghm/opt/anaconda3/lib/python3.7/site-packages/sklearn/ensemble/forest.py:245: FutureWarning: The default value of n_estimators will change from 10 in version 0.20 to 100 in 0.22.\n",
      "  \"10 in version 0.20 to 100 in 0.22.\", FutureWarning)\n"
     ]
    }
   ],
   "source": [
    "rfr = RFR().fit(X_air_train,y_air_train)\n",
    "y_pred = rfr.predict(X_air_test)"
   ]
  },
  {
   "cell_type": "code",
   "execution_count": 12,
   "metadata": {},
   "outputs": [
    {
     "data": {
      "text/plain": [
       "6410.056182825486"
      ]
     },
     "execution_count": 12,
     "metadata": {},
     "output_type": "execute_result"
    }
   ],
   "source": [
    "mse(y_air_test, y_pred)"
   ]
  },
  {
   "cell_type": "code",
   "execution_count": 13,
   "metadata": {},
   "outputs": [
    {
     "data": {
      "text/plain": [
       "80.0628264728737"
      ]
     },
     "execution_count": 13,
     "metadata": {},
     "output_type": "execute_result"
    }
   ],
   "source": [
    "rmse_t=mse(y_air_test, y_pred)**0.5\n",
    "rmse_t"
   ]
  },
  {
   "cell_type": "markdown",
   "metadata": {},
   "source": [
    "### Importación de submission"
   ]
  },
  {
   "cell_type": "code",
   "execution_count": 14,
   "metadata": {},
   "outputs": [
    {
     "data": {
      "text/html": [
       "<div>\n",
       "<style scoped>\n",
       "    .dataframe tbody tr th:only-of-type {\n",
       "        vertical-align: middle;\n",
       "    }\n",
       "\n",
       "    .dataframe tbody tr th {\n",
       "        vertical-align: top;\n",
       "    }\n",
       "\n",
       "    .dataframe thead th {\n",
       "        text-align: right;\n",
       "    }\n",
       "</style>\n",
       "<table border=\"1\" class=\"dataframe\">\n",
       "  <thead>\n",
       "    <tr style=\"text-align: right;\">\n",
       "      <th></th>\n",
       "      <th>id</th>\n",
       "      <th>property_type</th>\n",
       "      <th>room_type</th>\n",
       "      <th>amenities</th>\n",
       "      <th>accommodates</th>\n",
       "      <th>bathrooms</th>\n",
       "      <th>bed_type</th>\n",
       "      <th>cancellation_policy</th>\n",
       "      <th>cleaning_fee</th>\n",
       "      <th>city</th>\n",
       "      <th>...</th>\n",
       "      <th>latitude</th>\n",
       "      <th>longitude</th>\n",
       "      <th>name</th>\n",
       "      <th>neighbourhood</th>\n",
       "      <th>number_of_reviews</th>\n",
       "      <th>review_scores_rating</th>\n",
       "      <th>thumbnail_url</th>\n",
       "      <th>zipcode</th>\n",
       "      <th>bedrooms</th>\n",
       "      <th>beds</th>\n",
       "    </tr>\n",
       "  </thead>\n",
       "  <tbody>\n",
       "    <tr>\n",
       "      <td>0</td>\n",
       "      <td>0</td>\n",
       "      <td>House</td>\n",
       "      <td>Entire home/apt</td>\n",
       "      <td>{TV,\"Wireless Internet\",Pool,Kitchen,\"Free par...</td>\n",
       "      <td>8</td>\n",
       "      <td>3.5</td>\n",
       "      <td>Real Bed</td>\n",
       "      <td>strict</td>\n",
       "      <td>True</td>\n",
       "      <td>LA</td>\n",
       "      <td>...</td>\n",
       "      <td>33.880809</td>\n",
       "      <td>-118.387797</td>\n",
       "      <td>Luxury 4BR/3,5Bath House-Manhattan Beach</td>\n",
       "      <td>Manhattan Beach</td>\n",
       "      <td>5</td>\n",
       "      <td>96.0</td>\n",
       "      <td>https://a0.muscache.com/im/pictures/d2e0d3f3-9...</td>\n",
       "      <td>90266</td>\n",
       "      <td>4.0</td>\n",
       "      <td>4.0</td>\n",
       "    </tr>\n",
       "    <tr>\n",
       "      <td>1</td>\n",
       "      <td>1</td>\n",
       "      <td>Apartment</td>\n",
       "      <td>Entire home/apt</td>\n",
       "      <td>{\"Wireless Internet\",\"Smoke detector\",\"Carbon ...</td>\n",
       "      <td>2</td>\n",
       "      <td>1.0</td>\n",
       "      <td>Real Bed</td>\n",
       "      <td>flexible</td>\n",
       "      <td>True</td>\n",
       "      <td>LA</td>\n",
       "      <td>...</td>\n",
       "      <td>33.864526</td>\n",
       "      <td>-118.387020</td>\n",
       "      <td>Ocean View Efficiency</td>\n",
       "      <td>Hermosa Beach</td>\n",
       "      <td>11</td>\n",
       "      <td>96.0</td>\n",
       "      <td>https://a0.muscache.com/im/pictures/9475cd65-3...</td>\n",
       "      <td>90254</td>\n",
       "      <td>0.0</td>\n",
       "      <td>1.0</td>\n",
       "    </tr>\n",
       "    <tr>\n",
       "      <td>2</td>\n",
       "      <td>2</td>\n",
       "      <td>Apartment</td>\n",
       "      <td>Entire home/apt</td>\n",
       "      <td>{\"Wireless Internet\",\"Air conditioning\",Kitche...</td>\n",
       "      <td>11</td>\n",
       "      <td>1.0</td>\n",
       "      <td>Real Bed</td>\n",
       "      <td>strict</td>\n",
       "      <td>True</td>\n",
       "      <td>Boston</td>\n",
       "      <td>...</td>\n",
       "      <td>42.379616</td>\n",
       "      <td>-71.028836</td>\n",
       "      <td>Spacious 4BR Near Airport, Subway, Beach + City</td>\n",
       "      <td>East Boston</td>\n",
       "      <td>29</td>\n",
       "      <td>85.0</td>\n",
       "      <td>https://a0.muscache.com/im/pictures/31470a85-3...</td>\n",
       "      <td>02128</td>\n",
       "      <td>4.0</td>\n",
       "      <td>4.0</td>\n",
       "    </tr>\n",
       "    <tr>\n",
       "      <td>3</td>\n",
       "      <td>3</td>\n",
       "      <td>Apartment</td>\n",
       "      <td>Entire home/apt</td>\n",
       "      <td>{TV,Internet,\"Wireless Internet\",Kitchen,\"Free...</td>\n",
       "      <td>3</td>\n",
       "      <td>1.0</td>\n",
       "      <td>Real Bed</td>\n",
       "      <td>flexible</td>\n",
       "      <td>True</td>\n",
       "      <td>LA</td>\n",
       "      <td>...</td>\n",
       "      <td>34.048905</td>\n",
       "      <td>-118.465482</td>\n",
       "      <td>Perfect Location / Brentwood</td>\n",
       "      <td>Brentwood</td>\n",
       "      <td>50</td>\n",
       "      <td>98.0</td>\n",
       "      <td>https://a0.muscache.com/im/pictures/93730358/e...</td>\n",
       "      <td>90049</td>\n",
       "      <td>1.0</td>\n",
       "      <td>1.0</td>\n",
       "    </tr>\n",
       "    <tr>\n",
       "      <td>4</td>\n",
       "      <td>4</td>\n",
       "      <td>Apartment</td>\n",
       "      <td>Entire home/apt</td>\n",
       "      <td>{TV,Internet,\"Wireless Internet\",\"Air conditio...</td>\n",
       "      <td>4</td>\n",
       "      <td>1.0</td>\n",
       "      <td>Real Bed</td>\n",
       "      <td>strict</td>\n",
       "      <td>True</td>\n",
       "      <td>DC</td>\n",
       "      <td>...</td>\n",
       "      <td>38.894259</td>\n",
       "      <td>-76.996380</td>\n",
       "      <td>The Barbara of Capitol Hill</td>\n",
       "      <td>Capitol Hill</td>\n",
       "      <td>61</td>\n",
       "      <td>96.0</td>\n",
       "      <td>https://a0.muscache.com/im/pictures/f390c032-5...</td>\n",
       "      <td>20002</td>\n",
       "      <td>2.0</td>\n",
       "      <td>2.0</td>\n",
       "    </tr>\n",
       "  </tbody>\n",
       "</table>\n",
       "<p>5 rows × 28 columns</p>\n",
       "</div>"
      ],
      "text/plain": [
       "   id property_type        room_type  \\\n",
       "0   0         House  Entire home/apt   \n",
       "1   1     Apartment  Entire home/apt   \n",
       "2   2     Apartment  Entire home/apt   \n",
       "3   3     Apartment  Entire home/apt   \n",
       "4   4     Apartment  Entire home/apt   \n",
       "\n",
       "                                           amenities  accommodates  bathrooms  \\\n",
       "0  {TV,\"Wireless Internet\",Pool,Kitchen,\"Free par...             8        3.5   \n",
       "1  {\"Wireless Internet\",\"Smoke detector\",\"Carbon ...             2        1.0   \n",
       "2  {\"Wireless Internet\",\"Air conditioning\",Kitche...            11        1.0   \n",
       "3  {TV,Internet,\"Wireless Internet\",Kitchen,\"Free...             3        1.0   \n",
       "4  {TV,Internet,\"Wireless Internet\",\"Air conditio...             4        1.0   \n",
       "\n",
       "   bed_type cancellation_policy  cleaning_fee    city  ...   latitude  \\\n",
       "0  Real Bed              strict          True      LA  ...  33.880809   \n",
       "1  Real Bed            flexible          True      LA  ...  33.864526   \n",
       "2  Real Bed              strict          True  Boston  ...  42.379616   \n",
       "3  Real Bed            flexible          True      LA  ...  34.048905   \n",
       "4  Real Bed              strict          True      DC  ...  38.894259   \n",
       "\n",
       "    longitude                                             name  \\\n",
       "0 -118.387797         Luxury 4BR/3,5Bath House-Manhattan Beach   \n",
       "1 -118.387020                            Ocean View Efficiency   \n",
       "2  -71.028836  Spacious 4BR Near Airport, Subway, Beach + City   \n",
       "3 -118.465482                     Perfect Location / Brentwood   \n",
       "4  -76.996380                      The Barbara of Capitol Hill   \n",
       "\n",
       "     neighbourhood number_of_reviews review_scores_rating  \\\n",
       "0  Manhattan Beach                 5                 96.0   \n",
       "1    Hermosa Beach                11                 96.0   \n",
       "2      East Boston                29                 85.0   \n",
       "3        Brentwood                50                 98.0   \n",
       "4     Capitol Hill                61                 96.0   \n",
       "\n",
       "                                       thumbnail_url zipcode  bedrooms  beds  \n",
       "0  https://a0.muscache.com/im/pictures/d2e0d3f3-9...   90266       4.0   4.0  \n",
       "1  https://a0.muscache.com/im/pictures/9475cd65-3...   90254       0.0   1.0  \n",
       "2  https://a0.muscache.com/im/pictures/31470a85-3...   02128       4.0   4.0  \n",
       "3  https://a0.muscache.com/im/pictures/93730358/e...   90049       1.0   1.0  \n",
       "4  https://a0.muscache.com/im/pictures/f390c032-5...   20002       2.0   2.0  \n",
       "\n",
       "[5 rows x 28 columns]"
      ]
     },
     "execution_count": 14,
     "metadata": {},
     "output_type": "execute_result"
    }
   ],
   "source": [
    "airsub = pd.read_csv('airbnb_submission.csv')\n",
    "airsub.head()"
   ]
  },
  {
   "cell_type": "code",
   "execution_count": 15,
   "metadata": {},
   "outputs": [
    {
     "data": {
      "text/html": [
       "<div>\n",
       "<style scoped>\n",
       "    .dataframe tbody tr th:only-of-type {\n",
       "        vertical-align: middle;\n",
       "    }\n",
       "\n",
       "    .dataframe tbody tr th {\n",
       "        vertical-align: top;\n",
       "    }\n",
       "\n",
       "    .dataframe thead th {\n",
       "        text-align: right;\n",
       "    }\n",
       "</style>\n",
       "<table border=\"1\" class=\"dataframe\">\n",
       "  <thead>\n",
       "    <tr style=\"text-align: right;\">\n",
       "      <th></th>\n",
       "      <th>room_type</th>\n",
       "      <th>accommodates</th>\n",
       "      <th>bathrooms</th>\n",
       "      <th>host_response_rate</th>\n",
       "      <th>latitude</th>\n",
       "      <th>longitude</th>\n",
       "      <th>number_of_reviews</th>\n",
       "      <th>review_scores_rating</th>\n",
       "      <th>zipcode</th>\n",
       "      <th>bedrooms</th>\n",
       "      <th>...</th>\n",
       "      <th>Chicago</th>\n",
       "      <th>DC</th>\n",
       "      <th>LA</th>\n",
       "      <th>NYC</th>\n",
       "      <th>SF</th>\n",
       "      <th>delta_first</th>\n",
       "      <th>delta_last</th>\n",
       "      <th>delta_host</th>\n",
       "      <th>verified</th>\n",
       "      <th>instant</th>\n",
       "    </tr>\n",
       "  </thead>\n",
       "  <tbody>\n",
       "    <tr>\n",
       "      <td>0</td>\n",
       "      <td>1.000000</td>\n",
       "      <td>8</td>\n",
       "      <td>3.5</td>\n",
       "      <td>1.0</td>\n",
       "      <td>33.880809</td>\n",
       "      <td>-118.387797</td>\n",
       "      <td>5</td>\n",
       "      <td>96.0</td>\n",
       "      <td>90266</td>\n",
       "      <td>4.0</td>\n",
       "      <td>...</td>\n",
       "      <td>0</td>\n",
       "      <td>0</td>\n",
       "      <td>1</td>\n",
       "      <td>0</td>\n",
       "      <td>0</td>\n",
       "      <td>3.195221</td>\n",
       "      <td>2.639425</td>\n",
       "      <td>5.007715</td>\n",
       "      <td>1</td>\n",
       "      <td>0</td>\n",
       "    </tr>\n",
       "    <tr>\n",
       "      <td>1</td>\n",
       "      <td>1.000000</td>\n",
       "      <td>2</td>\n",
       "      <td>1.0</td>\n",
       "      <td>1.0</td>\n",
       "      <td>33.864526</td>\n",
       "      <td>-118.387020</td>\n",
       "      <td>11</td>\n",
       "      <td>96.0</td>\n",
       "      <td>90254</td>\n",
       "      <td>0.0</td>\n",
       "      <td>...</td>\n",
       "      <td>0</td>\n",
       "      <td>0</td>\n",
       "      <td>1</td>\n",
       "      <td>0</td>\n",
       "      <td>0</td>\n",
       "      <td>2.787272</td>\n",
       "      <td>2.595619</td>\n",
       "      <td>5.412925</td>\n",
       "      <td>1</td>\n",
       "      <td>1</td>\n",
       "    </tr>\n",
       "    <tr>\n",
       "      <td>2</td>\n",
       "      <td>1.000000</td>\n",
       "      <td>11</td>\n",
       "      <td>1.0</td>\n",
       "      <td>1.0</td>\n",
       "      <td>42.379616</td>\n",
       "      <td>-71.028836</td>\n",
       "      <td>29</td>\n",
       "      <td>85.0</td>\n",
       "      <td>2128</td>\n",
       "      <td>4.0</td>\n",
       "      <td>...</td>\n",
       "      <td>0</td>\n",
       "      <td>0</td>\n",
       "      <td>0</td>\n",
       "      <td>0</td>\n",
       "      <td>0</td>\n",
       "      <td>2.713349</td>\n",
       "      <td>2.182195</td>\n",
       "      <td>3.488177</td>\n",
       "      <td>1</td>\n",
       "      <td>1</td>\n",
       "    </tr>\n",
       "    <tr>\n",
       "      <td>3</td>\n",
       "      <td>1.000000</td>\n",
       "      <td>3</td>\n",
       "      <td>1.0</td>\n",
       "      <td>1.0</td>\n",
       "      <td>34.048905</td>\n",
       "      <td>-118.465482</td>\n",
       "      <td>50</td>\n",
       "      <td>98.0</td>\n",
       "      <td>90049</td>\n",
       "      <td>1.0</td>\n",
       "      <td>...</td>\n",
       "      <td>0</td>\n",
       "      <td>0</td>\n",
       "      <td>1</td>\n",
       "      <td>0</td>\n",
       "      <td>0</td>\n",
       "      <td>4.358831</td>\n",
       "      <td>2.603833</td>\n",
       "      <td>4.791420</td>\n",
       "      <td>1</td>\n",
       "      <td>0</td>\n",
       "    </tr>\n",
       "    <tr>\n",
       "      <td>4</td>\n",
       "      <td>1.000000</td>\n",
       "      <td>4</td>\n",
       "      <td>1.0</td>\n",
       "      <td>1.0</td>\n",
       "      <td>38.894259</td>\n",
       "      <td>-76.996380</td>\n",
       "      <td>61</td>\n",
       "      <td>96.0</td>\n",
       "      <td>20002</td>\n",
       "      <td>2.0</td>\n",
       "      <td>...</td>\n",
       "      <td>0</td>\n",
       "      <td>1</td>\n",
       "      <td>0</td>\n",
       "      <td>0</td>\n",
       "      <td>0</td>\n",
       "      <td>4.068613</td>\n",
       "      <td>2.592881</td>\n",
       "      <td>5.998837</td>\n",
       "      <td>1</td>\n",
       "      <td>0</td>\n",
       "    </tr>\n",
       "    <tr>\n",
       "      <td>...</td>\n",
       "      <td>...</td>\n",
       "      <td>...</td>\n",
       "      <td>...</td>\n",
       "      <td>...</td>\n",
       "      <td>...</td>\n",
       "      <td>...</td>\n",
       "      <td>...</td>\n",
       "      <td>...</td>\n",
       "      <td>...</td>\n",
       "      <td>...</td>\n",
       "      <td>...</td>\n",
       "      <td>...</td>\n",
       "      <td>...</td>\n",
       "      <td>...</td>\n",
       "      <td>...</td>\n",
       "      <td>...</td>\n",
       "      <td>...</td>\n",
       "      <td>...</td>\n",
       "      <td>...</td>\n",
       "      <td>...</td>\n",
       "      <td>...</td>\n",
       "    </tr>\n",
       "    <tr>\n",
       "      <td>9620</td>\n",
       "      <td>0.413769</td>\n",
       "      <td>4</td>\n",
       "      <td>1.0</td>\n",
       "      <td>1.0</td>\n",
       "      <td>40.697452</td>\n",
       "      <td>-73.930380</td>\n",
       "      <td>9</td>\n",
       "      <td>100.0</td>\n",
       "      <td>11221</td>\n",
       "      <td>1.0</td>\n",
       "      <td>...</td>\n",
       "      <td>0</td>\n",
       "      <td>0</td>\n",
       "      <td>0</td>\n",
       "      <td>1</td>\n",
       "      <td>0</td>\n",
       "      <td>2.614784</td>\n",
       "      <td>2.269808</td>\n",
       "      <td>5.426615</td>\n",
       "      <td>1</td>\n",
       "      <td>0</td>\n",
       "    </tr>\n",
       "    <tr>\n",
       "      <td>9621</td>\n",
       "      <td>1.000000</td>\n",
       "      <td>5</td>\n",
       "      <td>2.0</td>\n",
       "      <td>1.0</td>\n",
       "      <td>33.871279</td>\n",
       "      <td>-118.395163</td>\n",
       "      <td>9</td>\n",
       "      <td>98.0</td>\n",
       "      <td>90254</td>\n",
       "      <td>3.0</td>\n",
       "      <td>...</td>\n",
       "      <td>0</td>\n",
       "      <td>0</td>\n",
       "      <td>1</td>\n",
       "      <td>0</td>\n",
       "      <td>0</td>\n",
       "      <td>6.343814</td>\n",
       "      <td>3.192483</td>\n",
       "      <td>10.100222</td>\n",
       "      <td>0</td>\n",
       "      <td>0</td>\n",
       "    </tr>\n",
       "    <tr>\n",
       "      <td>9622</td>\n",
       "      <td>1.000000</td>\n",
       "      <td>4</td>\n",
       "      <td>1.0</td>\n",
       "      <td>1.0</td>\n",
       "      <td>37.788529</td>\n",
       "      <td>-122.411818</td>\n",
       "      <td>1</td>\n",
       "      <td>100.0</td>\n",
       "      <td>94109</td>\n",
       "      <td>1.0</td>\n",
       "      <td>...</td>\n",
       "      <td>0</td>\n",
       "      <td>0</td>\n",
       "      <td>0</td>\n",
       "      <td>0</td>\n",
       "      <td>1</td>\n",
       "      <td>3.156890</td>\n",
       "      <td>3.156890</td>\n",
       "      <td>4.342404</td>\n",
       "      <td>1</td>\n",
       "      <td>0</td>\n",
       "    </tr>\n",
       "    <tr>\n",
       "      <td>9623</td>\n",
       "      <td>0.413769</td>\n",
       "      <td>2</td>\n",
       "      <td>1.0</td>\n",
       "      <td>1.0</td>\n",
       "      <td>34.049723</td>\n",
       "      <td>-118.379422</td>\n",
       "      <td>20</td>\n",
       "      <td>99.0</td>\n",
       "      <td>90035</td>\n",
       "      <td>1.0</td>\n",
       "      <td>...</td>\n",
       "      <td>0</td>\n",
       "      <td>0</td>\n",
       "      <td>1</td>\n",
       "      <td>0</td>\n",
       "      <td>0</td>\n",
       "      <td>4.068613</td>\n",
       "      <td>2.601095</td>\n",
       "      <td>7.187089</td>\n",
       "      <td>0</td>\n",
       "      <td>0</td>\n",
       "    </tr>\n",
       "    <tr>\n",
       "      <td>9624</td>\n",
       "      <td>0.413769</td>\n",
       "      <td>1</td>\n",
       "      <td>1.0</td>\n",
       "      <td>1.0</td>\n",
       "      <td>40.689821</td>\n",
       "      <td>-73.904913</td>\n",
       "      <td>5</td>\n",
       "      <td>100.0</td>\n",
       "      <td>11207</td>\n",
       "      <td>1.0</td>\n",
       "      <td>...</td>\n",
       "      <td>0</td>\n",
       "      <td>0</td>\n",
       "      <td>0</td>\n",
       "      <td>1</td>\n",
       "      <td>0</td>\n",
       "      <td>2.609308</td>\n",
       "      <td>2.557288</td>\n",
       "      <td>4.054923</td>\n",
       "      <td>1</td>\n",
       "      <td>1</td>\n",
       "    </tr>\n",
       "  </tbody>\n",
       "</table>\n",
       "<p>9625 rows × 33 columns</p>\n",
       "</div>"
      ],
      "text/plain": [
       "      room_type  accommodates  bathrooms  host_response_rate   latitude  \\\n",
       "0      1.000000             8        3.5                 1.0  33.880809   \n",
       "1      1.000000             2        1.0                 1.0  33.864526   \n",
       "2      1.000000            11        1.0                 1.0  42.379616   \n",
       "3      1.000000             3        1.0                 1.0  34.048905   \n",
       "4      1.000000             4        1.0                 1.0  38.894259   \n",
       "...         ...           ...        ...                 ...        ...   \n",
       "9620   0.413769             4        1.0                 1.0  40.697452   \n",
       "9621   1.000000             5        2.0                 1.0  33.871279   \n",
       "9622   1.000000             4        1.0                 1.0  37.788529   \n",
       "9623   0.413769             2        1.0                 1.0  34.049723   \n",
       "9624   0.413769             1        1.0                 1.0  40.689821   \n",
       "\n",
       "       longitude  number_of_reviews  review_scores_rating  zipcode  bedrooms  \\\n",
       "0    -118.387797                  5                  96.0    90266       4.0   \n",
       "1    -118.387020                 11                  96.0    90254       0.0   \n",
       "2     -71.028836                 29                  85.0     2128       4.0   \n",
       "3    -118.465482                 50                  98.0    90049       1.0   \n",
       "4     -76.996380                 61                  96.0    20002       2.0   \n",
       "...          ...                ...                   ...      ...       ...   \n",
       "9620  -73.930380                  9                 100.0    11221       1.0   \n",
       "9621 -118.395163                  9                  98.0    90254       3.0   \n",
       "9622 -122.411818                  1                 100.0    94109       1.0   \n",
       "9623 -118.379422                 20                  99.0    90035       1.0   \n",
       "9624  -73.904913                  5                 100.0    11207       1.0   \n",
       "\n",
       "      ...  Chicago  DC  LA  NYC  SF  delta_first  delta_last  delta_host  \\\n",
       "0     ...        0   0   1    0   0     3.195221    2.639425    5.007715   \n",
       "1     ...        0   0   1    0   0     2.787272    2.595619    5.412925   \n",
       "2     ...        0   0   0    0   0     2.713349    2.182195    3.488177   \n",
       "3     ...        0   0   1    0   0     4.358831    2.603833    4.791420   \n",
       "4     ...        0   1   0    0   0     4.068613    2.592881    5.998837   \n",
       "...   ...      ...  ..  ..  ...  ..          ...         ...         ...   \n",
       "9620  ...        0   0   0    1   0     2.614784    2.269808    5.426615   \n",
       "9621  ...        0   0   1    0   0     6.343814    3.192483   10.100222   \n",
       "9622  ...        0   0   0    0   1     3.156890    3.156890    4.342404   \n",
       "9623  ...        0   0   1    0   0     4.068613    2.601095    7.187089   \n",
       "9624  ...        0   0   0    1   0     2.609308    2.557288    4.054923   \n",
       "\n",
       "      verified  instant  \n",
       "0            1        0  \n",
       "1            1        1  \n",
       "2            1        1  \n",
       "3            1        0  \n",
       "4            1        0  \n",
       "...        ...      ...  \n",
       "9620         1        0  \n",
       "9621         0        0  \n",
       "9622         1        0  \n",
       "9623         0        0  \n",
       "9624         1        1  \n",
       "\n",
       "[9625 rows x 33 columns]"
      ]
     },
     "execution_count": 15,
     "metadata": {},
     "output_type": "execute_result"
    }
   ],
   "source": [
    "sub = cleaning_sub(airsub)\n",
    "sub"
   ]
  },
  {
   "cell_type": "code",
   "execution_count": 16,
   "metadata": {},
   "outputs": [],
   "source": [
    "#sub = sub.drop(['id','latitude','longitude','zipcode','delta_first','delta_last','moderate','strict','verified',\\\n",
    " #                 'instant','accommodates','amenity_items','host_response_rate'],axis = 1)"
   ]
  },
  {
   "cell_type": "markdown",
   "metadata": {},
   "source": [
    "### Entrenamiento de Random Forest con todos los datos."
   ]
  },
  {
   "cell_type": "code",
   "execution_count": 17,
   "metadata": {},
   "outputs": [
    {
     "name": "stderr",
     "output_type": "stream",
     "text": [
      "/Users/eghm/opt/anaconda3/lib/python3.7/site-packages/sklearn/ensemble/forest.py:245: FutureWarning: The default value of n_estimators will change from 10 in version 0.20 to 100 in 0.22.\n",
      "  \"10 in version 0.20 to 100 in 0.22.\", FutureWarning)\n"
     ]
    }
   ],
   "source": [
    "rfrfull = RFR().fit(X_air,y_air)\n",
    "y_pred_sub = rfrfull.predict(sub)"
   ]
  },
  {
   "cell_type": "code",
   "execution_count": 18,
   "metadata": {},
   "outputs": [],
   "source": [
    "subEGHMrfr = pd.DataFrame(range(len(y_pred_sub)))\n",
    "subEGHMrfr.columns = ['id']\n",
    "price = pd.DataFrame(y_pred_sub, columns = ['price'])\n",
    "subEGHMrfr = subEGHMrfr.join(price)"
   ]
  },
  {
   "cell_type": "code",
   "execution_count": 19,
   "metadata": {},
   "outputs": [],
   "source": [
    "#subEGHMrfr.to_csv('y_pred_EGHMrfr.csv', index = False)"
   ]
  },
  {
   "cell_type": "code",
   "execution_count": 20,
   "metadata": {},
   "outputs": [
    {
     "data": {
      "text/plain": [
       "array([6.65847135e-02, 3.86468164e-02, 1.85102388e-01, 8.39546617e-03,\n",
       "       6.07385314e-02, 9.09675875e-02, 2.48368425e-02, 2.07249308e-02,\n",
       "       6.61641042e-02, 2.70255508e-01, 1.14009994e-02, 3.86392364e-05,\n",
       "       1.41190515e-03, 1.07203682e-04, 3.04093021e-03, 2.32821556e-04,\n",
       "       6.56714725e-03, 5.90215285e-04, 1.49253155e-03, 3.14239373e-02,\n",
       "       2.12680038e-03, 4.22941760e-03, 3.62716678e-03, 2.29287010e-04,\n",
       "       5.69798087e-04, 2.09019813e-04, 1.53679292e-03, 3.10891495e-04,\n",
       "       2.62322840e-02, 3.91846368e-02, 2.75450021e-02, 2.31534921e-03,\n",
       "       3.16033501e-03])"
      ]
     },
     "execution_count": 20,
     "metadata": {},
     "output_type": "execute_result"
    }
   ],
   "source": [
    "rfr.feature_importances_"
   ]
  },
  {
   "cell_type": "code",
   "execution_count": 21,
   "metadata": {},
   "outputs": [
    {
     "data": {
      "text/html": [
       "<div>\n",
       "<style scoped>\n",
       "    .dataframe tbody tr th:only-of-type {\n",
       "        vertical-align: middle;\n",
       "    }\n",
       "\n",
       "    .dataframe tbody tr th {\n",
       "        vertical-align: top;\n",
       "    }\n",
       "\n",
       "    .dataframe thead th {\n",
       "        text-align: right;\n",
       "    }\n",
       "</style>\n",
       "<table border=\"1\" class=\"dataframe\">\n",
       "  <thead>\n",
       "    <tr style=\"text-align: right;\">\n",
       "      <th></th>\n",
       "      <th>room_type</th>\n",
       "      <th>bathrooms</th>\n",
       "      <th>latitude</th>\n",
       "      <th>longitude</th>\n",
       "      <th>zipcode</th>\n",
       "      <th>bedrooms</th>\n",
       "    </tr>\n",
       "  </thead>\n",
       "  <tbody>\n",
       "    <tr>\n",
       "      <td>0</td>\n",
       "      <td>1.000000</td>\n",
       "      <td>1.0</td>\n",
       "      <td>40.766115</td>\n",
       "      <td>-73.989040</td>\n",
       "      <td>10019</td>\n",
       "      <td>3.0</td>\n",
       "    </tr>\n",
       "    <tr>\n",
       "      <td>1</td>\n",
       "      <td>0.413769</td>\n",
       "      <td>1.0</td>\n",
       "      <td>37.753164</td>\n",
       "      <td>-122.429526</td>\n",
       "      <td>94131</td>\n",
       "      <td>1.0</td>\n",
       "    </tr>\n",
       "    <tr>\n",
       "      <td>2</td>\n",
       "      <td>1.000000</td>\n",
       "      <td>1.0</td>\n",
       "      <td>34.046737</td>\n",
       "      <td>-118.260439</td>\n",
       "      <td>90015</td>\n",
       "      <td>1.0</td>\n",
       "    </tr>\n",
       "    <tr>\n",
       "      <td>3</td>\n",
       "      <td>0.413769</td>\n",
       "      <td>1.0</td>\n",
       "      <td>37.781128</td>\n",
       "      <td>-122.501095</td>\n",
       "      <td>94121</td>\n",
       "      <td>1.0</td>\n",
       "    </tr>\n",
       "    <tr>\n",
       "      <td>4</td>\n",
       "      <td>0.413769</td>\n",
       "      <td>1.0</td>\n",
       "      <td>40.723883</td>\n",
       "      <td>-73.983880</td>\n",
       "      <td>10009</td>\n",
       "      <td>1.0</td>\n",
       "    </tr>\n",
       "    <tr>\n",
       "      <td>...</td>\n",
       "      <td>...</td>\n",
       "      <td>...</td>\n",
       "      <td>...</td>\n",
       "      <td>...</td>\n",
       "      <td>...</td>\n",
       "      <td>...</td>\n",
       "    </tr>\n",
       "    <tr>\n",
       "      <td>28872</td>\n",
       "      <td>0.413769</td>\n",
       "      <td>1.0</td>\n",
       "      <td>40.740904</td>\n",
       "      <td>-74.002948</td>\n",
       "      <td>10011</td>\n",
       "      <td>1.0</td>\n",
       "    </tr>\n",
       "    <tr>\n",
       "      <td>28873</td>\n",
       "      <td>0.265908</td>\n",
       "      <td>3.0</td>\n",
       "      <td>34.199671</td>\n",
       "      <td>-118.618070</td>\n",
       "      <td>91307</td>\n",
       "      <td>1.0</td>\n",
       "    </tr>\n",
       "    <tr>\n",
       "      <td>28874</td>\n",
       "      <td>1.000000</td>\n",
       "      <td>1.0</td>\n",
       "      <td>37.789989</td>\n",
       "      <td>-122.407384</td>\n",
       "      <td>94108</td>\n",
       "      <td>1.0</td>\n",
       "    </tr>\n",
       "    <tr>\n",
       "      <td>28875</td>\n",
       "      <td>1.000000</td>\n",
       "      <td>2.0</td>\n",
       "      <td>33.871549</td>\n",
       "      <td>-118.396053</td>\n",
       "      <td>90254</td>\n",
       "      <td>2.0</td>\n",
       "    </tr>\n",
       "    <tr>\n",
       "      <td>28876</td>\n",
       "      <td>1.000000</td>\n",
       "      <td>1.0</td>\n",
       "      <td>40.706749</td>\n",
       "      <td>-73.942377</td>\n",
       "      <td>11206</td>\n",
       "      <td>2.0</td>\n",
       "    </tr>\n",
       "  </tbody>\n",
       "</table>\n",
       "<p>28877 rows × 6 columns</p>\n",
       "</div>"
      ],
      "text/plain": [
       "       room_type  bathrooms   latitude   longitude  zipcode  bedrooms\n",
       "0       1.000000        1.0  40.766115  -73.989040    10019       3.0\n",
       "1       0.413769        1.0  37.753164 -122.429526    94131       1.0\n",
       "2       1.000000        1.0  34.046737 -118.260439    90015       1.0\n",
       "3       0.413769        1.0  37.781128 -122.501095    94121       1.0\n",
       "4       0.413769        1.0  40.723883  -73.983880    10009       1.0\n",
       "...          ...        ...        ...         ...      ...       ...\n",
       "28872   0.413769        1.0  40.740904  -74.002948    10011       1.0\n",
       "28873   0.265908        3.0  34.199671 -118.618070    91307       1.0\n",
       "28874   1.000000        1.0  37.789989 -122.407384    94108       1.0\n",
       "28875   1.000000        2.0  33.871549 -118.396053    90254       2.0\n",
       "28876   1.000000        1.0  40.706749  -73.942377    11206       2.0\n",
       "\n",
       "[28877 rows x 6 columns]"
      ]
     },
     "execution_count": 21,
     "metadata": {},
     "output_type": "execute_result"
    }
   ],
   "source": [
    "X_air_rfr_feature = X_air[[X_air.columns[0],X_air.columns[2],X_air.columns[4],X_air.columns[5]\\\n",
    "                                ,X_air.columns[8],X_air.columns[9]]]\n",
    "X_air_rfr_feature"
   ]
  },
  {
   "cell_type": "code",
   "execution_count": 22,
   "metadata": {},
   "outputs": [],
   "source": [
    "X_air_train_rfr_feature, X_air_test_rfr_feature, y_air_train, y_air_test = train_test_split(X_air_rfr_feature, y_air, test_size = 0.25)"
   ]
  },
  {
   "cell_type": "code",
   "execution_count": 23,
   "metadata": {},
   "outputs": [
    {
     "name": "stderr",
     "output_type": "stream",
     "text": [
      "/Users/eghm/opt/anaconda3/lib/python3.7/site-packages/sklearn/ensemble/forest.py:245: FutureWarning: The default value of n_estimators will change from 10 in version 0.20 to 100 in 0.22.\n",
      "  \"10 in version 0.20 to 100 in 0.22.\", FutureWarning)\n"
     ]
    }
   ],
   "source": [
    "rfr_feat = RFR().fit(X_air_train_rfr_feature,y_air_train)\n",
    "y_pred_feat = rfr_feat.predict(X_air_test_rfr_feature)"
   ]
  },
  {
   "cell_type": "code",
   "execution_count": 24,
   "metadata": {},
   "outputs": [
    {
     "data": {
      "text/plain": [
       "6807.976318559558"
      ]
     },
     "execution_count": 24,
     "metadata": {},
     "output_type": "execute_result"
    }
   ],
   "source": [
    "mse(y_air_test, y_pred_feat)"
   ]
  },
  {
   "cell_type": "code",
   "execution_count": 25,
   "metadata": {},
   "outputs": [
    {
     "data": {
      "text/plain": [
       "82.51046187338645"
      ]
     },
     "execution_count": 25,
     "metadata": {},
     "output_type": "execute_result"
    }
   ],
   "source": [
    "rmse_feat=mse(y_air_test, y_pred_feat)**0.5\n",
    "rmse_feat"
   ]
  },
  {
   "cell_type": "code",
   "execution_count": 26,
   "metadata": {},
   "outputs": [],
   "source": [
    "knnr = KNNR().fit(X_air_train,y_air_train)\n",
    "y_pred_knnr = knnr.predict(X_air_test)"
   ]
  },
  {
   "cell_type": "code",
   "execution_count": 27,
   "metadata": {},
   "outputs": [
    {
     "data": {
      "text/plain": [
       "19927.638963988924"
      ]
     },
     "execution_count": 27,
     "metadata": {},
     "output_type": "execute_result"
    }
   ],
   "source": [
    "mse(y_air_test, y_pred_knnr)"
   ]
  },
  {
   "cell_type": "code",
   "execution_count": 28,
   "metadata": {},
   "outputs": [
    {
     "data": {
      "text/plain": [
       "141.16528951547872"
      ]
     },
     "execution_count": 28,
     "metadata": {},
     "output_type": "execute_result"
    }
   ],
   "source": [
    "rmse_knnr=mse(y_air_test, y_pred_knnr)**0.5\n",
    "rmse_knnr"
   ]
  },
  {
   "cell_type": "code",
   "execution_count": 29,
   "metadata": {},
   "outputs": [],
   "source": [
    "knnr_feat = KNNR().fit(X_air_train_rfr_feature,y_air_train)\n",
    "y_pred_knnr_feat = knnr_feat.predict(X_air_test_rfr_feature)"
   ]
  },
  {
   "cell_type": "code",
   "execution_count": 30,
   "metadata": {},
   "outputs": [
    {
     "data": {
      "text/plain": [
       "7179.638842105265"
      ]
     },
     "execution_count": 30,
     "metadata": {},
     "output_type": "execute_result"
    }
   ],
   "source": [
    "mse(y_air_test, y_pred_knnr_feat)"
   ]
  },
  {
   "cell_type": "code",
   "execution_count": 31,
   "metadata": {},
   "outputs": [
    {
     "data": {
      "text/plain": [
       "84.73274952522941"
      ]
     },
     "execution_count": 31,
     "metadata": {},
     "output_type": "execute_result"
    }
   ],
   "source": [
    "rmse_knnr_feat=mse(y_air_test, y_pred_knnr_feat)**0.5\n",
    "rmse_knnr_feat"
   ]
  },
  {
   "cell_type": "code",
   "execution_count": null,
   "metadata": {},
   "outputs": [],
   "source": []
  }
 ],
 "metadata": {
  "kernelspec": {
   "display_name": "Python 3",
   "language": "python",
   "name": "python3"
  },
  "language_info": {
   "codemirror_mode": {
    "name": "ipython",
    "version": 3
   },
   "file_extension": ".py",
   "mimetype": "text/x-python",
   "name": "python",
   "nbconvert_exporter": "python",
   "pygments_lexer": "ipython3",
   "version": "3.7.4"
  }
 },
 "nbformat": 4,
 "nbformat_minor": 2
}
