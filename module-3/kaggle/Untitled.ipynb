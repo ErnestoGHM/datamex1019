{
 "cells": [
  {
   "cell_type": "code",
   "execution_count": 1,
   "metadata": {},
   "outputs": [],
   "source": [
    "import pandas as pd"
   ]
  },
  {
   "cell_type": "code",
   "execution_count": 12,
   "metadata": {},
   "outputs": [
    {
     "name": "stdout",
     "output_type": "stream",
     "text": [
      "146.02555280772\n",
      "84.10168790266373\n",
      "7073.093908077053\n"
     ]
    }
   ],
   "source": [
    "example = pd.read_csv('submit_example.csv')\n",
    "print(example.price.mean())\n",
    "print(example.price.std())\n",
    "print(example.price.var())"
   ]
  },
  {
   "cell_type": "code",
   "execution_count": 13,
   "metadata": {},
   "outputs": [
    {
     "name": "stdout",
     "output_type": "stream",
     "text": [
      "155.73270770364792\n",
      "17.790644809598806\n",
      "316.507042741305\n"
     ]
    }
   ],
   "source": [
    "data117 = pd.read_csv('y_pred_ctr_meta_10_1.csv')\n",
    "print(data117.price.mean())\n",
    "print(data117.price.std())\n",
    "print(data117.price.var())"
   ]
  },
  {
   "cell_type": "code",
   "execution_count": 14,
   "metadata": {},
   "outputs": [
    {
     "name": "stdout",
     "output_type": "stream",
     "text": [
      "116.2101701535807\n",
      "16.730160044388665\n",
      "279.89825511085894\n"
     ]
    }
   ],
   "source": [
    "data119 = pd.read_csv('y_pred_elastic_feat_full.csv')\n",
    "print(data119.price.mean())\n",
    "print(data119.price.std())\n",
    "print(data119.price.var())"
   ]
  },
  {
   "cell_type": "code",
   "execution_count": 15,
   "metadata": {},
   "outputs": [
    {
     "name": "stdout",
     "output_type": "stream",
     "text": [
      "171.03522078953824\n",
      "47.10308433412004\n",
      "2218.700553787225\n"
     ]
    }
   ],
   "source": [
    "data125 = pd.read_csv('y_pred_gbr_num_full.csv')\n",
    "print(data125.price.mean())\n",
    "print(data125.price.std())\n",
    "print(data125.price.var())"
   ]
  },
  {
   "cell_type": "code",
   "execution_count": null,
   "metadata": {},
   "outputs": [],
   "source": []
  }
 ],
 "metadata": {
  "kernelspec": {
   "display_name": "Python 3",
   "language": "python",
   "name": "python3"
  },
  "language_info": {
   "codemirror_mode": {
    "name": "ipython",
    "version": 3
   },
   "file_extension": ".py",
   "mimetype": "text/x-python",
   "name": "python",
   "nbconvert_exporter": "python",
   "pygments_lexer": "ipython3",
   "version": "3.7.4"
  }
 },
 "nbformat": 4,
 "nbformat_minor": 2
}
