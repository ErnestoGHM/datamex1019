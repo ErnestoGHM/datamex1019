{
 "cells": [
  {
   "cell_type": "markdown",
   "metadata": {},
   "source": [
    "# Proyecto Kaggle - Airbnb"
   ]
  },
  {
   "cell_type": "markdown",
   "metadata": {},
   "source": [
    "## Importación de librerías y datos"
   ]
  },
  {
   "cell_type": "code",
   "execution_count": 1,
   "metadata": {},
   "outputs": [],
   "source": [
    "import pandas as pd\n",
    "import matplotlib.pyplot as plt\n",
    "import re\n",
    "import seaborn as sns\n",
    "import numpy as np\n",
    "import datetime\n",
    "from dateutil.relativedelta import relativedelta"
   ]
  },
  {
   "cell_type": "code",
   "execution_count": 2,
   "metadata": {},
   "outputs": [
    {
     "data": {
      "text/plain": [
       "(28877, 28)"
      ]
     },
     "execution_count": 2,
     "metadata": {},
     "output_type": "execute_result"
    }
   ],
   "source": [
    "air = pd.read_csv('airbnb_data.csv')\n",
    "air.shape"
   ]
  },
  {
   "cell_type": "markdown",
   "metadata": {},
   "source": [
    "## Limpieza"
   ]
  },
  {
   "cell_type": "code",
   "execution_count": 3,
   "metadata": {},
   "outputs": [
    {
     "name": "stdout",
     "output_type": "stream",
     "text": [
      "<class 'pandas.core.frame.DataFrame'>\n",
      "RangeIndex: 28877 entries, 0 to 28876\n",
      "Data columns (total 28 columns):\n",
      "property_type             28877 non-null object\n",
      "room_type                 28877 non-null object\n",
      "amenities                 28877 non-null object\n",
      "accommodates              28877 non-null int64\n",
      "bathrooms                 28877 non-null float64\n",
      "bed_type                  28877 non-null object\n",
      "cancellation_policy       28877 non-null object\n",
      "cleaning_fee              28877 non-null bool\n",
      "city                      28877 non-null object\n",
      "description               28877 non-null object\n",
      "first_review              28877 non-null object\n",
      "host_has_profile_pic      28877 non-null object\n",
      "host_identity_verified    28877 non-null object\n",
      "host_response_rate        28877 non-null object\n",
      "host_since                28877 non-null object\n",
      "instant_bookable          28877 non-null object\n",
      "last_review               28877 non-null object\n",
      "latitude                  28877 non-null float64\n",
      "longitude                 28877 non-null float64\n",
      "name                      28877 non-null object\n",
      "neighbourhood             28877 non-null object\n",
      "number_of_reviews         28877 non-null int64\n",
      "review_scores_rating      28877 non-null float64\n",
      "thumbnail_url             28877 non-null object\n",
      "zipcode                   28877 non-null object\n",
      "bedrooms                  28877 non-null float64\n",
      "beds                      28877 non-null float64\n",
      "price                     28877 non-null float64\n",
      "dtypes: bool(1), float64(7), int64(2), object(18)\n",
      "memory usage: 6.0+ MB\n"
     ]
    }
   ],
   "source": [
    "air.info()"
   ]
  },
  {
   "cell_type": "code",
   "execution_count": 4,
   "metadata": {},
   "outputs": [
    {
     "data": {
      "text/html": [
       "<div>\n",
       "<style scoped>\n",
       "    .dataframe tbody tr th:only-of-type {\n",
       "        vertical-align: middle;\n",
       "    }\n",
       "\n",
       "    .dataframe tbody tr th {\n",
       "        vertical-align: top;\n",
       "    }\n",
       "\n",
       "    .dataframe thead th {\n",
       "        text-align: right;\n",
       "    }\n",
       "</style>\n",
       "<table border=\"1\" class=\"dataframe\">\n",
       "  <thead>\n",
       "    <tr style=\"text-align: right;\">\n",
       "      <th></th>\n",
       "      <th>property_type</th>\n",
       "      <th>room_type</th>\n",
       "      <th>amenities</th>\n",
       "      <th>accommodates</th>\n",
       "      <th>bathrooms</th>\n",
       "      <th>bed_type</th>\n",
       "      <th>cancellation_policy</th>\n",
       "      <th>cleaning_fee</th>\n",
       "      <th>city</th>\n",
       "      <th>description</th>\n",
       "      <th>...</th>\n",
       "      <th>longitude</th>\n",
       "      <th>name</th>\n",
       "      <th>neighbourhood</th>\n",
       "      <th>number_of_reviews</th>\n",
       "      <th>review_scores_rating</th>\n",
       "      <th>thumbnail_url</th>\n",
       "      <th>zipcode</th>\n",
       "      <th>bedrooms</th>\n",
       "      <th>beds</th>\n",
       "      <th>price</th>\n",
       "    </tr>\n",
       "  </thead>\n",
       "  <tbody>\n",
       "    <tr>\n",
       "      <td>0</td>\n",
       "      <td>Apartment</td>\n",
       "      <td>Entire home/apt</td>\n",
       "      <td>{\"Wireless Internet\",\"Air conditioning\",Kitche...</td>\n",
       "      <td>7</td>\n",
       "      <td>1.0</td>\n",
       "      <td>Real Bed</td>\n",
       "      <td>strict</td>\n",
       "      <td>True</td>\n",
       "      <td>NYC</td>\n",
       "      <td>Enjoy travelling during your stay in Manhattan...</td>\n",
       "      <td>...</td>\n",
       "      <td>-73.989040</td>\n",
       "      <td>Superb 3BR Apt Located Near Times Square</td>\n",
       "      <td>Hell's Kitchen</td>\n",
       "      <td>6</td>\n",
       "      <td>93.0</td>\n",
       "      <td>https://a0.muscache.com/im/pictures/348a55fe-4...</td>\n",
       "      <td>10019</td>\n",
       "      <td>3.0</td>\n",
       "      <td>3.0</td>\n",
       "      <td>169.0</td>\n",
       "    </tr>\n",
       "    <tr>\n",
       "      <td>1</td>\n",
       "      <td>Apartment</td>\n",
       "      <td>Private room</td>\n",
       "      <td>{TV,\"Wireless Internet\",Heating,\"Smoke detecto...</td>\n",
       "      <td>2</td>\n",
       "      <td>1.0</td>\n",
       "      <td>Real Bed</td>\n",
       "      <td>strict</td>\n",
       "      <td>True</td>\n",
       "      <td>SF</td>\n",
       "      <td>Beautiful private room overlooking scenic view...</td>\n",
       "      <td>...</td>\n",
       "      <td>-122.429526</td>\n",
       "      <td>Comfort Suite San Francisco</td>\n",
       "      <td>Noe Valley</td>\n",
       "      <td>3</td>\n",
       "      <td>100.0</td>\n",
       "      <td>https://a0.muscache.com/im/pictures/82509143-4...</td>\n",
       "      <td>94131</td>\n",
       "      <td>1.0</td>\n",
       "      <td>1.0</td>\n",
       "      <td>85.0</td>\n",
       "    </tr>\n",
       "    <tr>\n",
       "      <td>2</td>\n",
       "      <td>Condominium</td>\n",
       "      <td>Entire home/apt</td>\n",
       "      <td>{TV,\"Cable TV\",\"Wireless Internet\",\"Wheelchair...</td>\n",
       "      <td>2</td>\n",
       "      <td>1.0</td>\n",
       "      <td>Real Bed</td>\n",
       "      <td>moderate</td>\n",
       "      <td>True</td>\n",
       "      <td>LA</td>\n",
       "      <td>Arguably the best location (and safest) in dow...</td>\n",
       "      <td>...</td>\n",
       "      <td>-118.260439</td>\n",
       "      <td>Near LA Live, Staple's. Starbucks inside. OWN ...</td>\n",
       "      <td>Downtown</td>\n",
       "      <td>9</td>\n",
       "      <td>93.0</td>\n",
       "      <td>https://a0.muscache.com/im/pictures/61bd05d5-c...</td>\n",
       "      <td>90015</td>\n",
       "      <td>1.0</td>\n",
       "      <td>1.0</td>\n",
       "      <td>120.0</td>\n",
       "    </tr>\n",
       "    <tr>\n",
       "      <td>3</td>\n",
       "      <td>House</td>\n",
       "      <td>Private room</td>\n",
       "      <td>{TV,\"Cable TV\",\"Wireless Internet\",\"Pets live ...</td>\n",
       "      <td>2</td>\n",
       "      <td>1.0</td>\n",
       "      <td>Real Bed</td>\n",
       "      <td>moderate</td>\n",
       "      <td>True</td>\n",
       "      <td>SF</td>\n",
       "      <td>Garden Studio with private entrance from the s...</td>\n",
       "      <td>...</td>\n",
       "      <td>-122.501095</td>\n",
       "      <td>Cozy Garden Studio - Private Entry</td>\n",
       "      <td>Richmond District</td>\n",
       "      <td>159</td>\n",
       "      <td>99.0</td>\n",
       "      <td>https://a0.muscache.com/im/pictures/0ed6c128-7...</td>\n",
       "      <td>94121</td>\n",
       "      <td>1.0</td>\n",
       "      <td>1.0</td>\n",
       "      <td>120.0</td>\n",
       "    </tr>\n",
       "    <tr>\n",
       "      <td>4</td>\n",
       "      <td>Apartment</td>\n",
       "      <td>Private room</td>\n",
       "      <td>{Internet,\"Wireless Internet\",\"Air conditionin...</td>\n",
       "      <td>2</td>\n",
       "      <td>1.0</td>\n",
       "      <td>Real Bed</td>\n",
       "      <td>strict</td>\n",
       "      <td>True</td>\n",
       "      <td>NYC</td>\n",
       "      <td>This is a bright bedroom in an historic buildi...</td>\n",
       "      <td>...</td>\n",
       "      <td>-73.983880</td>\n",
       "      <td>Large East Village Bedroom To Let!</td>\n",
       "      <td>Alphabet City</td>\n",
       "      <td>82</td>\n",
       "      <td>93.0</td>\n",
       "      <td>https://a0.muscache.com/im/pictures/21726900/1...</td>\n",
       "      <td>10009.0</td>\n",
       "      <td>1.0</td>\n",
       "      <td>1.0</td>\n",
       "      <td>100.0</td>\n",
       "    </tr>\n",
       "  </tbody>\n",
       "</table>\n",
       "<p>5 rows × 28 columns</p>\n",
       "</div>"
      ],
      "text/plain": [
       "  property_type        room_type  \\\n",
       "0     Apartment  Entire home/apt   \n",
       "1     Apartment     Private room   \n",
       "2   Condominium  Entire home/apt   \n",
       "3         House     Private room   \n",
       "4     Apartment     Private room   \n",
       "\n",
       "                                           amenities  accommodates  bathrooms  \\\n",
       "0  {\"Wireless Internet\",\"Air conditioning\",Kitche...             7        1.0   \n",
       "1  {TV,\"Wireless Internet\",Heating,\"Smoke detecto...             2        1.0   \n",
       "2  {TV,\"Cable TV\",\"Wireless Internet\",\"Wheelchair...             2        1.0   \n",
       "3  {TV,\"Cable TV\",\"Wireless Internet\",\"Pets live ...             2        1.0   \n",
       "4  {Internet,\"Wireless Internet\",\"Air conditionin...             2        1.0   \n",
       "\n",
       "   bed_type cancellation_policy  cleaning_fee city  \\\n",
       "0  Real Bed              strict          True  NYC   \n",
       "1  Real Bed              strict          True   SF   \n",
       "2  Real Bed            moderate          True   LA   \n",
       "3  Real Bed            moderate          True   SF   \n",
       "4  Real Bed              strict          True  NYC   \n",
       "\n",
       "                                         description  ...   longitude  \\\n",
       "0  Enjoy travelling during your stay in Manhattan...  ...  -73.989040   \n",
       "1  Beautiful private room overlooking scenic view...  ... -122.429526   \n",
       "2  Arguably the best location (and safest) in dow...  ... -118.260439   \n",
       "3  Garden Studio with private entrance from the s...  ... -122.501095   \n",
       "4  This is a bright bedroom in an historic buildi...  ...  -73.983880   \n",
       "\n",
       "                                                name      neighbourhood  \\\n",
       "0           Superb 3BR Apt Located Near Times Square     Hell's Kitchen   \n",
       "1                        Comfort Suite San Francisco         Noe Valley   \n",
       "2  Near LA Live, Staple's. Starbucks inside. OWN ...           Downtown   \n",
       "3                 Cozy Garden Studio - Private Entry  Richmond District   \n",
       "4                 Large East Village Bedroom To Let!      Alphabet City   \n",
       "\n",
       "  number_of_reviews review_scores_rating  \\\n",
       "0                 6                 93.0   \n",
       "1                 3                100.0   \n",
       "2                 9                 93.0   \n",
       "3               159                 99.0   \n",
       "4                82                 93.0   \n",
       "\n",
       "                                       thumbnail_url  zipcode  bedrooms  beds  \\\n",
       "0  https://a0.muscache.com/im/pictures/348a55fe-4...    10019       3.0   3.0   \n",
       "1  https://a0.muscache.com/im/pictures/82509143-4...    94131       1.0   1.0   \n",
       "2  https://a0.muscache.com/im/pictures/61bd05d5-c...    90015       1.0   1.0   \n",
       "3  https://a0.muscache.com/im/pictures/0ed6c128-7...    94121       1.0   1.0   \n",
       "4  https://a0.muscache.com/im/pictures/21726900/1...  10009.0       1.0   1.0   \n",
       "\n",
       "   price  \n",
       "0  169.0  \n",
       "1   85.0  \n",
       "2  120.0  \n",
       "3  120.0  \n",
       "4  100.0  \n",
       "\n",
       "[5 rows x 28 columns]"
      ]
     },
     "execution_count": 4,
     "metadata": {},
     "output_type": "execute_result"
    }
   ],
   "source": [
    "air.head()"
   ]
  },
  {
   "cell_type": "markdown",
   "metadata": {},
   "source": [
    "### Property Type"
   ]
  },
  {
   "cell_type": "code",
   "execution_count": 5,
   "metadata": {},
   "outputs": [],
   "source": [
    "prop_v_price = air.pivot_table(index = 'property_type', values = 'price', aggfunc = 'mean')\n",
    "prop_count = air.pivot_table(index = 'property_type', values = 'room_type', aggfunc = 'count')\n",
    "prop_v_price = prop_count.join(prop_v_price, on = 'property_type').sort_values('price',ascending=False)"
   ]
  },
  {
   "cell_type": "code",
   "execution_count": 6,
   "metadata": {
    "scrolled": true
   },
   "outputs": [
    {
     "data": {
      "text/html": [
       "<div>\n",
       "<style scoped>\n",
       "    .dataframe tbody tr th:only-of-type {\n",
       "        vertical-align: middle;\n",
       "    }\n",
       "\n",
       "    .dataframe tbody tr th {\n",
       "        vertical-align: top;\n",
       "    }\n",
       "\n",
       "    .dataframe thead th {\n",
       "        text-align: right;\n",
       "    }\n",
       "</style>\n",
       "<table border=\"1\" class=\"dataframe\">\n",
       "  <thead>\n",
       "    <tr style=\"text-align: right;\">\n",
       "      <th></th>\n",
       "      <th>room_type</th>\n",
       "      <th>price</th>\n",
       "    </tr>\n",
       "  </thead>\n",
       "  <tbody>\n",
       "    <tr>\n",
       "      <td>count</td>\n",
       "      <td>30.000000</td>\n",
       "      <td>30.000000</td>\n",
       "    </tr>\n",
       "    <tr>\n",
       "      <td>mean</td>\n",
       "      <td>962.566667</td>\n",
       "      <td>173.185714</td>\n",
       "    </tr>\n",
       "    <tr>\n",
       "      <td>std</td>\n",
       "      <td>3535.770176</td>\n",
       "      <td>136.809867</td>\n",
       "    </tr>\n",
       "    <tr>\n",
       "      <td>min</td>\n",
       "      <td>1.000000</td>\n",
       "      <td>47.016393</td>\n",
       "    </tr>\n",
       "    <tr>\n",
       "      <td>25%</td>\n",
       "      <td>4.750000</td>\n",
       "      <td>107.349042</td>\n",
       "    </tr>\n",
       "    <tr>\n",
       "      <td>50%</td>\n",
       "      <td>29.000000</td>\n",
       "      <td>136.950000</td>\n",
       "    </tr>\n",
       "    <tr>\n",
       "      <td>75%</td>\n",
       "      <td>202.000000</td>\n",
       "      <td>180.750000</td>\n",
       "    </tr>\n",
       "    <tr>\n",
       "      <td>max</td>\n",
       "      <td>18543.000000</td>\n",
       "      <td>797.500000</td>\n",
       "    </tr>\n",
       "  </tbody>\n",
       "</table>\n",
       "</div>"
      ],
      "text/plain": [
       "          room_type       price\n",
       "count     30.000000   30.000000\n",
       "mean     962.566667  173.185714\n",
       "std     3535.770176  136.809867\n",
       "min        1.000000   47.016393\n",
       "25%        4.750000  107.349042\n",
       "50%       29.000000  136.950000\n",
       "75%      202.000000  180.750000\n",
       "max    18543.000000  797.500000"
      ]
     },
     "execution_count": 6,
     "metadata": {},
     "output_type": "execute_result"
    }
   ],
   "source": [
    "prop_v_price.describe()"
   ]
  },
  {
   "cell_type": "code",
   "execution_count": 7,
   "metadata": {},
   "outputs": [
    {
     "data": {
      "text/plain": [
       "(30, 2)"
      ]
     },
     "execution_count": 7,
     "metadata": {},
     "output_type": "execute_result"
    }
   ],
   "source": [
    "prop_v_price.shape"
   ]
  },
  {
   "cell_type": "code",
   "execution_count": 8,
   "metadata": {},
   "outputs": [
    {
     "data": {
      "text/html": [
       "<div>\n",
       "<style scoped>\n",
       "    .dataframe tbody tr th:only-of-type {\n",
       "        vertical-align: middle;\n",
       "    }\n",
       "\n",
       "    .dataframe tbody tr th {\n",
       "        vertical-align: top;\n",
       "    }\n",
       "\n",
       "    .dataframe thead th {\n",
       "        text-align: right;\n",
       "    }\n",
       "</style>\n",
       "<table border=\"1\" class=\"dataframe\">\n",
       "  <thead>\n",
       "    <tr style=\"text-align: right;\">\n",
       "      <th></th>\n",
       "      <th>room_type</th>\n",
       "      <th>price</th>\n",
       "    </tr>\n",
       "    <tr>\n",
       "      <th>property_type</th>\n",
       "      <th></th>\n",
       "      <th></th>\n",
       "    </tr>\n",
       "  </thead>\n",
       "  <tbody>\n",
       "    <tr>\n",
       "      <td>Treehouse</td>\n",
       "      <td>2</td>\n",
       "      <td>797.500000</td>\n",
       "    </tr>\n",
       "    <tr>\n",
       "      <td>Villa</td>\n",
       "      <td>54</td>\n",
       "      <td>344.925926</td>\n",
       "    </tr>\n",
       "    <tr>\n",
       "      <td>Timeshare</td>\n",
       "      <td>26</td>\n",
       "      <td>316.461538</td>\n",
       "    </tr>\n",
       "    <tr>\n",
       "      <td>Castle</td>\n",
       "      <td>9</td>\n",
       "      <td>254.333333</td>\n",
       "    </tr>\n",
       "    <tr>\n",
       "      <td>Tipi</td>\n",
       "      <td>3</td>\n",
       "      <td>232.333333</td>\n",
       "    </tr>\n",
       "    <tr>\n",
       "      <td>Boat</td>\n",
       "      <td>22</td>\n",
       "      <td>222.772727</td>\n",
       "    </tr>\n",
       "    <tr>\n",
       "      <td>Loft</td>\n",
       "      <td>552</td>\n",
       "      <td>192.530797</td>\n",
       "    </tr>\n",
       "    <tr>\n",
       "      <td>Vacation home</td>\n",
       "      <td>4</td>\n",
       "      <td>181.000000</td>\n",
       "    </tr>\n",
       "    <tr>\n",
       "      <td>Earth House</td>\n",
       "      <td>2</td>\n",
       "      <td>180.000000</td>\n",
       "    </tr>\n",
       "    <tr>\n",
       "      <td>Condominium</td>\n",
       "      <td>1081</td>\n",
       "      <td>177.737280</td>\n",
       "    </tr>\n",
       "    <tr>\n",
       "      <td>House</td>\n",
       "      <td>6655</td>\n",
       "      <td>157.875131</td>\n",
       "    </tr>\n",
       "    <tr>\n",
       "      <td>Townhouse</td>\n",
       "      <td>720</td>\n",
       "      <td>154.329167</td>\n",
       "    </tr>\n",
       "    <tr>\n",
       "      <td>Other</td>\n",
       "      <td>260</td>\n",
       "      <td>149.973077</td>\n",
       "    </tr>\n",
       "    <tr>\n",
       "      <td>Apartment</td>\n",
       "      <td>18543</td>\n",
       "      <td>139.316400</td>\n",
       "    </tr>\n",
       "    <tr>\n",
       "      <td>Boutique hotel</td>\n",
       "      <td>20</td>\n",
       "      <td>137.900000</td>\n",
       "    </tr>\n",
       "    <tr>\n",
       "      <td>Cave</td>\n",
       "      <td>2</td>\n",
       "      <td>136.000000</td>\n",
       "    </tr>\n",
       "    <tr>\n",
       "      <td>Serviced apartment</td>\n",
       "      <td>9</td>\n",
       "      <td>135.444444</td>\n",
       "    </tr>\n",
       "    <tr>\n",
       "      <td>Chalet</td>\n",
       "      <td>4</td>\n",
       "      <td>135.000000</td>\n",
       "    </tr>\n",
       "    <tr>\n",
       "      <td>In-law</td>\n",
       "      <td>44</td>\n",
       "      <td>134.113636</td>\n",
       "    </tr>\n",
       "    <tr>\n",
       "      <td>Bungalow</td>\n",
       "      <td>166</td>\n",
       "      <td>130.753012</td>\n",
       "    </tr>\n",
       "    <tr>\n",
       "      <td>Guest suite</td>\n",
       "      <td>72</td>\n",
       "      <td>128.236111</td>\n",
       "    </tr>\n",
       "    <tr>\n",
       "      <td>Guesthouse</td>\n",
       "      <td>248</td>\n",
       "      <td>114.677419</td>\n",
       "    </tr>\n",
       "    <tr>\n",
       "      <td>Cabin</td>\n",
       "      <td>32</td>\n",
       "      <td>104.906250</td>\n",
       "    </tr>\n",
       "    <tr>\n",
       "      <td>Bed &amp; Breakfast</td>\n",
       "      <td>214</td>\n",
       "      <td>104.598131</td>\n",
       "    </tr>\n",
       "    <tr>\n",
       "      <td>Yurt</td>\n",
       "      <td>1</td>\n",
       "      <td>100.000000</td>\n",
       "    </tr>\n",
       "    <tr>\n",
       "      <td>Camper/RV</td>\n",
       "      <td>24</td>\n",
       "      <td>99.833333</td>\n",
       "    </tr>\n",
       "    <tr>\n",
       "      <td>Hut</td>\n",
       "      <td>4</td>\n",
       "      <td>69.750000</td>\n",
       "    </tr>\n",
       "    <tr>\n",
       "      <td>Tent</td>\n",
       "      <td>7</td>\n",
       "      <td>68.142857</td>\n",
       "    </tr>\n",
       "    <tr>\n",
       "      <td>Hostel</td>\n",
       "      <td>36</td>\n",
       "      <td>48.111111</td>\n",
       "    </tr>\n",
       "    <tr>\n",
       "      <td>Dorm</td>\n",
       "      <td>61</td>\n",
       "      <td>47.016393</td>\n",
       "    </tr>\n",
       "  </tbody>\n",
       "</table>\n",
       "</div>"
      ],
      "text/plain": [
       "                    room_type       price\n",
       "property_type                            \n",
       "Treehouse                   2  797.500000\n",
       "Villa                      54  344.925926\n",
       "Timeshare                  26  316.461538\n",
       "Castle                      9  254.333333\n",
       "Tipi                        3  232.333333\n",
       "Boat                       22  222.772727\n",
       "Loft                      552  192.530797\n",
       "Vacation home               4  181.000000\n",
       "Earth House                 2  180.000000\n",
       "Condominium              1081  177.737280\n",
       "House                    6655  157.875131\n",
       "Townhouse                 720  154.329167\n",
       "Other                     260  149.973077\n",
       "Apartment               18543  139.316400\n",
       "Boutique hotel             20  137.900000\n",
       "Cave                        2  136.000000\n",
       "Serviced apartment          9  135.444444\n",
       "Chalet                      4  135.000000\n",
       "In-law                     44  134.113636\n",
       "Bungalow                  166  130.753012\n",
       "Guest suite                72  128.236111\n",
       "Guesthouse                248  114.677419\n",
       "Cabin                      32  104.906250\n",
       "Bed & Breakfast           214  104.598131\n",
       "Yurt                        1  100.000000\n",
       "Camper/RV                  24   99.833333\n",
       "Hut                         4   69.750000\n",
       "Tent                        7   68.142857\n",
       "Hostel                     36   48.111111\n",
       "Dorm                       61   47.016393"
      ]
     },
     "execution_count": 8,
     "metadata": {},
     "output_type": "execute_result"
    }
   ],
   "source": [
    "prop_v_price"
   ]
  },
  {
   "cell_type": "markdown",
   "metadata": {},
   "source": [
    "Se reducirán las categorías de property_type, agrupando las que están arriba del percentil 75 como \"Luxury\", y las que están debajo del percentil 25 como \"Low\". Adicionalmente, se agruparán dentro de la categoría 'Other', a todas los tipos con baja frecuencia, que no estén en los dos conjuntos definidos anteriormente."
   ]
  },
  {
   "cell_type": "code",
   "execution_count": 9,
   "metadata": {},
   "outputs": [],
   "source": [
    "luxury = ['Treehouse','Villa','Timeshare','Castle','Tipi','Boat','Loft','Vacation home']\n",
    "low = ['Cabin','Bed & Breakfast','Yurt','Camper/RV','Hut','Tent','Hostel','Dorm']\n",
    "other = ['Guest suite','In-law','Boutique hotel','Serviced apartment','Chalet','Cave','Earth House','Train']"
   ]
  },
  {
   "cell_type": "code",
   "execution_count": 10,
   "metadata": {},
   "outputs": [],
   "source": [
    "air.property_type = air.property_type.apply(lambda x : 'Luxury' if x in luxury else x)\\\n",
    "                                     .apply(lambda x : 'Low' if x in low else x)\\\n",
    "                                     .apply(lambda x : 'Other' if x in other else x)"
   ]
  },
  {
   "cell_type": "code",
   "execution_count": 11,
   "metadata": {},
   "outputs": [
    {
     "data": {
      "text/plain": [
       "Apartment      18543\n",
       "House           6655\n",
       "Condominium     1081\n",
       "Townhouse        720\n",
       "Luxury           672\n",
       "Other            413\n",
       "Low              379\n",
       "Guesthouse       248\n",
       "Bungalow         166\n",
       "Name: property_type, dtype: int64"
      ]
     },
     "execution_count": 11,
     "metadata": {},
     "output_type": "execute_result"
    }
   ],
   "source": [
    "air.property_type.value_counts()"
   ]
  },
  {
   "cell_type": "markdown",
   "metadata": {},
   "source": [
    "A continuación, se generarán dummies para property_value, y se eliminará la columna original."
   ]
  },
  {
   "cell_type": "code",
   "execution_count": 12,
   "metadata": {},
   "outputs": [],
   "source": [
    "air_prop_type = pd.get_dummies(air.property_type, drop_first=True)\n",
    "air = pd.concat([air,air_prop_type],axis = 1)\n",
    "air.drop('property_type',axis = 1,inplace = True)"
   ]
  },
  {
   "cell_type": "markdown",
   "metadata": {},
   "source": [
    "### Room Type"
   ]
  },
  {
   "cell_type": "code",
   "execution_count": 13,
   "metadata": {},
   "outputs": [
    {
     "data": {
      "text/plain": [
       "Entire home/apt    16158\n",
       "Private room       11993\n",
       "Shared room          726\n",
       "Name: room_type, dtype: int64"
      ]
     },
     "execution_count": 13,
     "metadata": {},
     "output_type": "execute_result"
    }
   ],
   "source": [
    "air.room_type.value_counts()"
   ]
  },
  {
   "cell_type": "code",
   "execution_count": 14,
   "metadata": {},
   "outputs": [
    {
     "data": {
      "text/html": [
       "<div>\n",
       "<style scoped>\n",
       "    .dataframe tbody tr th:only-of-type {\n",
       "        vertical-align: middle;\n",
       "    }\n",
       "\n",
       "    .dataframe tbody tr th {\n",
       "        vertical-align: top;\n",
       "    }\n",
       "\n",
       "    .dataframe thead th {\n",
       "        text-align: right;\n",
       "    }\n",
       "</style>\n",
       "<table border=\"1\" class=\"dataframe\">\n",
       "  <thead>\n",
       "    <tr style=\"text-align: right;\">\n",
       "      <th></th>\n",
       "      <th>price</th>\n",
       "    </tr>\n",
       "    <tr>\n",
       "      <th>room_type</th>\n",
       "      <th></th>\n",
       "    </tr>\n",
       "  </thead>\n",
       "  <tbody>\n",
       "    <tr>\n",
       "      <td>Entire home/apt</td>\n",
       "      <td>198.166790</td>\n",
       "    </tr>\n",
       "    <tr>\n",
       "      <td>Private room</td>\n",
       "      <td>81.995331</td>\n",
       "    </tr>\n",
       "    <tr>\n",
       "      <td>Shared room</td>\n",
       "      <td>52.694215</td>\n",
       "    </tr>\n",
       "  </tbody>\n",
       "</table>\n",
       "</div>"
      ],
      "text/plain": [
       "                      price\n",
       "room_type                  \n",
       "Entire home/apt  198.166790\n",
       "Private room      81.995331\n",
       "Shared room       52.694215"
      ]
     },
     "execution_count": 14,
     "metadata": {},
     "output_type": "execute_result"
    }
   ],
   "source": [
    "room_v_price = air.pivot_table(index = 'room_type', values = 'price', aggfunc = 'mean')\n",
    "room_v_price"
   ]
  },
  {
   "cell_type": "markdown",
   "metadata": {},
   "source": [
    "Se identifica que el precio promedio es de casi el doble para la categoría 'Entire home/apt' vs 'Private room', mientras que 'shared' es poco más de la mitad. Se asignarán valores numéricos proporcionales, para evitar agregar columnas."
   ]
  },
  {
   "cell_type": "code",
   "execution_count": 15,
   "metadata": {},
   "outputs": [],
   "source": [
    "entire = room_v_price.loc['Entire home/apt']/room_v_price.loc['Entire home/apt']\n",
    "private = room_v_price.loc['Private room']/room_v_price.loc['Entire home/apt']\n",
    "shared = room_v_price.loc['Shared room']/room_v_price.loc['Entire home/apt']"
   ]
  },
  {
   "cell_type": "code",
   "execution_count": 16,
   "metadata": {},
   "outputs": [],
   "source": [
    "air.room_type = air.room_type.apply(lambda x : entire[0] if x == 'Entire home/apt' else x)\\\n",
    "            .apply(lambda x : private[0] if x == 'Private room' else x)\\\n",
    "            .apply(lambda x : shared[0] if x == 'Shared room' else x)"
   ]
  },
  {
   "cell_type": "code",
   "execution_count": 17,
   "metadata": {},
   "outputs": [
    {
     "data": {
      "text/plain": [
       "1.000000    16158\n",
       "0.413769    11993\n",
       "0.265908      726\n",
       "Name: room_type, dtype: int64"
      ]
     },
     "execution_count": 17,
     "metadata": {},
     "output_type": "execute_result"
    }
   ],
   "source": [
    "air.room_type.value_counts()"
   ]
  },
  {
   "cell_type": "markdown",
   "metadata": {},
   "source": [
    "### Amenities"
   ]
  },
  {
   "cell_type": "markdown",
   "metadata": {},
   "source": [
    "Revisando los valores de esta columna, se identifica que son valores string de items con los que cuentan las propiedades rentadas. Con el fin de no eliminar la columna por el momento, se procederá a medir la longitud del texto, asumiendo que entre más largo, más amenidades tiene.\n",
    "Sin embargo, dentro de los valores revisados, se identificó que existen los siguientes textos: \"translation missing: en.hosting_amenity_49\" y \"translation missing: en.hosting_amenity_50, y se asume que son errores de captura en la aplicación. Antes de medir la longitud de textos, se eliminan dichas frases."
   ]
  },
  {
   "cell_type": "code",
   "execution_count": 18,
   "metadata": {},
   "outputs": [],
   "source": [
    "air.amenities = air.amenities.str.replace('\"translation missing: en.hosting_amenity_49\"','')\\\n",
    "                             .str.replace('\"translation missing: en.hosting_amenity_50\"','').str.split(',')"
   ]
  },
  {
   "cell_type": "code",
   "execution_count": 19,
   "metadata": {},
   "outputs": [],
   "source": [
    "amen = pd.DataFrame(air.amenities.apply(lambda x : len(x)))\n",
    "amen.columns = ['amenity_items']"
   ]
  },
  {
   "cell_type": "code",
   "execution_count": 20,
   "metadata": {},
   "outputs": [],
   "source": [
    "air = pd.concat([air,amen],axis = 1)"
   ]
  },
  {
   "cell_type": "code",
   "execution_count": 21,
   "metadata": {},
   "outputs": [],
   "source": [
    "air.drop('amenities',axis = 1, inplace = True)"
   ]
  },
  {
   "cell_type": "markdown",
   "metadata": {},
   "source": [
    "### Bed Type"
   ]
  },
  {
   "cell_type": "code",
   "execution_count": 22,
   "metadata": {},
   "outputs": [
    {
     "data": {
      "text/plain": [
       "Real Bed         28092\n",
       "Futon              319\n",
       "Pull-out Sofa      246\n",
       "Airbed             146\n",
       "Couch               74\n",
       "Name: bed_type, dtype: int64"
      ]
     },
     "execution_count": 22,
     "metadata": {},
     "output_type": "execute_result"
    }
   ],
   "source": [
    "air.bed_type.value_counts()"
   ]
  },
  {
   "cell_type": "markdown",
   "metadata": {},
   "source": [
    "De la revisión del conteo de valores, se identifica que la mayor parte de los datos tiene \"Real Bed\", por lo que se decide eliminar la columna, toda vez que su información no aporta información."
   ]
  },
  {
   "cell_type": "code",
   "execution_count": 23,
   "metadata": {},
   "outputs": [],
   "source": [
    "air.drop('bed_type',axis = 1, inplace = True)"
   ]
  },
  {
   "cell_type": "markdown",
   "metadata": {},
   "source": [
    "### Cancellation Policy"
   ]
  },
  {
   "cell_type": "code",
   "execution_count": 24,
   "metadata": {},
   "outputs": [
    {
     "data": {
      "text/plain": [
       "strict             14816\n",
       "moderate            8492\n",
       "flexible            5539\n",
       "super_strict_30       25\n",
       "super_strict_60        5\n",
       "Name: cancellation_policy, dtype: int64"
      ]
     },
     "execution_count": 24,
     "metadata": {},
     "output_type": "execute_result"
    }
   ],
   "source": [
    "air.cancellation_policy.value_counts()"
   ]
  },
  {
   "cell_type": "markdown",
   "metadata": {},
   "source": [
    "Se identifica que de las 5 cateogorías, 3 son muy parecidas (las 'strict'), por lo que se integran en una sola."
   ]
  },
  {
   "cell_type": "code",
   "execution_count": 25,
   "metadata": {},
   "outputs": [],
   "source": [
    "air.cancellation_policy = air.cancellation_policy.str.replace('super_strict_30','strict')\\\n",
    "                             .str.replace('super_strict_60','strict')"
   ]
  },
  {
   "cell_type": "code",
   "execution_count": 28,
   "metadata": {},
   "outputs": [],
   "source": [
    "air_canc_pol = pd.get_dummies(air.cancellation_policy, drop_first=True)\n",
    "air = pd.concat([air,air_canc_pol],axis = 1)\n",
    "air.drop('cancellation_policy',axis = 1,inplace = True)"
   ]
  },
  {
   "cell_type": "markdown",
   "metadata": {},
   "source": [
    "### Cleaning Fee\n",
    "\n",
    "Esta columna cuenta con valores booleanos, por lo que se genera una columna de dummies, en donde 1 es True y 0 es False."
   ]
  },
  {
   "cell_type": "code",
   "execution_count": 29,
   "metadata": {},
   "outputs": [],
   "source": [
    "air_clean_fee = pd.get_dummies(air.cleaning_fee, drop_first=True)\n",
    "air_clean_fee.columns = ['clean_fee']\n",
    "air = pd.concat([air,air_clean_fee],axis = 1)\n",
    "air.drop('cleaning_fee',axis = 1,inplace = True)"
   ]
  },
  {
   "cell_type": "markdown",
   "metadata": {},
   "source": [
    "### City\n",
    "\n",
    "En esta columna, se encuentra que hay pocos valores de ciudades, lo cual es óptimo para hacer columnas de dummies, ya que se estima que esta columna es muy importante para la predicción de los precios."
   ]
  },
  {
   "cell_type": "code",
   "execution_count": 30,
   "metadata": {},
   "outputs": [],
   "source": [
    "air_city = pd.get_dummies(air.city, drop_first=True)\n",
    "air = pd.concat([air,air_city],axis = 1)\n",
    "air.drop('city',axis = 1,inplace = True)"
   ]
  },
  {
   "cell_type": "markdown",
   "metadata": {},
   "source": [
    "### Description\n",
    "\n",
    "Para este caso, se realiza un análisis similar al de \"amenities\".\n",
    "Se encuentra que la mayor parte de la información está contenida en strings de 1000, por lo que se considera que la columna no tendrá valor en el modelo."
   ]
  },
  {
   "cell_type": "code",
   "execution_count": 31,
   "metadata": {},
   "outputs": [
    {
     "data": {
      "text/plain": [
       "1000    19253\n",
       "250        83\n",
       "499        64\n",
       "500        58\n",
       "497        55\n",
       "        ...  \n",
       "40          1\n",
       "26          1\n",
       "10          1\n",
       "41          1\n",
       "89          1\n",
       "Name: desc_len, Length: 987, dtype: int64"
      ]
     },
     "execution_count": 31,
     "metadata": {},
     "output_type": "execute_result"
    }
   ],
   "source": [
    "desc = pd.DataFrame(air.description.apply(lambda x : len(x)))\n",
    "desc.columns = ['desc_len']\n",
    "desc.desc_len.value_counts()"
   ]
  },
  {
   "cell_type": "code",
   "execution_count": 32,
   "metadata": {},
   "outputs": [],
   "source": [
    "air.drop('description',axis = 1, inplace = True)"
   ]
  },
  {
   "cell_type": "markdown",
   "metadata": {},
   "source": [
    "### Columnas de fechas\n",
    "\n",
    "Existen tres columnas que contienen datos de fechas (en string): 'First Review', 'Last_review' y 'Host Since'.\n",
    "Dado que no estamos interesados en su temporalidad, sino en tal vez en el tiempo transcurrido (i.e. experiencia), se procede a crear columnas con valores delta hasta el día hoy, de manera que tengamos 3 columnas numéricas que indiquen dichos diferenciales."
   ]
  },
  {
   "cell_type": "code",
   "execution_count": 33,
   "metadata": {},
   "outputs": [],
   "source": [
    "air['today'] = pd.Timestamp.today()"
   ]
  },
  {
   "cell_type": "code",
   "execution_count": 34,
   "metadata": {},
   "outputs": [],
   "source": [
    "air['delta_first'] = (air.today - pd.to_datetime(air.first_review) )/np.timedelta64(1,'Y')"
   ]
  },
  {
   "cell_type": "code",
   "execution_count": 35,
   "metadata": {},
   "outputs": [],
   "source": [
    "air['delta_last'] = (air.today - pd.to_datetime(air.last_review) )/np.timedelta64(1,'Y')"
   ]
  },
  {
   "cell_type": "code",
   "execution_count": 36,
   "metadata": {},
   "outputs": [],
   "source": [
    "air['delta_host'] = (air.today - pd.to_datetime(air.host_since) )/np.timedelta64(1,'Y')"
   ]
  },
  {
   "cell_type": "code",
   "execution_count": 37,
   "metadata": {},
   "outputs": [],
   "source": [
    "air.drop(['first_review','host_since','last_review','today'],axis = 1, inplace = True)"
   ]
  },
  {
   "cell_type": "markdown",
   "metadata": {},
   "source": [
    "### Host response rate\n",
    "\n",
    "Esta columna tiene valores porcentuales en string, se procede a transformar a valores numéricos entre 0 y 1."
   ]
  },
  {
   "cell_type": "code",
   "execution_count": 38,
   "metadata": {},
   "outputs": [],
   "source": [
    "air.host_response_rate = air.host_response_rate.apply(lambda x : float(x.split('%')[0])/100)"
   ]
  },
  {
   "cell_type": "markdown",
   "metadata": {},
   "source": [
    "### Columnas Profile Pic, Identity Verified e Instant Bookable\n",
    "\n",
    "Estas tres columnas tienen valores booleanos, en texto.\n",
    "Revisando los conteos de valores, se decide descartar host profile, y transformar las otras dos a dummies."
   ]
  },
  {
   "cell_type": "code",
   "execution_count": 39,
   "metadata": {},
   "outputs": [
    {
     "data": {
      "text/plain": [
       "t    28829\n",
       "f       48\n",
       "Name: host_has_profile_pic, dtype: int64"
      ]
     },
     "execution_count": 39,
     "metadata": {},
     "output_type": "execute_result"
    }
   ],
   "source": [
    "air.host_has_profile_pic.value_counts()"
   ]
  },
  {
   "cell_type": "code",
   "execution_count": 40,
   "metadata": {},
   "outputs": [],
   "source": [
    "air.drop('host_has_profile_pic',axis = 1, inplace = True)"
   ]
  },
  {
   "cell_type": "code",
   "execution_count": 41,
   "metadata": {},
   "outputs": [
    {
     "data": {
      "text/plain": [
       "t    20923\n",
       "f     7954\n",
       "Name: host_identity_verified, dtype: int64"
      ]
     },
     "execution_count": 41,
     "metadata": {},
     "output_type": "execute_result"
    }
   ],
   "source": [
    "air.host_identity_verified.value_counts()"
   ]
  },
  {
   "cell_type": "code",
   "execution_count": 42,
   "metadata": {},
   "outputs": [],
   "source": [
    "air_verified = pd.get_dummies(air.host_identity_verified, drop_first = True)\n",
    "air_verified.columns = ['verified']\n",
    "air = pd.concat([air,air_verified],axis = 1)\n",
    "air.drop('host_identity_verified',axis = 1,inplace = True)"
   ]
  },
  {
   "cell_type": "code",
   "execution_count": 43,
   "metadata": {},
   "outputs": [
    {
     "data": {
      "text/plain": [
       "f    20005\n",
       "t     8872\n",
       "Name: instant_bookable, dtype: int64"
      ]
     },
     "execution_count": 43,
     "metadata": {},
     "output_type": "execute_result"
    }
   ],
   "source": [
    "air.instant_bookable.value_counts()"
   ]
  },
  {
   "cell_type": "code",
   "execution_count": 44,
   "metadata": {},
   "outputs": [],
   "source": [
    "air_instant = pd.get_dummies(air.instant_bookable, drop_first = True)\n",
    "air_instant.columns = ['instant']\n",
    "air = pd.concat([air,air_instant],axis = 1)\n",
    "air.drop('instant_bookable',axis = 1,inplace = True)"
   ]
  },
  {
   "cell_type": "markdown",
   "metadata": {},
   "source": [
    "### Columnas name, neighbourhood y thumbnail_url\n",
    "\n",
    "De la revisión de los valores de estas columnas se decide descartar las tres, toda vez que casi todos son strings únicos."
   ]
  },
  {
   "cell_type": "code",
   "execution_count": 45,
   "metadata": {},
   "outputs": [],
   "source": [
    "air.drop('name',axis = 1, inplace = True)"
   ]
  },
  {
   "cell_type": "code",
   "execution_count": 46,
   "metadata": {},
   "outputs": [],
   "source": [
    "air.drop('neighbourhood',axis = 1, inplace = True)"
   ]
  },
  {
   "cell_type": "code",
   "execution_count": 47,
   "metadata": {},
   "outputs": [],
   "source": [
    "air.drop('thumbnail_url',axis = 1, inplace = True)"
   ]
  },
  {
   "cell_type": "markdown",
   "metadata": {},
   "source": [
    "### Columna zipcode\n",
    "\n",
    "Los valores de esta columna son strings en los que algunos se tienen caracteres como puntos (.) y giones (-). Toda vez que los códigos postales son en su mayoría números de 5 dígitos, se procede a estandarizar la columna de esta forma."
   ]
  },
  {
   "cell_type": "code",
   "execution_count": 48,
   "metadata": {},
   "outputs": [],
   "source": [
    "air.zipcode = air.zipcode.apply(lambda x : re.findall('^\\d+',x)).apply(lambda x : pd.to_numeric(x[0]))"
   ]
  },
  {
   "cell_type": "markdown",
   "metadata": {},
   "source": [
    "## Dataframe limpia"
   ]
  },
  {
   "cell_type": "code",
   "execution_count": 49,
   "metadata": {},
   "outputs": [
    {
     "name": "stdout",
     "output_type": "stream",
     "text": [
      "<class 'pandas.core.frame.DataFrame'>\n",
      "RangeIndex: 28877 entries, 0 to 28876\n",
      "Data columns (total 34 columns):\n",
      "room_type               28877 non-null float64\n",
      "accommodates            28877 non-null int64\n",
      "bathrooms               28877 non-null float64\n",
      "host_response_rate      28877 non-null float64\n",
      "latitude                28877 non-null float64\n",
      "longitude               28877 non-null float64\n",
      "number_of_reviews       28877 non-null int64\n",
      "review_scores_rating    28877 non-null float64\n",
      "zipcode                 28877 non-null int64\n",
      "bedrooms                28877 non-null float64\n",
      "beds                    28877 non-null float64\n",
      "price                   28877 non-null float64\n",
      "Bungalow                28877 non-null uint8\n",
      "Condominium             28877 non-null uint8\n",
      "Guesthouse              28877 non-null uint8\n",
      "House                   28877 non-null uint8\n",
      "Low                     28877 non-null uint8\n",
      "Luxury                  28877 non-null uint8\n",
      "Other                   28877 non-null uint8\n",
      "Townhouse               28877 non-null uint8\n",
      "amenity_items           28877 non-null int64\n",
      "moderate                28877 non-null uint8\n",
      "strict                  28877 non-null uint8\n",
      "clean_fee               28877 non-null uint8\n",
      "Chicago                 28877 non-null uint8\n",
      "DC                      28877 non-null uint8\n",
      "LA                      28877 non-null uint8\n",
      "NYC                     28877 non-null uint8\n",
      "SF                      28877 non-null uint8\n",
      "delta_first             28877 non-null float64\n",
      "delta_last              28877 non-null float64\n",
      "delta_host              28877 non-null float64\n",
      "verified                28877 non-null uint8\n",
      "instant                 28877 non-null uint8\n",
      "dtypes: float64(12), int64(4), uint8(18)\n",
      "memory usage: 4.0 MB\n"
     ]
    }
   ],
   "source": [
    "air.info()"
   ]
  },
  {
   "cell_type": "code",
   "execution_count": 50,
   "metadata": {},
   "outputs": [
    {
     "data": {
      "text/plain": [
       "(28877, 34)"
      ]
     },
     "execution_count": 50,
     "metadata": {},
     "output_type": "execute_result"
    }
   ],
   "source": [
    "air.shape"
   ]
  },
  {
   "cell_type": "code",
   "execution_count": 51,
   "metadata": {},
   "outputs": [
    {
     "data": {
      "text/html": [
       "<div>\n",
       "<style scoped>\n",
       "    .dataframe tbody tr th:only-of-type {\n",
       "        vertical-align: middle;\n",
       "    }\n",
       "\n",
       "    .dataframe tbody tr th {\n",
       "        vertical-align: top;\n",
       "    }\n",
       "\n",
       "    .dataframe thead th {\n",
       "        text-align: right;\n",
       "    }\n",
       "</style>\n",
       "<table border=\"1\" class=\"dataframe\">\n",
       "  <thead>\n",
       "    <tr style=\"text-align: right;\">\n",
       "      <th></th>\n",
       "      <th>room_type</th>\n",
       "      <th>accommodates</th>\n",
       "      <th>bathrooms</th>\n",
       "      <th>host_response_rate</th>\n",
       "      <th>latitude</th>\n",
       "      <th>longitude</th>\n",
       "      <th>number_of_reviews</th>\n",
       "      <th>review_scores_rating</th>\n",
       "      <th>zipcode</th>\n",
       "      <th>bedrooms</th>\n",
       "      <th>...</th>\n",
       "      <th>Chicago</th>\n",
       "      <th>DC</th>\n",
       "      <th>LA</th>\n",
       "      <th>NYC</th>\n",
       "      <th>SF</th>\n",
       "      <th>delta_first</th>\n",
       "      <th>delta_last</th>\n",
       "      <th>delta_host</th>\n",
       "      <th>verified</th>\n",
       "      <th>instant</th>\n",
       "    </tr>\n",
       "  </thead>\n",
       "  <tbody>\n",
       "    <tr>\n",
       "      <td>0</td>\n",
       "      <td>1.000000</td>\n",
       "      <td>7</td>\n",
       "      <td>1.0</td>\n",
       "      <td>1.0</td>\n",
       "      <td>40.766115</td>\n",
       "      <td>-73.989040</td>\n",
       "      <td>6</td>\n",
       "      <td>93.0</td>\n",
       "      <td>10019</td>\n",
       "      <td>3.0</td>\n",
       "      <td>...</td>\n",
       "      <td>0</td>\n",
       "      <td>0</td>\n",
       "      <td>0</td>\n",
       "      <td>1</td>\n",
       "      <td>0</td>\n",
       "      <td>2.328301</td>\n",
       "      <td>2.194144</td>\n",
       "      <td>2.456983</td>\n",
       "      <td>0</td>\n",
       "      <td>1</td>\n",
       "    </tr>\n",
       "    <tr>\n",
       "      <td>1</td>\n",
       "      <td>0.413769</td>\n",
       "      <td>2</td>\n",
       "      <td>1.0</td>\n",
       "      <td>1.0</td>\n",
       "      <td>37.753164</td>\n",
       "      <td>-122.429526</td>\n",
       "      <td>3</td>\n",
       "      <td>100.0</td>\n",
       "      <td>94131</td>\n",
       "      <td>1.0</td>\n",
       "      <td>...</td>\n",
       "      <td>0</td>\n",
       "      <td>0</td>\n",
       "      <td>0</td>\n",
       "      <td>0</td>\n",
       "      <td>1</td>\n",
       "      <td>2.268067</td>\n",
       "      <td>2.243426</td>\n",
       "      <td>2.489838</td>\n",
       "      <td>1</td>\n",
       "      <td>1</td>\n",
       "    </tr>\n",
       "    <tr>\n",
       "      <td>2</td>\n",
       "      <td>1.000000</td>\n",
       "      <td>2</td>\n",
       "      <td>1.0</td>\n",
       "      <td>1.0</td>\n",
       "      <td>34.046737</td>\n",
       "      <td>-118.260439</td>\n",
       "      <td>9</td>\n",
       "      <td>93.0</td>\n",
       "      <td>90015</td>\n",
       "      <td>1.0</td>\n",
       "      <td>...</td>\n",
       "      <td>0</td>\n",
       "      <td>0</td>\n",
       "      <td>1</td>\n",
       "      <td>0</td>\n",
       "      <td>0</td>\n",
       "      <td>2.963496</td>\n",
       "      <td>2.643160</td>\n",
       "      <td>6.544678</td>\n",
       "      <td>1</td>\n",
       "      <td>0</td>\n",
       "    </tr>\n",
       "    <tr>\n",
       "      <td>3</td>\n",
       "      <td>0.413769</td>\n",
       "      <td>2</td>\n",
       "      <td>1.0</td>\n",
       "      <td>1.0</td>\n",
       "      <td>37.781128</td>\n",
       "      <td>-122.501095</td>\n",
       "      <td>159</td>\n",
       "      <td>99.0</td>\n",
       "      <td>94121</td>\n",
       "      <td>1.0</td>\n",
       "      <td>...</td>\n",
       "      <td>0</td>\n",
       "      <td>0</td>\n",
       "      <td>0</td>\n",
       "      <td>0</td>\n",
       "      <td>1</td>\n",
       "      <td>3.804033</td>\n",
       "      <td>2.191406</td>\n",
       "      <td>4.499461</td>\n",
       "      <td>0</td>\n",
       "      <td>0</td>\n",
       "    </tr>\n",
       "    <tr>\n",
       "      <td>4</td>\n",
       "      <td>0.413769</td>\n",
       "      <td>2</td>\n",
       "      <td>1.0</td>\n",
       "      <td>1.0</td>\n",
       "      <td>40.723883</td>\n",
       "      <td>-73.983880</td>\n",
       "      <td>82</td>\n",
       "      <td>93.0</td>\n",
       "      <td>10009</td>\n",
       "      <td>1.0</td>\n",
       "      <td>...</td>\n",
       "      <td>0</td>\n",
       "      <td>0</td>\n",
       "      <td>0</td>\n",
       "      <td>1</td>\n",
       "      <td>0</td>\n",
       "      <td>6.599436</td>\n",
       "      <td>3.048371</td>\n",
       "      <td>6.687049</td>\n",
       "      <td>1</td>\n",
       "      <td>0</td>\n",
       "    </tr>\n",
       "  </tbody>\n",
       "</table>\n",
       "<p>5 rows × 34 columns</p>\n",
       "</div>"
      ],
      "text/plain": [
       "   room_type  accommodates  bathrooms  host_response_rate   latitude  \\\n",
       "0   1.000000             7        1.0                 1.0  40.766115   \n",
       "1   0.413769             2        1.0                 1.0  37.753164   \n",
       "2   1.000000             2        1.0                 1.0  34.046737   \n",
       "3   0.413769             2        1.0                 1.0  37.781128   \n",
       "4   0.413769             2        1.0                 1.0  40.723883   \n",
       "\n",
       "    longitude  number_of_reviews  review_scores_rating  zipcode  bedrooms  \\\n",
       "0  -73.989040                  6                  93.0    10019       3.0   \n",
       "1 -122.429526                  3                 100.0    94131       1.0   \n",
       "2 -118.260439                  9                  93.0    90015       1.0   \n",
       "3 -122.501095                159                  99.0    94121       1.0   \n",
       "4  -73.983880                 82                  93.0    10009       1.0   \n",
       "\n",
       "   ...  Chicago  DC  LA  NYC  SF  delta_first  delta_last  delta_host  \\\n",
       "0  ...        0   0   0    1   0     2.328301    2.194144    2.456983   \n",
       "1  ...        0   0   0    0   1     2.268067    2.243426    2.489838   \n",
       "2  ...        0   0   1    0   0     2.963496    2.643160    6.544678   \n",
       "3  ...        0   0   0    0   1     3.804033    2.191406    4.499461   \n",
       "4  ...        0   0   0    1   0     6.599436    3.048371    6.687049   \n",
       "\n",
       "   verified  instant  \n",
       "0         0        1  \n",
       "1         1        1  \n",
       "2         1        0  \n",
       "3         0        0  \n",
       "4         1        0  \n",
       "\n",
       "[5 rows x 34 columns]"
      ]
     },
     "execution_count": 51,
     "metadata": {},
     "output_type": "execute_result"
    }
   ],
   "source": [
    "air.head()"
   ]
  },
  {
   "cell_type": "markdown",
   "metadata": {},
   "source": [
    "## Revisión de correlaciones"
   ]
  },
  {
   "cell_type": "code",
   "execution_count": 52,
   "metadata": {},
   "outputs": [],
   "source": [
    "X_air = air.drop('price',axis = 1)\n",
    "y_air = air.price"
   ]
  },
  {
   "cell_type": "code",
   "execution_count": 53,
   "metadata": {},
   "outputs": [],
   "source": [
    "aircorr = X_air.corr()"
   ]
  },
  {
   "cell_type": "code",
   "execution_count": 54,
   "metadata": {},
   "outputs": [
    {
     "data": {
      "image/png": "[encoded data removed]",
      "text/plain": [
       "<Figure size 864x720 with 2 Axes>"
      ]
     },
     "metadata": {
      "needs_background": "light"
     },
     "output_type": "display_data"
    }
   ],
   "source": [
    "plt.figure(figsize=(12,10))\n",
    "sns.heatmap(aircorr,cmap='viridis');"
   ]
  },
  {
   "cell_type": "markdown",
   "metadata": {},
   "source": [
    "## Limpieza de Submissions"
   ]
  },
  {
   "cell_type": "code",
   "execution_count": 55,
   "metadata": {},
   "outputs": [],
   "source": [
    "airsub = pd.read_csv('airbnb_submission.csv')"
   ]
  },
  {
   "cell_type": "code",
   "execution_count": 56,
   "metadata": {},
   "outputs": [],
   "source": [
    "airsub.property_type = airsub.property_type.apply(lambda x : 'Luxury' if x in luxury else x)\\\n",
    "                                           .apply(lambda x : 'Low' if x in low else x)\\\n",
    "                                           .apply(lambda x : 'Other' if x in other else x)"
   ]
  },
  {
   "cell_type": "code",
   "execution_count": 57,
   "metadata": {},
   "outputs": [],
   "source": [
    "airsub_prop_type = pd.get_dummies(airsub.property_type, drop_first=True)\n",
    "airsub = pd.concat([airsub,airsub_prop_type],axis = 1)\n",
    "airsub.drop('property_type',axis = 1,inplace = True)"
   ]
  },
  {
   "cell_type": "code",
   "execution_count": 58,
   "metadata": {},
   "outputs": [],
   "source": [
    "airsub.room_type = airsub.room_type.apply(lambda x : entire[0] if x == 'Entire home/apt' else x)\\\n",
    "                                   .apply(lambda x : private[0] if x == 'Private room' else x)\\\n",
    "                                   .apply(lambda x : shared[0] if x == 'Shared room' else x)"
   ]
  },
  {
   "cell_type": "code",
   "execution_count": 59,
   "metadata": {},
   "outputs": [],
   "source": [
    "airsub.amenities = airsub.amenities.str.replace('\"translation missing: en.hosting_amenity_49\"','')\\\n",
    "                             .str.replace('\"translation missing: en.hosting_amenity_50\"','').str.split(',')\n",
    "amensub = pd.DataFrame(airsub.amenities.apply(lambda x : len(x)))\n",
    "amensub.columns = ['amenity_items']\n",
    "airsub = pd.concat([airsub,amensub],axis = 1)\n",
    "airsub.drop('amenities',axis = 1, inplace = True)"
   ]
  },
  {
   "cell_type": "code",
   "execution_count": 60,
   "metadata": {},
   "outputs": [],
   "source": [
    "airsub.drop('bed_type',axis = 1, inplace = True)"
   ]
  },
  {
   "cell_type": "code",
   "execution_count": 61,
   "metadata": {},
   "outputs": [],
   "source": [
    "airsub.cancellation_policy = airsub.cancellation_policy.str.replace('super_strict_30','strict')\\\n",
    "                             .str.replace('super_strict_60','strict')"
   ]
  },
  {
   "cell_type": "code",
   "execution_count": 62,
   "metadata": {},
   "outputs": [],
   "source": [
    "airsub_canc_pol = pd.get_dummies(airsub.cancellation_policy, drop_first=True)\n",
    "airsub = pd.concat([airsub,airsub_canc_pol],axis = 1)\n",
    "airsub.drop('cancellation_policy',axis = 1,inplace = True)"
   ]
  },
  {
   "cell_type": "code",
   "execution_count": 63,
   "metadata": {},
   "outputs": [],
   "source": [
    "airsub_clean_fee = pd.get_dummies(airsub.cleaning_fee, drop_first=True)\n",
    "airsub = pd.concat([airsub,airsub_clean_fee],axis = 1)\n",
    "airsub.drop('cleaning_fee',axis = 1,inplace = True)"
   ]
  },
  {
   "cell_type": "code",
   "execution_count": 64,
   "metadata": {},
   "outputs": [],
   "source": [
    "airsub_city = pd.get_dummies(airsub.city, drop_first=True)\n",
    "airsub = pd.concat([airsub,airsub_city],axis = 1)\n",
    "airsub.drop('city',axis = 1,inplace = True)"
   ]
  },
  {
   "cell_type": "code",
   "execution_count": 65,
   "metadata": {},
   "outputs": [],
   "source": [
    "airsub.drop('description',axis = 1, inplace = True)"
   ]
  },
  {
   "cell_type": "code",
   "execution_count": 66,
   "metadata": {},
   "outputs": [],
   "source": [
    "airsub['today'] = pd.Timestamp.today()"
   ]
  },
  {
   "cell_type": "code",
   "execution_count": 67,
   "metadata": {},
   "outputs": [],
   "source": [
    "airsub['delta_first'] = (airsub.today - pd.to_datetime(airsub.first_review) )/np.timedelta64(1,'Y')"
   ]
  },
  {
   "cell_type": "code",
   "execution_count": 68,
   "metadata": {},
   "outputs": [],
   "source": [
    "airsub['delta_last'] = (airsub.today - pd.to_datetime(airsub.last_review) )/np.timedelta64(1,'Y')"
   ]
  },
  {
   "cell_type": "code",
   "execution_count": 69,
   "metadata": {},
   "outputs": [],
   "source": [
    "airsub['delta_host'] = (airsub.today - pd.to_datetime(airsub.host_since) )/np.timedelta64(1,'Y')"
   ]
  },
  {
   "cell_type": "code",
   "execution_count": 70,
   "metadata": {},
   "outputs": [],
   "source": [
    "airsub.drop(['first_review','host_since','last_review','today','id'],axis = 1, inplace = True)"
   ]
  },
  {
   "cell_type": "code",
   "execution_count": 71,
   "metadata": {},
   "outputs": [],
   "source": [
    "airsub.host_response_rate = airsub.host_response_rate.apply(lambda x : float(x.split('%')[0])/100)"
   ]
  },
  {
   "cell_type": "code",
   "execution_count": 72,
   "metadata": {},
   "outputs": [],
   "source": [
    "airsub.drop('host_has_profile_pic',axis = 1, inplace = True)"
   ]
  },
  {
   "cell_type": "code",
   "execution_count": 73,
   "metadata": {},
   "outputs": [],
   "source": [
    "airsub_verified = pd.get_dummies(airsub.host_identity_verified, drop_first = True)\n",
    "airsub_verified.columns = ['verified']\n",
    "airsub = pd.concat([airsub,airsub_verified],axis = 1)\n",
    "airsub.drop('host_identity_verified',axis = 1,inplace = True)"
   ]
  },
  {
   "cell_type": "code",
   "execution_count": 74,
   "metadata": {},
   "outputs": [],
   "source": [
    "airsub_instant = pd.get_dummies(airsub.instant_bookable, drop_first = True)\n",
    "airsub_instant.columns = ['instant']\n",
    "airsub = pd.concat([airsub,airsub_instant],axis = 1)\n",
    "airsub.drop('instant_bookable',axis = 1,inplace = True)"
   ]
  },
  {
   "cell_type": "code",
   "execution_count": 75,
   "metadata": {},
   "outputs": [],
   "source": [
    "airsub.drop('name',axis = 1, inplace = True)"
   ]
  },
  {
   "cell_type": "code",
   "execution_count": 76,
   "metadata": {},
   "outputs": [],
   "source": [
    "airsub.drop('neighbourhood',axis = 1, inplace = True)"
   ]
  },
  {
   "cell_type": "code",
   "execution_count": 77,
   "metadata": {},
   "outputs": [],
   "source": [
    "airsub.drop('thumbnail_url',axis = 1, inplace = True)"
   ]
  },
  {
   "cell_type": "code",
   "execution_count": 78,
   "metadata": {},
   "outputs": [],
   "source": [
    "airsub.zipcode = airsub.zipcode.apply(lambda x : re.findall('^\\d+',x)).apply(lambda x : pd.to_numeric(x[0]))"
   ]
  },
  {
   "cell_type": "code",
   "execution_count": 79,
   "metadata": {},
   "outputs": [
    {
     "data": {
      "text/html": [
       "<div>\n",
       "<style scoped>\n",
       "    .dataframe tbody tr th:only-of-type {\n",
       "        vertical-align: middle;\n",
       "    }\n",
       "\n",
       "    .dataframe tbody tr th {\n",
       "        vertical-align: top;\n",
       "    }\n",
       "\n",
       "    .dataframe thead th {\n",
       "        text-align: right;\n",
       "    }\n",
       "</style>\n",
       "<table border=\"1\" class=\"dataframe\">\n",
       "  <thead>\n",
       "    <tr style=\"text-align: right;\">\n",
       "      <th></th>\n",
       "      <th>room_type</th>\n",
       "      <th>accommodates</th>\n",
       "      <th>bathrooms</th>\n",
       "      <th>host_response_rate</th>\n",
       "      <th>latitude</th>\n",
       "      <th>longitude</th>\n",
       "      <th>number_of_reviews</th>\n",
       "      <th>review_scores_rating</th>\n",
       "      <th>zipcode</th>\n",
       "      <th>bedrooms</th>\n",
       "      <th>...</th>\n",
       "      <th>Chicago</th>\n",
       "      <th>DC</th>\n",
       "      <th>LA</th>\n",
       "      <th>NYC</th>\n",
       "      <th>SF</th>\n",
       "      <th>delta_first</th>\n",
       "      <th>delta_last</th>\n",
       "      <th>delta_host</th>\n",
       "      <th>verified</th>\n",
       "      <th>instant</th>\n",
       "    </tr>\n",
       "  </thead>\n",
       "  <tbody>\n",
       "    <tr>\n",
       "      <td>0</td>\n",
       "      <td>1.0</td>\n",
       "      <td>8</td>\n",
       "      <td>3.5</td>\n",
       "      <td>1.0</td>\n",
       "      <td>33.880809</td>\n",
       "      <td>-118.387797</td>\n",
       "      <td>5</td>\n",
       "      <td>96.0</td>\n",
       "      <td>90266</td>\n",
       "      <td>4.0</td>\n",
       "      <td>...</td>\n",
       "      <td>0</td>\n",
       "      <td>0</td>\n",
       "      <td>1</td>\n",
       "      <td>0</td>\n",
       "      <td>0</td>\n",
       "      <td>3.193483</td>\n",
       "      <td>2.637688</td>\n",
       "      <td>5.005977</td>\n",
       "      <td>1</td>\n",
       "      <td>0</td>\n",
       "    </tr>\n",
       "    <tr>\n",
       "      <td>1</td>\n",
       "      <td>1.0</td>\n",
       "      <td>2</td>\n",
       "      <td>1.0</td>\n",
       "      <td>1.0</td>\n",
       "      <td>33.864526</td>\n",
       "      <td>-118.387020</td>\n",
       "      <td>11</td>\n",
       "      <td>96.0</td>\n",
       "      <td>90254</td>\n",
       "      <td>0.0</td>\n",
       "      <td>...</td>\n",
       "      <td>0</td>\n",
       "      <td>0</td>\n",
       "      <td>1</td>\n",
       "      <td>0</td>\n",
       "      <td>0</td>\n",
       "      <td>2.785535</td>\n",
       "      <td>2.593881</td>\n",
       "      <td>5.411187</td>\n",
       "      <td>1</td>\n",
       "      <td>1</td>\n",
       "    </tr>\n",
       "    <tr>\n",
       "      <td>2</td>\n",
       "      <td>1.0</td>\n",
       "      <td>11</td>\n",
       "      <td>1.0</td>\n",
       "      <td>1.0</td>\n",
       "      <td>42.379616</td>\n",
       "      <td>-71.028836</td>\n",
       "      <td>29</td>\n",
       "      <td>85.0</td>\n",
       "      <td>2128</td>\n",
       "      <td>4.0</td>\n",
       "      <td>...</td>\n",
       "      <td>0</td>\n",
       "      <td>0</td>\n",
       "      <td>0</td>\n",
       "      <td>0</td>\n",
       "      <td>0</td>\n",
       "      <td>2.711611</td>\n",
       "      <td>2.180457</td>\n",
       "      <td>3.486439</td>\n",
       "      <td>1</td>\n",
       "      <td>1</td>\n",
       "    </tr>\n",
       "    <tr>\n",
       "      <td>3</td>\n",
       "      <td>1.0</td>\n",
       "      <td>3</td>\n",
       "      <td>1.0</td>\n",
       "      <td>1.0</td>\n",
       "      <td>34.048905</td>\n",
       "      <td>-118.465482</td>\n",
       "      <td>50</td>\n",
       "      <td>98.0</td>\n",
       "      <td>90049</td>\n",
       "      <td>1.0</td>\n",
       "      <td>...</td>\n",
       "      <td>0</td>\n",
       "      <td>0</td>\n",
       "      <td>1</td>\n",
       "      <td>0</td>\n",
       "      <td>0</td>\n",
       "      <td>4.357093</td>\n",
       "      <td>2.602095</td>\n",
       "      <td>4.789683</td>\n",
       "      <td>1</td>\n",
       "      <td>0</td>\n",
       "    </tr>\n",
       "    <tr>\n",
       "      <td>4</td>\n",
       "      <td>1.0</td>\n",
       "      <td>4</td>\n",
       "      <td>1.0</td>\n",
       "      <td>1.0</td>\n",
       "      <td>38.894259</td>\n",
       "      <td>-76.996380</td>\n",
       "      <td>61</td>\n",
       "      <td>96.0</td>\n",
       "      <td>20002</td>\n",
       "      <td>2.0</td>\n",
       "      <td>...</td>\n",
       "      <td>0</td>\n",
       "      <td>1</td>\n",
       "      <td>0</td>\n",
       "      <td>0</td>\n",
       "      <td>0</td>\n",
       "      <td>4.066875</td>\n",
       "      <td>2.591143</td>\n",
       "      <td>5.997100</td>\n",
       "      <td>1</td>\n",
       "      <td>0</td>\n",
       "    </tr>\n",
       "  </tbody>\n",
       "</table>\n",
       "<p>5 rows × 33 columns</p>\n",
       "</div>"
      ],
      "text/plain": [
       "   room_type  accommodates  bathrooms  host_response_rate   latitude  \\\n",
       "0        1.0             8        3.5                 1.0  33.880809   \n",
       "1        1.0             2        1.0                 1.0  33.864526   \n",
       "2        1.0            11        1.0                 1.0  42.379616   \n",
       "3        1.0             3        1.0                 1.0  34.048905   \n",
       "4        1.0             4        1.0                 1.0  38.894259   \n",
       "\n",
       "    longitude  number_of_reviews  review_scores_rating  zipcode  bedrooms  \\\n",
       "0 -118.387797                  5                  96.0    90266       4.0   \n",
       "1 -118.387020                 11                  96.0    90254       0.0   \n",
       "2  -71.028836                 29                  85.0     2128       4.0   \n",
       "3 -118.465482                 50                  98.0    90049       1.0   \n",
       "4  -76.996380                 61                  96.0    20002       2.0   \n",
       "\n",
       "   ...  Chicago  DC  LA  NYC  SF  delta_first  delta_last  delta_host  \\\n",
       "0  ...        0   0   1    0   0     3.193483    2.637688    5.005977   \n",
       "1  ...        0   0   1    0   0     2.785535    2.593881    5.411187   \n",
       "2  ...        0   0   0    0   0     2.711611    2.180457    3.486439   \n",
       "3  ...        0   0   1    0   0     4.357093    2.602095    4.789683   \n",
       "4  ...        0   1   0    0   0     4.066875    2.591143    5.997100   \n",
       "\n",
       "   verified  instant  \n",
       "0         1        0  \n",
       "1         1        1  \n",
       "2         1        1  \n",
       "3         1        0  \n",
       "4         1        0  \n",
       "\n",
       "[5 rows x 33 columns]"
      ]
     },
     "execution_count": 79,
     "metadata": {},
     "output_type": "execute_result"
    }
   ],
   "source": [
    "airsub.head()"
   ]
  },
  {
   "cell_type": "code",
   "execution_count": 80,
   "metadata": {},
   "outputs": [
    {
     "data": {
      "text/plain": [
       "(9625, 33)"
      ]
     },
     "execution_count": 80,
     "metadata": {},
     "output_type": "execute_result"
    }
   ],
   "source": [
    "airsub.shape"
   ]
  },
  {
   "cell_type": "markdown",
   "metadata": {},
   "source": [
    "### Modelo de Regresión Lineal con 33 columnas."
   ]
  },
  {
   "cell_type": "code",
   "execution_count": 81,
   "metadata": {},
   "outputs": [],
   "source": [
    "from sklearn.linear_model import LinearRegression\n",
    "from sklearn.model_selection import train_test_split\n",
    "from sklearn.metrics import mean_squared_error as mse\n",
    "from sklearn.feature_selection import RFE"
   ]
  },
  {
   "cell_type": "code",
   "execution_count": 82,
   "metadata": {},
   "outputs": [],
   "source": [
    "X_air_train, X_air_test, y_air_train, y_air_test = train_test_split(X_air, y_air, test_size = 0.2)"
   ]
  },
  {
   "cell_type": "code",
   "execution_count": 83,
   "metadata": {},
   "outputs": [],
   "source": [
    "linreg = LinearRegression().fit(X_air_train,y_air_train)\n",
    "y_pred = linreg.predict(X_air_test)"
   ]
  },
  {
   "cell_type": "code",
   "execution_count": 84,
   "metadata": {},
   "outputs": [
    {
     "data": {
      "text/plain": [
       "7414.308287122296"
      ]
     },
     "execution_count": 84,
     "metadata": {},
     "output_type": "execute_result"
    }
   ],
   "source": [
    "mse(y_air_test, y_pred)"
   ]
  },
  {
   "cell_type": "code",
   "execution_count": 85,
   "metadata": {},
   "outputs": [
    {
     "data": {
      "text/plain": [
       "86.10637773778605"
      ]
     },
     "execution_count": 85,
     "metadata": {},
     "output_type": "execute_result"
    }
   ],
   "source": [
    "rmse_t=mse(y_air_test, y_pred)**0.5\n",
    "rmse_t"
   ]
  },
  {
   "cell_type": "markdown",
   "metadata": {},
   "source": [
    "#### Entrenamiento con toda la data"
   ]
  },
  {
   "cell_type": "code",
   "execution_count": 87,
   "metadata": {},
   "outputs": [],
   "source": [
    "linregfull = LinearRegression().fit(X_air,y_air)"
   ]
  },
  {
   "cell_type": "code",
   "execution_count": 88,
   "metadata": {},
   "outputs": [],
   "source": [
    "y_pred_sub_full = linregfull.predict(airsub)"
   ]
  },
  {
   "cell_type": "code",
   "execution_count": 89,
   "metadata": {},
   "outputs": [],
   "source": [
    "subEGHM = pd.DataFrame(range(len(y_pred_sub_full)))\n",
    "subEGHM.columns = ['id']\n",
    "price = pd.DataFrame(y_pred_sub_full, columns = ['price'])\n",
    "subEGHM = subEGHM.join(price)"
   ]
  },
  {
   "cell_type": "code",
   "execution_count": null,
   "metadata": {},
   "outputs": [],
   "source": [
    "#subEGHM.to_csv('y_pred_EGHM.csv', index = False)"
   ]
  },
  {
   "cell_type": "markdown",
   "metadata": {},
   "source": [
    "### Modelo de Regresión Lineal con Recursive Feature Elimination, a 12 columnas."
   ]
  },
  {
   "cell_type": "code",
   "execution_count": 90,
   "metadata": {},
   "outputs": [
    {
     "name": "stdout",
     "output_type": "stream",
     "text": [
      "[ 1  4  1 11  1  1 20 14 21  1  5 12  2  9 16  1  1 13 10 18 17  8  7  1\n",
      "  1  1  1  1 19  3 22 15  6]\n"
     ]
    }
   ],
   "source": [
    "modelo = LinearRegression()\n",
    "selector=RFE(modelo, n_features_to_select=12, step=1)\n",
    "selector.fit(X_air, y_air)\n",
    "print (selector.ranking_)"
   ]
  },
  {
   "cell_type": "code",
   "execution_count": 91,
   "metadata": {},
   "outputs": [],
   "source": [
    "selec = [X_air.columns[i] for i,e in enumerate(selector.support_) if e]"
   ]
  },
  {
   "cell_type": "code",
   "execution_count": 92,
   "metadata": {},
   "outputs": [
    {
     "data": {
      "text/html": [
       "<div>\n",
       "<style scoped>\n",
       "    .dataframe tbody tr th:only-of-type {\n",
       "        vertical-align: middle;\n",
       "    }\n",
       "\n",
       "    .dataframe tbody tr th {\n",
       "        vertical-align: top;\n",
       "    }\n",
       "\n",
       "    .dataframe thead th {\n",
       "        text-align: right;\n",
       "    }\n",
       "</style>\n",
       "<table border=\"1\" class=\"dataframe\">\n",
       "  <thead>\n",
       "    <tr style=\"text-align: right;\">\n",
       "      <th></th>\n",
       "      <th>room_type</th>\n",
       "      <th>bathrooms</th>\n",
       "      <th>latitude</th>\n",
       "      <th>longitude</th>\n",
       "      <th>bedrooms</th>\n",
       "      <th>Low</th>\n",
       "      <th>Luxury</th>\n",
       "      <th>Chicago</th>\n",
       "      <th>DC</th>\n",
       "      <th>LA</th>\n",
       "      <th>NYC</th>\n",
       "      <th>SF</th>\n",
       "    </tr>\n",
       "  </thead>\n",
       "  <tbody>\n",
       "    <tr>\n",
       "      <td>0</td>\n",
       "      <td>1.000000</td>\n",
       "      <td>1.0</td>\n",
       "      <td>40.766115</td>\n",
       "      <td>-73.989040</td>\n",
       "      <td>3.0</td>\n",
       "      <td>0</td>\n",
       "      <td>0</td>\n",
       "      <td>0</td>\n",
       "      <td>0</td>\n",
       "      <td>0</td>\n",
       "      <td>1</td>\n",
       "      <td>0</td>\n",
       "    </tr>\n",
       "    <tr>\n",
       "      <td>1</td>\n",
       "      <td>0.413769</td>\n",
       "      <td>1.0</td>\n",
       "      <td>37.753164</td>\n",
       "      <td>-122.429526</td>\n",
       "      <td>1.0</td>\n",
       "      <td>0</td>\n",
       "      <td>0</td>\n",
       "      <td>0</td>\n",
       "      <td>0</td>\n",
       "      <td>0</td>\n",
       "      <td>0</td>\n",
       "      <td>1</td>\n",
       "    </tr>\n",
       "    <tr>\n",
       "      <td>2</td>\n",
       "      <td>1.000000</td>\n",
       "      <td>1.0</td>\n",
       "      <td>34.046737</td>\n",
       "      <td>-118.260439</td>\n",
       "      <td>1.0</td>\n",
       "      <td>0</td>\n",
       "      <td>0</td>\n",
       "      <td>0</td>\n",
       "      <td>0</td>\n",
       "      <td>1</td>\n",
       "      <td>0</td>\n",
       "      <td>0</td>\n",
       "    </tr>\n",
       "    <tr>\n",
       "      <td>3</td>\n",
       "      <td>0.413769</td>\n",
       "      <td>1.0</td>\n",
       "      <td>37.781128</td>\n",
       "      <td>-122.501095</td>\n",
       "      <td>1.0</td>\n",
       "      <td>0</td>\n",
       "      <td>0</td>\n",
       "      <td>0</td>\n",
       "      <td>0</td>\n",
       "      <td>0</td>\n",
       "      <td>0</td>\n",
       "      <td>1</td>\n",
       "    </tr>\n",
       "    <tr>\n",
       "      <td>4</td>\n",
       "      <td>0.413769</td>\n",
       "      <td>1.0</td>\n",
       "      <td>40.723883</td>\n",
       "      <td>-73.983880</td>\n",
       "      <td>1.0</td>\n",
       "      <td>0</td>\n",
       "      <td>0</td>\n",
       "      <td>0</td>\n",
       "      <td>0</td>\n",
       "      <td>0</td>\n",
       "      <td>1</td>\n",
       "      <td>0</td>\n",
       "    </tr>\n",
       "    <tr>\n",
       "      <td>...</td>\n",
       "      <td>...</td>\n",
       "      <td>...</td>\n",
       "      <td>...</td>\n",
       "      <td>...</td>\n",
       "      <td>...</td>\n",
       "      <td>...</td>\n",
       "      <td>...</td>\n",
       "      <td>...</td>\n",
       "      <td>...</td>\n",
       "      <td>...</td>\n",
       "      <td>...</td>\n",
       "      <td>...</td>\n",
       "    </tr>\n",
       "    <tr>\n",
       "      <td>28872</td>\n",
       "      <td>0.413769</td>\n",
       "      <td>1.0</td>\n",
       "      <td>40.740904</td>\n",
       "      <td>-74.002948</td>\n",
       "      <td>1.0</td>\n",
       "      <td>0</td>\n",
       "      <td>0</td>\n",
       "      <td>0</td>\n",
       "      <td>0</td>\n",
       "      <td>0</td>\n",
       "      <td>1</td>\n",
       "      <td>0</td>\n",
       "    </tr>\n",
       "    <tr>\n",
       "      <td>28873</td>\n",
       "      <td>0.265908</td>\n",
       "      <td>3.0</td>\n",
       "      <td>34.199671</td>\n",
       "      <td>-118.618070</td>\n",
       "      <td>1.0</td>\n",
       "      <td>0</td>\n",
       "      <td>1</td>\n",
       "      <td>0</td>\n",
       "      <td>0</td>\n",
       "      <td>1</td>\n",
       "      <td>0</td>\n",
       "      <td>0</td>\n",
       "    </tr>\n",
       "    <tr>\n",
       "      <td>28874</td>\n",
       "      <td>1.000000</td>\n",
       "      <td>1.0</td>\n",
       "      <td>37.789989</td>\n",
       "      <td>-122.407384</td>\n",
       "      <td>1.0</td>\n",
       "      <td>0</td>\n",
       "      <td>0</td>\n",
       "      <td>0</td>\n",
       "      <td>0</td>\n",
       "      <td>0</td>\n",
       "      <td>0</td>\n",
       "      <td>1</td>\n",
       "    </tr>\n",
       "    <tr>\n",
       "      <td>28875</td>\n",
       "      <td>1.000000</td>\n",
       "      <td>2.0</td>\n",
       "      <td>33.871549</td>\n",
       "      <td>-118.396053</td>\n",
       "      <td>2.0</td>\n",
       "      <td>0</td>\n",
       "      <td>0</td>\n",
       "      <td>0</td>\n",
       "      <td>0</td>\n",
       "      <td>1</td>\n",
       "      <td>0</td>\n",
       "      <td>0</td>\n",
       "    </tr>\n",
       "    <tr>\n",
       "      <td>28876</td>\n",
       "      <td>1.000000</td>\n",
       "      <td>1.0</td>\n",
       "      <td>40.706749</td>\n",
       "      <td>-73.942377</td>\n",
       "      <td>2.0</td>\n",
       "      <td>0</td>\n",
       "      <td>0</td>\n",
       "      <td>0</td>\n",
       "      <td>0</td>\n",
       "      <td>0</td>\n",
       "      <td>1</td>\n",
       "      <td>0</td>\n",
       "    </tr>\n",
       "  </tbody>\n",
       "</table>\n",
       "<p>28877 rows × 12 columns</p>\n",
       "</div>"
      ],
      "text/plain": [
       "       room_type  bathrooms   latitude   longitude  bedrooms  Low  Luxury  \\\n",
       "0       1.000000        1.0  40.766115  -73.989040       3.0    0       0   \n",
       "1       0.413769        1.0  37.753164 -122.429526       1.0    0       0   \n",
       "2       1.000000        1.0  34.046737 -118.260439       1.0    0       0   \n",
       "3       0.413769        1.0  37.781128 -122.501095       1.0    0       0   \n",
       "4       0.413769        1.0  40.723883  -73.983880       1.0    0       0   \n",
       "...          ...        ...        ...         ...       ...  ...     ...   \n",
       "28872   0.413769        1.0  40.740904  -74.002948       1.0    0       0   \n",
       "28873   0.265908        3.0  34.199671 -118.618070       1.0    0       1   \n",
       "28874   1.000000        1.0  37.789989 -122.407384       1.0    0       0   \n",
       "28875   1.000000        2.0  33.871549 -118.396053       2.0    0       0   \n",
       "28876   1.000000        1.0  40.706749  -73.942377       2.0    0       0   \n",
       "\n",
       "       Chicago  DC  LA  NYC  SF  \n",
       "0            0   0   0    1   0  \n",
       "1            0   0   0    0   1  \n",
       "2            0   0   1    0   0  \n",
       "3            0   0   0    0   1  \n",
       "4            0   0   0    1   0  \n",
       "...        ...  ..  ..  ...  ..  \n",
       "28872        0   0   0    1   0  \n",
       "28873        0   0   1    0   0  \n",
       "28874        0   0   0    0   1  \n",
       "28875        0   0   1    0   0  \n",
       "28876        0   0   0    1   0  \n",
       "\n",
       "[28877 rows x 12 columns]"
      ]
     },
     "execution_count": 92,
     "metadata": {},
     "output_type": "execute_result"
    }
   ],
   "source": [
    "X_air_selector = X_air[[*selec]]\n",
    "X_air_selector"
   ]
  },
  {
   "cell_type": "code",
   "execution_count": 93,
   "metadata": {},
   "outputs": [],
   "source": [
    "X_air_train_selector, X_air_test_selector, y_air_train, y_air_test = train_test_split(X_air_selector, y_air, test_size = 0.2)"
   ]
  },
  {
   "cell_type": "code",
   "execution_count": 94,
   "metadata": {},
   "outputs": [],
   "source": [
    "linreg_sel = LinearRegression().fit(X_air_train_selector,y_air_train)\n",
    "y_pred_sel = linreg_sel.predict(X_air_test_selector)"
   ]
  },
  {
   "cell_type": "code",
   "execution_count": 95,
   "metadata": {},
   "outputs": [
    {
     "data": {
      "text/plain": [
       "8756.093130446734"
      ]
     },
     "execution_count": 95,
     "metadata": {},
     "output_type": "execute_result"
    }
   ],
   "source": [
    "mse(y_air_test, y_pred_sel)"
   ]
  },
  {
   "cell_type": "code",
   "execution_count": 96,
   "metadata": {},
   "outputs": [
    {
     "data": {
      "text/plain": [
       "93.57399815358289"
      ]
     },
     "execution_count": 96,
     "metadata": {},
     "output_type": "execute_result"
    }
   ],
   "source": [
    "rmse_t=mse(y_air_test, y_pred_sel)**0.5\n",
    "rmse_t"
   ]
  },
  {
   "cell_type": "code",
   "execution_count": 98,
   "metadata": {},
   "outputs": [],
   "source": [
    "linregfull_sel = LinearRegression().fit(X_air_selector,y_air)"
   ]
  },
  {
   "cell_type": "code",
   "execution_count": 99,
   "metadata": {},
   "outputs": [],
   "source": [
    "airsub = airsub[[*selec]]"
   ]
  },
  {
   "cell_type": "code",
   "execution_count": 100,
   "metadata": {},
   "outputs": [],
   "source": [
    "y_pred_sub_sel = linregfull_sel.predict(airsub)"
   ]
  },
  {
   "cell_type": "code",
   "execution_count": 101,
   "metadata": {},
   "outputs": [],
   "source": [
    "subEGHM = pd.DataFrame(range(len(y_pred_sub_sel)))\n",
    "subEGHM.columns = ['id']\n",
    "price = pd.DataFrame(y_pred_sub_sel, columns = ['price'])\n",
    "subEGHM = subEGHM.join(price)"
   ]
  },
  {
   "cell_type": "code",
   "execution_count": null,
   "metadata": {},
   "outputs": [],
   "source": [
    "#subEGHM.to_csv('y_pred_EGHM_sel.csv', index = False)"
   ]
  }
 ],
 "metadata": {
  "kernelspec": {
   "display_name": "Python 3",
   "language": "python",
   "name": "python3"
  },
  "language_info": {
   "codemirror_mode": {
    "name": "ipython",
    "version": 3
   },
   "file_extension": ".py",
   "mimetype": "text/x-python",
   "name": "python",
   "nbconvert_exporter": "python",
   "pygments_lexer": "ipython3",
   "version": "3.7.4"
  }
 },
 "nbformat": 4,
 "nbformat_minor": 2
}
