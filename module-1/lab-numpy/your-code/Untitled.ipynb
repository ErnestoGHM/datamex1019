{
 "cells": [
  {
   "cell_type": "code",
   "execution_count": 1,
   "metadata": {},
   "outputs": [],
   "source": [
    "import numpy as np"
   ]
  },
  {
   "cell_type": "code",
   "execution_count": 5,
   "metadata": {},
   "outputs": [
    {
     "name": "stdout",
     "output_type": "stream",
     "text": [
      "1.17.3\n",
      "True\n"
     ]
    }
   ],
   "source": [
    "print(np.version.version)"
   ]
  },
  {
   "cell_type": "code",
   "execution_count": 7,
   "metadata": {},
   "outputs": [
    {
     "name": "stdout",
     "output_type": "stream",
     "text": [
      "[[[0.12320459 0.15663065 0.84536629 0.32724919 0.92830496]\n",
      "  [0.81830762 0.70930999 0.80627474 0.34178127 0.85196786]\n",
      "  [0.12293561 0.31446536 0.86708446 0.63972461 0.55559462]]\n",
      "\n",
      " [[0.83689099 0.23835381 0.21943955 0.88987976 0.53094559]\n",
      "  [0.50870718 0.61910244 0.5063425  0.80844209 0.32429153]\n",
      "  [0.10383237 0.40012591 0.35618944 0.72171477 0.23825133]]]\n",
      "[[[1. 1.]\n",
      "  [1. 1.]\n",
      "  [1. 1.]]\n",
      "\n",
      " [[1. 1.]\n",
      "  [1. 1.]\n",
      "  [1. 1.]]\n",
      "\n",
      " [[1. 1.]\n",
      "  [1. 1.]\n",
      "  [1. 1.]]\n",
      "\n",
      " [[1. 1.]\n",
      "  [1. 1.]\n",
      "  [1. 1.]]\n",
      "\n",
      " [[1. 1.]\n",
      "  [1. 1.]\n",
      "  [1. 1.]]]\n",
      "[[[1. 1. 1. 1. 1.]\n",
      "  [1. 1. 1. 1. 1.]\n",
      "  [1. 1. 1. 1. 1.]]\n",
      "\n",
      " [[1. 1. 1. 1. 1.]\n",
      "  [1. 1. 1. 1. 1.]\n",
      "  [1. 1. 1. 1. 1.]]]\n",
      "[[[1.12320459 1.15663065 1.84536629 1.32724919 1.92830496]\n",
      "  [1.81830762 1.70930999 1.80627474 1.34178127 1.85196786]\n",
      "  [1.12293561 1.31446536 1.86708446 1.63972461 1.55559462]]\n",
      "\n",
      " [[1.83689099 1.23835381 1.21943955 1.88987976 1.53094559]\n",
      "  [1.50870718 1.61910244 1.5063425  1.80844209 1.32429153]\n",
      "  [1.10383237 1.40012591 1.35618944 1.72171477 1.23825133]]]\n",
      "1.928304961972882\n",
      "1.1038323692339325\n",
      "1.523690369372519\n",
      "[[[1.12320459 1.15663065 1.84536629 1.32724919 1.92830496]\n",
      "  [1.81830762 1.70930999 1.80627474 1.34178127 1.85196786]\n",
      "  [1.12293561 1.31446536 1.86708446 1.63972461 1.55559462]]\n",
      "\n",
      " [[1.83689099 1.23835381 1.21943955 1.88987976 1.53094559]\n",
      "  [1.50870718 1.61910244 1.5063425  1.80844209 1.32429153]\n",
      "  [1.10383237 1.40012591 1.35618944 1.72171477 1.23825133]]]\n"
     ]
    }
   ],
   "source": [
    "a = np.random.random((2,3,5))\n",
    "print(a)\n",
    "b = np.ones((5,3,2))\n",
    "print(b)\n",
    "c = np.transpose(b)\n",
    "print(c)\n",
    "d = a + c\n",
    "print(d)\n",
    "d_max = np.max(d)  \n",
    "d_min = np.min(d)  \n",
    "d_mean = np.mean(d)\n",
    "               \n",
    "print(d_max)   \n",
    "print(d_min)   \n",
    "print(d_mean)  \n",
    "f = np.empty((2,3,5))\n",
    "print(f)             "
   ]
  },
  {
   "cell_type": "code",
   "execution_count": 8,
   "metadata": {},
   "outputs": [
    {
     "ename": "ValueError",
     "evalue": "The truth value of an array with more than one element is ambiguous. Use a.any() or a.all()",
     "output_type": "error",
     "traceback": [
      "\u001b[0;31m---------------------------------------------------------------------------\u001b[0m",
      "\u001b[0;31mValueError\u001b[0m                                Traceback (most recent call last)",
      "\u001b[0;32m<ipython-input-8-52050b17966b>\u001b[0m in \u001b[0;36m<module>\u001b[0;34m\u001b[0m\n\u001b[1;32m      1\u001b[0m \u001b[0;32mfor\u001b[0m \u001b[0mv\u001b[0m \u001b[0;32min\u001b[0m \u001b[0mf\u001b[0m\u001b[0;34m:\u001b[0m\u001b[0;34m\u001b[0m\u001b[0;34m\u001b[0m\u001b[0m\n\u001b[1;32m      2\u001b[0m     \u001b[0;32mfor\u001b[0m \u001b[0ms\u001b[0m \u001b[0;32min\u001b[0m \u001b[0md\u001b[0m\u001b[0;34m:\u001b[0m\u001b[0;34m\u001b[0m\u001b[0;34m\u001b[0m\u001b[0m\n\u001b[0;32m----> 3\u001b[0;31m         \u001b[0;32mif\u001b[0m \u001b[0;34m(\u001b[0m\u001b[0ms\u001b[0m \u001b[0;34m>\u001b[0m \u001b[0md_min\u001b[0m\u001b[0;34m)\u001b[0m \u001b[0;32mand\u001b[0m  \u001b[0;34m(\u001b[0m\u001b[0ms\u001b[0m \u001b[0;34m<\u001b[0m \u001b[0md_mean\u001b[0m\u001b[0;34m)\u001b[0m\u001b[0;34m:\u001b[0m\u001b[0;34m\u001b[0m\u001b[0;34m\u001b[0m\u001b[0m\n\u001b[0m\u001b[1;32m      4\u001b[0m             \u001b[0mv\u001b[0m \u001b[0;34m=\u001b[0m \u001b[0;36m25\u001b[0m\u001b[0;34m\u001b[0m\u001b[0;34m\u001b[0m\u001b[0m\n\u001b[1;32m      5\u001b[0m         \u001b[0;32melif\u001b[0m \u001b[0;34m(\u001b[0m\u001b[0ms\u001b[0m \u001b[0;34m>\u001b[0m \u001b[0md_mean\u001b[0m\u001b[0;34m)\u001b[0m \u001b[0;32mand\u001b[0m \u001b[0;34m(\u001b[0m\u001b[0ms\u001b[0m \u001b[0;34m<\u001b[0m \u001b[0md_max\u001b[0m\u001b[0;34m)\u001b[0m\u001b[0;34m:\u001b[0m\u001b[0;34m\u001b[0m\u001b[0;34m\u001b[0m\u001b[0m\n",
      "\u001b[0;31mValueError\u001b[0m: The truth value of an array with more than one element is ambiguous. Use a.any() or a.all()"
     ]
    }
   ],
   "source": [
    "for v in f:                               \n",
    "    for s in d:                           \n",
    "        if (s > d_min) and  (s < d_mean): \n",
    "            v = 25                        \n",
    "        elif (s > d_mean) and (s < d_max):\n",
    "            v = 75                        \n",
    "        elif s == d_mean:                 \n",
    "            v = 50                        \n",
    "        elif s == d_min:                  \n",
    "            v = 0                         \n",
    "        elif s == d_max:                  \n",
    "            v = 100                       "
   ]
  },
  {
   "cell_type": "code",
   "execution_count": null,
   "metadata": {},
   "outputs": [],
   "source": []
  }
 ],
 "metadata": {
  "kernelspec": {
   "display_name": "Python 3",
   "language": "python",
   "name": "python3"
  },
  "language_info": {
   "codemirror_mode": {
    "name": "ipython",
    "version": 3
   },
   "file_extension": ".py",
   "mimetype": "text/x-python",
   "name": "python",
   "nbconvert_exporter": "python",
   "pygments_lexer": "ipython3",
   "version": "3.7.4"
  }
 },
 "nbformat": 4,
 "nbformat_minor": 2
}
