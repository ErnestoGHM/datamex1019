{
 "cells": [
  {
   "cell_type": "markdown",
   "metadata": {},
   "source": [
    "# Working with RSS Feeds\n",
    "\n",
    "\n",
    "Lesson Goals\n",
    "\n",
    "    Learn about the feedparser library\n",
    "    Use feedparser to parse RSS feeds\n",
    "    Explore the components of parsed RSS feeds\n",
    "    Convert results into data frames and conduct analysis\n",
    "\n",
    "Introduction\n",
    "\n",
    "In the previous lesson, we learned how to use Python to extract structured information from web APIs. In this lesson, we are going to take a look at another source of structured web content called RSS. RSS stands for Rich Site Summary or Really Simple Syndication, and it is a type of web feed which allows users and applications to access updates to online content in a standardized, computer-readable format (typically XML).\n",
    "\n",
    "Python has an excellent library called feedparser that is very useful for reading and parsing RSS feeds. We are going to be using this library throughout the lesson, so let's make sure it is installed and imported.\n",
    "\n",
    "$ pip install feedparser\n",
    "\n"
   ]
  },
  {
   "cell_type": "code",
   "execution_count": 1,
   "metadata": {},
   "outputs": [
    {
     "name": "stdout",
     "output_type": "stream",
     "text": [
      "Collecting feedparser\n",
      "\u001b[?25l  Downloading https://files.pythonhosted.org/packages/91/d8/7d37fec71ff7c9dbcdd80d2b48bcdd86d6af502156fc93846fb0102cb2c4/feedparser-5.2.1.tar.bz2 (192kB)\n",
      "\u001b[K     |████████████████████████████████| 194kB 793kB/s eta 0:00:01\n",
      "\u001b[?25hBuilding wheels for collected packages: feedparser\n",
      "  Building wheel for feedparser (setup.py) ... \u001b[?25ldone\n",
      "\u001b[?25h  Stored in directory: /Users/eghm/Library/Caches/pip/wheels/8c/69/b7/f52763c41c5471df57703a0ef718a32a5e81ee35dcf6d4f97f\n",
      "Successfully built feedparser\n",
      "Installing collected packages: feedparser\n",
      "Successfully installed feedparser-5.2.1\n"
     ]
    }
   ],
   "source": [
    "!pip3 install feedparser\n",
    "import feedparser"
   ]
  },
  {
   "cell_type": "markdown",
   "metadata": {},
   "source": [
    "# RSS Feed Versions Formats\n",
    "\n",
    "Due to the way web feeds evolved, there are various versions of RSS (0.9X, 1.0, 2.0, etc.) as well as alternate forms of feeds (Atom, CDF, etc.). We would have to worry about slight differences in formats if we were going to parse the feeds manually, but feedparser is able to handle all of them, so that is one less thing we need to worry about.\n",
    "\n",
    "\n",
    "# Parsing RSS Feeds\n",
    "\n",
    "To parse an RSS feed with feedparser, you just need to call its parse method and pass it a URL. Let's take a look at an example using the RSS feed for the tech subreddit category. "
   ]
  },
  {
   "cell_type": "code",
   "execution_count": 2,
   "metadata": {},
   "outputs": [],
   "source": [
    "reddit = feedparser.parse('https://www.reddit.com/r/tech.rss')"
   ]
  },
  {
   "cell_type": "markdown",
   "metadata": {},
   "source": [
    "If we take a look at the results, we will see a nested dictionary structure that contains a lot of information and looks something like the following."
   ]
  },
  {
   "cell_type": "code",
   "execution_count": 4,
   "metadata": {},
   "outputs": [
    {
     "name": "stdout",
     "output_type": "stream",
     "text": [
      "{'tags': [{'term': 'tech', 'scheme': None, 'label': 'r/tech'}], 'updated': '2019-11-08T19:17:11+00:00', 'updated_parsed': time.struct_time(tm_year=2019, tm_mon=11, tm_mday=8, tm_hour=19, tm_min=17, tm_sec=11, tm_wday=4, tm_yday=312, tm_isdst=0), 'icon': 'https://www.redditstatic.com/icon.png/', 'id': 'https://www.reddit.com/r/tech.rss', 'guidislink': True, 'link': 'https://www.reddit.com/r/tech', 'links': [{'rel': 'self', 'href': 'https://www.reddit.com/r/tech.rss', 'type': 'application/atom+xml'}, {'rel': 'alternate', 'href': 'https://www.reddit.com/r/tech', 'type': 'text/html'}], 'logo': 'https://f.thumbs.redditmedia.com/kI7eGVG6kaObGTdM.png', 'subtitle': 'The goal of /r/tech is to provide a space dedicated to the intelligent discussion of innovations and changes to technology in our ever changing world. We focus on high quality news articles about technology and informative and thought provoking self posts.', 'subtitle_detail': {'type': 'text/plain', 'language': None, 'base': 'https://www.reddit.com/r/tech.rss', 'value': 'The goal of /r/tech is to provide a space dedicated to the intelligent discussion of innovations and changes to technology in our ever changing world. We focus on high quality news articles about technology and informative and thought provoking self posts.'}, 'title': '/r/tech: Technological innovations and changes.', 'title_detail': {'type': 'text/plain', 'language': None, 'base': 'https://www.reddit.com/r/tech.rss', 'value': '/r/tech: Technological innovations and changes.'}}\n"
     ]
    }
   ],
   "source": [
    "print(reddit['feed'])"
   ]
  },
  {
   "cell_type": "markdown",
   "metadata": {},
   "source": [
    "This is great because we can now use what we learned earlier in the program about working with data structures to explore and extract the information we need from this.\n",
    "\n",
    "\n",
    "\n",
    "# Exploring the Parsed Feed\n",
    "\n",
    "Let's take a look at the first level of dictionary keys from the results and see what each of them looks like."
   ]
  },
  {
   "cell_type": "code",
   "execution_count": 5,
   "metadata": {},
   "outputs": [
    {
     "data": {
      "text/plain": [
       "dict_keys(['feed', 'entries', 'bozo', 'headers', 'href', 'status', 'encoding', 'version', 'namespaces'])"
      ]
     },
     "execution_count": 5,
     "metadata": {},
     "output_type": "execute_result"
    }
   ],
   "source": [
    "reddit.keys()"
   ]
  },
  {
   "cell_type": "markdown",
   "metadata": {},
   "source": [
    "These are the different components of the RSS feed, and each of them is going to contain information about something more specific. For example, feed is going to contain information about this Reddit RSS feed, entries is going to contain information about the specific entries in the feed, etc.\n",
    "\n",
    "Since the feed component is now structured as just a dictionary inside the larger dictionary, we can view its keys to get a sense of what type of information is available to us within the feed dictionary. "
   ]
  },
  {
   "cell_type": "code",
   "execution_count": 6,
   "metadata": {},
   "outputs": [
    {
     "data": {
      "text/plain": [
       "dict_keys(['tags', 'updated', 'updated_parsed', 'icon', 'id', 'guidislink', 'link', 'links', 'logo', 'subtitle', 'subtitle_detail', 'title', 'title_detail'])"
      ]
     },
     "execution_count": 6,
     "metadata": {},
     "output_type": "execute_result"
    }
   ],
   "source": [
    "reddit.feed.keys()"
   ]
  },
  {
   "cell_type": "markdown",
   "metadata": {},
   "source": [
    "Here, we can see that we would be able to extract any tags for the feed, when the feed was updated, and the icon image for the feed as well as the feed title, subtitle, and various other pieces of information about it. You can see what each of those looks like by calling each component from reddit.feed. "
   ]
  },
  {
   "cell_type": "code",
   "execution_count": 9,
   "metadata": {},
   "outputs": [
    {
     "name": "stdout",
     "output_type": "stream",
     "text": [
      "[{'term': 'tech', 'scheme': None, 'label': 'r/tech'}]\n",
      "\n",
      "https://www.redditstatic.com/icon.png/\n",
      "\n",
      "/r/tech: Technological innovations and changes.\n",
      "\n",
      "The goal of /r/tech is to provide a space dedicated to the intelligent discussion of innovations and changes to technology in our ever changing world. We focus on high quality news articles about technology and informative and thought provoking self posts.\n"
     ]
    }
   ],
   "source": [
    "print (reddit.feed.tags)\n",
    "print ('')\n",
    "print (reddit.feed.icon)\n",
    "print ('')\n",
    "print (reddit.feed.title)\n",
    "print ('')\n",
    "print (reddit.feed.subtitle)"
   ]
  },
  {
   "cell_type": "markdown",
   "metadata": {},
   "source": [
    "This is great, but the most interesting part of the feed is probably going to be the entries. We can access them as follows."
   ]
  },
  {
   "cell_type": "code",
   "execution_count": 10,
   "metadata": {},
   "outputs": [
    {
     "data": {
      "text/plain": [
       "{'authors': [{'name': '/u/OriginalHoneyBadger',\n",
       "   'href': 'https://www.reddit.com/user/OriginalHoneyBadger'}],\n",
       " 'author_detail': {'name': '/u/OriginalHoneyBadger',\n",
       "  'href': 'https://www.reddit.com/user/OriginalHoneyBadger'},\n",
       " 'href': 'https://www.reddit.com/user/OriginalHoneyBadger',\n",
       " 'author': '/u/OriginalHoneyBadger',\n",
       " 'tags': [{'term': 'tech', 'scheme': None, 'label': 'r/tech'}],\n",
       " 'content': [{'type': 'text/html',\n",
       "   'language': None,\n",
       "   'base': 'https://www.reddit.com/r/tech.rss',\n",
       "   'value': '<!-- SC_OFF --><div class=\"md\"><p>Hey guys!</p> <p>Thanks to <a href=\"/u/thonkerton\">/u/thonkerton</a>, <a href=\"/r/tech\">/r/tech</a> has an official discord server.</p> <p>The permanent join link is posted below, feel free to join and invite your friends. </p> <p>Should you have any questions, concerns or suggestions do not hesitate to reach out!</p> <p>Cheers!</p> <h4><a href=\"https://discord.gg/tech\">https://discord.gg/tech</a></h4> </div><!-- SC_ON --> &#32; submitted by &#32; <a href=\"https://www.reddit.com/user/OriginalHoneyBadger\"> /u/OriginalHoneyBadger </a> <br/> <span><a href=\"https://www.reddit.com/r/tech/comments/7dx2ew/rtech_now_has_its_own_discord_server/\">[link]</a></span> &#32; <span><a href=\"https://www.reddit.com/r/tech/comments/7dx2ew/rtech_now_has_its_own_discord_server/\">[comments]</a></span>'}],\n",
       " 'summary': '<!-- SC_OFF --><div class=\"md\"><p>Hey guys!</p> <p>Thanks to <a href=\"/u/thonkerton\">/u/thonkerton</a>, <a href=\"/r/tech\">/r/tech</a> has an official discord server.</p> <p>The permanent join link is posted below, feel free to join and invite your friends. </p> <p>Should you have any questions, concerns or suggestions do not hesitate to reach out!</p> <p>Cheers!</p> <h4><a href=\"https://discord.gg/tech\">https://discord.gg/tech</a></h4> </div><!-- SC_ON --> &#32; submitted by &#32; <a href=\"https://www.reddit.com/user/OriginalHoneyBadger\"> /u/OriginalHoneyBadger </a> <br/> <span><a href=\"https://www.reddit.com/r/tech/comments/7dx2ew/rtech_now_has_its_own_discord_server/\">[link]</a></span> &#32; <span><a href=\"https://www.reddit.com/r/tech/comments/7dx2ew/rtech_now_has_its_own_discord_server/\">[comments]</a></span>',\n",
       " 'id': 'https://www.reddit.com/r/t3_7dx2ew',\n",
       " 'guidislink': True,\n",
       " 'link': 'https://www.reddit.com/r/tech/comments/7dx2ew/rtech_now_has_its_own_discord_server/',\n",
       " 'links': [{'href': 'https://www.reddit.com/r/tech/comments/7dx2ew/rtech_now_has_its_own_discord_server/',\n",
       "   'rel': 'alternate',\n",
       "   'type': 'text/html'}],\n",
       " 'updated': '2017-11-19T00:37:30+00:00',\n",
       " 'updated_parsed': time.struct_time(tm_year=2017, tm_mon=11, tm_mday=19, tm_hour=0, tm_min=37, tm_sec=30, tm_wday=6, tm_yday=323, tm_isdst=0),\n",
       " 'title': \"/r/Tech now has it's own Discord server!\",\n",
       " 'title_detail': {'type': 'text/plain',\n",
       "  'language': None,\n",
       "  'base': 'https://www.reddit.com/r/tech.rss',\n",
       "  'value': \"/r/Tech now has it's own Discord server!\"}}"
      ]
     },
     "execution_count": 10,
     "metadata": {},
     "output_type": "execute_result"
    }
   ],
   "source": [
    "reddit.entries[0]"
   ]
  },
  {
   "cell_type": "markdown",
   "metadata": {},
   "source": [
    "We can see that the data structure within this seems to be a list where each entry is an element that contains a dictionary with the information for each entry. We can access the individual entries via indexing and then we can look at the keys available for the entry by calling the keys() method. "
   ]
  },
  {
   "cell_type": "code",
   "execution_count": 11,
   "metadata": {},
   "outputs": [
    {
     "data": {
      "text/plain": [
       "dict_keys(['authors', 'author_detail', 'href', 'author', 'tags', 'content', 'summary', 'id', 'guidislink', 'link', 'links', 'updated', 'updated_parsed', 'title', 'title_detail'])"
      ]
     },
     "execution_count": 11,
     "metadata": {},
     "output_type": "execute_result"
    }
   ],
   "source": [
    "reddit.entries[0].keys()"
   ]
  },
  {
   "cell_type": "markdown",
   "metadata": {},
   "source": [
    "If we wanted to obtain a particular piece of data for an entry, we could just index that entry and then call the key for the information we wanted. For example, if we wanted to get the title of the third entry, we would obtain it as follows.\n",
    "\n"
   ]
  },
  {
   "cell_type": "code",
   "execution_count": 12,
   "metadata": {},
   "outputs": [
    {
     "data": {
      "text/plain": [
       "'Why Silicon Valley workers are avoiding food, TV, sex, music, exercise and eye contact'"
      ]
     },
     "execution_count": 12,
     "metadata": {},
     "output_type": "execute_result"
    }
   ],
   "source": [
    "reddit.entries[2].title"
   ]
  },
  {
   "cell_type": "markdown",
   "metadata": {},
   "source": [
    "To extract the titles for all the entries, we could use a list comprehension."
   ]
  },
  {
   "cell_type": "code",
   "execution_count": 13,
   "metadata": {},
   "outputs": [
    {
     "name": "stdout",
     "output_type": "stream",
     "text": [
      "[\"/r/Tech now has it's own Discord server!\", 'Bye, Chrome: Why I’m switching to Firefox and you should too', 'Why Silicon Valley workers are avoiding food, TV, sex, music, exercise and eye contact', 'The new dot com bubble is here: it’s called online advertising', 'Tech companies rush to fight misinformation ahead of UK vote', 'Why We Need an Open, Universal Standard for Editing Documents', 'How Decentralized Technology Can Solve Age-Old Business Problems', 'Microsoft HoloLens 2 offers trippy, eyeball-tracking augmented reality', \"Why are India's Twitter users moving to Mastodon?\", 'Microsoft’s Project Silica offers robust thousand-year storage', 'Sony Announces New Alpha 9 II With Enhanced Connectivity And Workflow For Professional Sports Photographers & Photojournalists', 'Older Samsung smart TVs to lose Netflix support next month', 'Ucam is the new paradigm for privacy. Your Ucam, your data!', \"Uber self-driving car involved in fatal crash couldn't detect jaywalkers\", \"Alphabet's board is investigating how it handled harrassment charges\", 'You can make 3 minutes video with sony Imx686 image sensor.', 'AI Won’t Replace Employees, It Will Assist Them, Says Microsoft Azure Exec', 'Clear and Creepy Danger of Machine Learning: Hacking Passwords', 'Finally - A modern countdown app for iOS 13.', 'China is making a huge mistake by letting Huawei fight alone', 'Fraidycat - Toward Following People Instead of Platforms', 'Facebook Used User Data as Bargaining Chip to Pressure Competitor External Apps - Reports', 'Microsoft and Warner Bros. debut glass-based future of movie archiving', 'Strongly typed documents, move aside—Microsoft Fluid is coming', \"MIT's self-assembling robots are making moves, literally\", 'Nokia launching a smart Tv made in Indian partner with flipkart.']\n"
     ]
    }
   ],
   "source": [
    "titles = [reddit.entries[i].title for i in range(len(reddit.entries))]\n",
    "print(titles)"
   ]
  },
  {
   "cell_type": "markdown",
   "metadata": {},
   "source": [
    "# Analyzing Data From an RSS Feed\n",
    "\n",
    "Thus far, feedparser has helped us obtain data from an RSS feed and structure in a way that makes it easy for us to explore it and extract the information we need. If we wanted to analyze the data further, we could leverage the Pandas library and create a data frame containing the information about entries in the feed."
   ]
  },
  {
   "cell_type": "code",
   "execution_count": 14,
   "metadata": {},
   "outputs": [
    {
     "data": {
      "text/html": [
       "<div>\n",
       "<style scoped>\n",
       "    .dataframe tbody tr th:only-of-type {\n",
       "        vertical-align: middle;\n",
       "    }\n",
       "\n",
       "    .dataframe tbody tr th {\n",
       "        vertical-align: top;\n",
       "    }\n",
       "\n",
       "    .dataframe thead th {\n",
       "        text-align: right;\n",
       "    }\n",
       "</style>\n",
       "<table border=\"1\" class=\"dataframe\">\n",
       "  <thead>\n",
       "    <tr style=\"text-align: right;\">\n",
       "      <th></th>\n",
       "      <th>authors</th>\n",
       "      <th>author_detail</th>\n",
       "      <th>href</th>\n",
       "      <th>author</th>\n",
       "      <th>tags</th>\n",
       "      <th>content</th>\n",
       "      <th>summary</th>\n",
       "      <th>id</th>\n",
       "      <th>guidislink</th>\n",
       "      <th>link</th>\n",
       "      <th>links</th>\n",
       "      <th>updated</th>\n",
       "      <th>updated_parsed</th>\n",
       "      <th>title</th>\n",
       "      <th>title_detail</th>\n",
       "    </tr>\n",
       "  </thead>\n",
       "  <tbody>\n",
       "    <tr>\n",
       "      <th>0</th>\n",
       "      <td>[{'name': '/u/OriginalHoneyBadger', 'href': 'h...</td>\n",
       "      <td>{'name': '/u/OriginalHoneyBadger', 'href': 'ht...</td>\n",
       "      <td>https://www.reddit.com/user/OriginalHoneyBadger</td>\n",
       "      <td>/u/OriginalHoneyBadger</td>\n",
       "      <td>[{'term': 'tech', 'scheme': None, 'label': 'r/...</td>\n",
       "      <td>[{'type': 'text/html', 'language': None, 'base...</td>\n",
       "      <td>&lt;!-- SC_OFF --&gt;&lt;div class=\"md\"&gt;&lt;p&gt;Hey guys!&lt;/p...</td>\n",
       "      <td>https://www.reddit.com/r/t3_7dx2ew</td>\n",
       "      <td>True</td>\n",
       "      <td>https://www.reddit.com/r/tech/comments/7dx2ew/...</td>\n",
       "      <td>[{'href': 'https://www.reddit.com/r/tech/comme...</td>\n",
       "      <td>2017-11-19T00:37:30+00:00</td>\n",
       "      <td>(2017, 11, 19, 0, 37, 30, 6, 323, 0)</td>\n",
       "      <td>/r/Tech now has it's own Discord server!</td>\n",
       "      <td>{'type': 'text/plain', 'language': None, 'base...</td>\n",
       "    </tr>\n",
       "    <tr>\n",
       "      <th>1</th>\n",
       "      <td>[{'name': '/u/afterburners_engaged', 'href': '...</td>\n",
       "      <td>{'name': '/u/afterburners_engaged', 'href': 'h...</td>\n",
       "      <td>https://www.reddit.com/user/afterburners_engaged</td>\n",
       "      <td>/u/afterburners_engaged</td>\n",
       "      <td>[{'term': 'tech', 'scheme': None, 'label': 'r/...</td>\n",
       "      <td>[{'type': 'text/html', 'language': None, 'base...</td>\n",
       "      <td>&amp;#32; submitted by &amp;#32; &lt;a href=\"https://www....</td>\n",
       "      <td>https://www.reddit.com/r/t3_dtfhh7</td>\n",
       "      <td>True</td>\n",
       "      <td>https://www.reddit.com/r/tech/comments/dtfhh7/...</td>\n",
       "      <td>[{'href': 'https://www.reddit.com/r/tech/comme...</td>\n",
       "      <td>2019-11-08T13:32:57+00:00</td>\n",
       "      <td>(2019, 11, 8, 13, 32, 57, 4, 312, 0)</td>\n",
       "      <td>Bye, Chrome: Why I’m switching to Firefox and ...</td>\n",
       "      <td>{'type': 'text/plain', 'language': None, 'base...</td>\n",
       "    </tr>\n",
       "    <tr>\n",
       "      <th>2</th>\n",
       "      <td>[{'name': '/u/djwired', 'href': 'https://www.r...</td>\n",
       "      <td>{'name': '/u/djwired', 'href': 'https://www.re...</td>\n",
       "      <td>https://www.reddit.com/user/djwired</td>\n",
       "      <td>/u/djwired</td>\n",
       "      <td>[{'term': 'tech', 'scheme': None, 'label': 'r/...</td>\n",
       "      <td>[{'type': 'text/html', 'language': None, 'base...</td>\n",
       "      <td>&amp;#32; submitted by &amp;#32; &lt;a href=\"https://www....</td>\n",
       "      <td>https://www.reddit.com/r/t3_dted2d</td>\n",
       "      <td>True</td>\n",
       "      <td>https://www.reddit.com/r/tech/comments/dted2d/...</td>\n",
       "      <td>[{'href': 'https://www.reddit.com/r/tech/comme...</td>\n",
       "      <td>2019-11-08T11:51:29+00:00</td>\n",
       "      <td>(2019, 11, 8, 11, 51, 29, 4, 312, 0)</td>\n",
       "      <td>Why Silicon Valley workers are avoiding food, ...</td>\n",
       "      <td>{'type': 'text/plain', 'language': None, 'base...</td>\n",
       "    </tr>\n",
       "    <tr>\n",
       "      <th>3</th>\n",
       "      <td>[{'name': '/u/jessefrederik', 'href': 'https:/...</td>\n",
       "      <td>{'name': '/u/jessefrederik', 'href': 'https://...</td>\n",
       "      <td>https://www.reddit.com/user/jessefrederik</td>\n",
       "      <td>/u/jessefrederik</td>\n",
       "      <td>[{'term': 'tech', 'scheme': None, 'label': 'r/...</td>\n",
       "      <td>[{'type': 'text/html', 'language': None, 'base...</td>\n",
       "      <td>&amp;#32; submitted by &amp;#32; &lt;a href=\"https://www....</td>\n",
       "      <td>https://www.reddit.com/r/t3_dsx419</td>\n",
       "      <td>True</td>\n",
       "      <td>https://www.reddit.com/r/tech/comments/dsx419/...</td>\n",
       "      <td>[{'href': 'https://www.reddit.com/r/tech/comme...</td>\n",
       "      <td>2019-11-07T12:34:50+00:00</td>\n",
       "      <td>(2019, 11, 7, 12, 34, 50, 3, 311, 0)</td>\n",
       "      <td>The new dot com bubble is here: it’s called on...</td>\n",
       "      <td>{'type': 'text/plain', 'language': None, 'base...</td>\n",
       "    </tr>\n",
       "    <tr>\n",
       "      <th>4</th>\n",
       "      <td>[{'name': '/u/JackFisherBooks', 'href': 'https...</td>\n",
       "      <td>{'name': '/u/JackFisherBooks', 'href': 'https:...</td>\n",
       "      <td>https://www.reddit.com/user/JackFisherBooks</td>\n",
       "      <td>/u/JackFisherBooks</td>\n",
       "      <td>[{'term': 'tech', 'scheme': None, 'label': 'r/...</td>\n",
       "      <td>[{'type': 'text/html', 'language': None, 'base...</td>\n",
       "      <td>&amp;#32; submitted by &amp;#32; &lt;a href=\"https://www....</td>\n",
       "      <td>https://www.reddit.com/r/t3_dte9nj</td>\n",
       "      <td>True</td>\n",
       "      <td>https://www.reddit.com/r/tech/comments/dte9nj/...</td>\n",
       "      <td>[{'href': 'https://www.reddit.com/r/tech/comme...</td>\n",
       "      <td>2019-11-08T11:42:06+00:00</td>\n",
       "      <td>(2019, 11, 8, 11, 42, 6, 4, 312, 0)</td>\n",
       "      <td>Tech companies rush to fight misinformation ah...</td>\n",
       "      <td>{'type': 'text/plain', 'language': None, 'base...</td>\n",
       "    </tr>\n",
       "  </tbody>\n",
       "</table>\n",
       "</div>"
      ],
      "text/plain": [
       "                                             authors  \\\n",
       "0  [{'name': '/u/OriginalHoneyBadger', 'href': 'h...   \n",
       "1  [{'name': '/u/afterburners_engaged', 'href': '...   \n",
       "2  [{'name': '/u/djwired', 'href': 'https://www.r...   \n",
       "3  [{'name': '/u/jessefrederik', 'href': 'https:/...   \n",
       "4  [{'name': '/u/JackFisherBooks', 'href': 'https...   \n",
       "\n",
       "                                       author_detail  \\\n",
       "0  {'name': '/u/OriginalHoneyBadger', 'href': 'ht...   \n",
       "1  {'name': '/u/afterburners_engaged', 'href': 'h...   \n",
       "2  {'name': '/u/djwired', 'href': 'https://www.re...   \n",
       "3  {'name': '/u/jessefrederik', 'href': 'https://...   \n",
       "4  {'name': '/u/JackFisherBooks', 'href': 'https:...   \n",
       "\n",
       "                                               href                   author  \\\n",
       "0   https://www.reddit.com/user/OriginalHoneyBadger   /u/OriginalHoneyBadger   \n",
       "1  https://www.reddit.com/user/afterburners_engaged  /u/afterburners_engaged   \n",
       "2               https://www.reddit.com/user/djwired               /u/djwired   \n",
       "3         https://www.reddit.com/user/jessefrederik         /u/jessefrederik   \n",
       "4       https://www.reddit.com/user/JackFisherBooks       /u/JackFisherBooks   \n",
       "\n",
       "                                                tags  \\\n",
       "0  [{'term': 'tech', 'scheme': None, 'label': 'r/...   \n",
       "1  [{'term': 'tech', 'scheme': None, 'label': 'r/...   \n",
       "2  [{'term': 'tech', 'scheme': None, 'label': 'r/...   \n",
       "3  [{'term': 'tech', 'scheme': None, 'label': 'r/...   \n",
       "4  [{'term': 'tech', 'scheme': None, 'label': 'r/...   \n",
       "\n",
       "                                             content  \\\n",
       "0  [{'type': 'text/html', 'language': None, 'base...   \n",
       "1  [{'type': 'text/html', 'language': None, 'base...   \n",
       "2  [{'type': 'text/html', 'language': None, 'base...   \n",
       "3  [{'type': 'text/html', 'language': None, 'base...   \n",
       "4  [{'type': 'text/html', 'language': None, 'base...   \n",
       "\n",
       "                                             summary  \\\n",
       "0  <!-- SC_OFF --><div class=\"md\"><p>Hey guys!</p...   \n",
       "1  &#32; submitted by &#32; <a href=\"https://www....   \n",
       "2  &#32; submitted by &#32; <a href=\"https://www....   \n",
       "3  &#32; submitted by &#32; <a href=\"https://www....   \n",
       "4  &#32; submitted by &#32; <a href=\"https://www....   \n",
       "\n",
       "                                   id  guidislink  \\\n",
       "0  https://www.reddit.com/r/t3_7dx2ew        True   \n",
       "1  https://www.reddit.com/r/t3_dtfhh7        True   \n",
       "2  https://www.reddit.com/r/t3_dted2d        True   \n",
       "3  https://www.reddit.com/r/t3_dsx419        True   \n",
       "4  https://www.reddit.com/r/t3_dte9nj        True   \n",
       "\n",
       "                                                link  \\\n",
       "0  https://www.reddit.com/r/tech/comments/7dx2ew/...   \n",
       "1  https://www.reddit.com/r/tech/comments/dtfhh7/...   \n",
       "2  https://www.reddit.com/r/tech/comments/dted2d/...   \n",
       "3  https://www.reddit.com/r/tech/comments/dsx419/...   \n",
       "4  https://www.reddit.com/r/tech/comments/dte9nj/...   \n",
       "\n",
       "                                               links  \\\n",
       "0  [{'href': 'https://www.reddit.com/r/tech/comme...   \n",
       "1  [{'href': 'https://www.reddit.com/r/tech/comme...   \n",
       "2  [{'href': 'https://www.reddit.com/r/tech/comme...   \n",
       "3  [{'href': 'https://www.reddit.com/r/tech/comme...   \n",
       "4  [{'href': 'https://www.reddit.com/r/tech/comme...   \n",
       "\n",
       "                     updated                        updated_parsed  \\\n",
       "0  2017-11-19T00:37:30+00:00  (2017, 11, 19, 0, 37, 30, 6, 323, 0)   \n",
       "1  2019-11-08T13:32:57+00:00  (2019, 11, 8, 13, 32, 57, 4, 312, 0)   \n",
       "2  2019-11-08T11:51:29+00:00  (2019, 11, 8, 11, 51, 29, 4, 312, 0)   \n",
       "3  2019-11-07T12:34:50+00:00  (2019, 11, 7, 12, 34, 50, 3, 311, 0)   \n",
       "4  2019-11-08T11:42:06+00:00   (2019, 11, 8, 11, 42, 6, 4, 312, 0)   \n",
       "\n",
       "                                               title  \\\n",
       "0           /r/Tech now has it's own Discord server!   \n",
       "1  Bye, Chrome: Why I’m switching to Firefox and ...   \n",
       "2  Why Silicon Valley workers are avoiding food, ...   \n",
       "3  The new dot com bubble is here: it’s called on...   \n",
       "4  Tech companies rush to fight misinformation ah...   \n",
       "\n",
       "                                        title_detail  \n",
       "0  {'type': 'text/plain', 'language': None, 'base...  \n",
       "1  {'type': 'text/plain', 'language': None, 'base...  \n",
       "2  {'type': 'text/plain', 'language': None, 'base...  \n",
       "3  {'type': 'text/plain', 'language': None, 'base...  \n",
       "4  {'type': 'text/plain', 'language': None, 'base...  "
      ]
     },
     "execution_count": 14,
     "metadata": {},
     "output_type": "execute_result"
    }
   ],
   "source": [
    "import pandas as pd\n",
    "\n",
    "df = pd.DataFrame(reddit.entries)\n",
    "df.head()"
   ]
  },
  {
   "cell_type": "markdown",
   "metadata": {},
   "source": [
    "Now that we have the information in a data frame, we can use Pandas to perform a variety of aggregations and calculations. For example, suppose we wanted to know which author has posted the most entries. We could do that by aggregating by author, counting the number of entry titles, and then sorting the results in descending order."
   ]
  },
  {
   "cell_type": "code",
   "execution_count": 15,
   "metadata": {},
   "outputs": [
    {
     "data": {
      "text/html": [
       "<div>\n",
       "<style scoped>\n",
       "    .dataframe tbody tr th:only-of-type {\n",
       "        vertical-align: middle;\n",
       "    }\n",
       "\n",
       "    .dataframe tbody tr th {\n",
       "        vertical-align: top;\n",
       "    }\n",
       "\n",
       "    .dataframe thead th {\n",
       "        text-align: right;\n",
       "    }\n",
       "</style>\n",
       "<table border=\"1\" class=\"dataframe\">\n",
       "  <thead>\n",
       "    <tr style=\"text-align: right;\">\n",
       "      <th></th>\n",
       "      <th>author</th>\n",
       "      <th>entries</th>\n",
       "    </tr>\n",
       "  </thead>\n",
       "  <tbody>\n",
       "    <tr>\n",
       "      <th>11</th>\n",
       "      <td>/u/eberkut</td>\n",
       "      <td>4</td>\n",
       "    </tr>\n",
       "    <tr>\n",
       "      <th>10</th>\n",
       "      <td>/u/djwired</td>\n",
       "      <td>2</td>\n",
       "    </tr>\n",
       "    <tr>\n",
       "      <th>9</th>\n",
       "      <td>/u/austinpeters422</td>\n",
       "      <td>2</td>\n",
       "    </tr>\n",
       "    <tr>\n",
       "      <th>19</th>\n",
       "      <td>/u/thehandsomegenius</td>\n",
       "      <td>1</td>\n",
       "    </tr>\n",
       "    <tr>\n",
       "      <th>18</th>\n",
       "      <td>/u/seo-client</td>\n",
       "      <td>1</td>\n",
       "    </tr>\n",
       "    <tr>\n",
       "      <th>17</th>\n",
       "      <td>/u/sdblro</td>\n",
       "      <td>1</td>\n",
       "    </tr>\n",
       "    <tr>\n",
       "      <th>16</th>\n",
       "      <td>/u/reed_von_ingalls</td>\n",
       "      <td>1</td>\n",
       "    </tr>\n",
       "    <tr>\n",
       "      <th>15</th>\n",
       "      <td>/u/lyricalfish</td>\n",
       "      <td>1</td>\n",
       "    </tr>\n",
       "    <tr>\n",
       "      <th>14</th>\n",
       "      <td>/u/khoshvar001</td>\n",
       "      <td>1</td>\n",
       "    </tr>\n",
       "    <tr>\n",
       "      <th>13</th>\n",
       "      <td>/u/jessefrederik</td>\n",
       "      <td>1</td>\n",
       "    </tr>\n",
       "    <tr>\n",
       "      <th>12</th>\n",
       "      <td>/u/ga-vu</td>\n",
       "      <td>1</td>\n",
       "    </tr>\n",
       "    <tr>\n",
       "      <th>0</th>\n",
       "      <td>/u/1IOSDev</td>\n",
       "      <td>1</td>\n",
       "    </tr>\n",
       "    <tr>\n",
       "      <th>1</th>\n",
       "      <td>/u/4eak</td>\n",
       "      <td>1</td>\n",
       "    </tr>\n",
       "    <tr>\n",
       "      <th>8</th>\n",
       "      <td>/u/afterburners_engaged</td>\n",
       "      <td>1</td>\n",
       "    </tr>\n",
       "    <tr>\n",
       "      <th>7</th>\n",
       "      <td>/u/OriginalHoneyBadger</td>\n",
       "      <td>1</td>\n",
       "    </tr>\n",
       "    <tr>\n",
       "      <th>6</th>\n",
       "      <td>/u/McNothingness</td>\n",
       "      <td>1</td>\n",
       "    </tr>\n",
       "    <tr>\n",
       "      <th>5</th>\n",
       "      <td>/u/Leonid83</td>\n",
       "      <td>1</td>\n",
       "    </tr>\n",
       "    <tr>\n",
       "      <th>4</th>\n",
       "      <td>/u/Led160</td>\n",
       "      <td>1</td>\n",
       "    </tr>\n",
       "    <tr>\n",
       "      <th>3</th>\n",
       "      <td>/u/Kylde</td>\n",
       "      <td>1</td>\n",
       "    </tr>\n",
       "    <tr>\n",
       "      <th>2</th>\n",
       "      <td>/u/JackFisherBooks</td>\n",
       "      <td>1</td>\n",
       "    </tr>\n",
       "    <tr>\n",
       "      <th>20</th>\n",
       "      <td>/u/worldpins</td>\n",
       "      <td>1</td>\n",
       "    </tr>\n",
       "  </tbody>\n",
       "</table>\n",
       "</div>"
      ],
      "text/plain": [
       "                     author  entries\n",
       "11               /u/eberkut        4\n",
       "10               /u/djwired        2\n",
       "9        /u/austinpeters422        2\n",
       "19     /u/thehandsomegenius        1\n",
       "18            /u/seo-client        1\n",
       "17                /u/sdblro        1\n",
       "16      /u/reed_von_ingalls        1\n",
       "15           /u/lyricalfish        1\n",
       "14           /u/khoshvar001        1\n",
       "13         /u/jessefrederik        1\n",
       "12                 /u/ga-vu        1\n",
       "0                /u/1IOSDev        1\n",
       "1                   /u/4eak        1\n",
       "8   /u/afterburners_engaged        1\n",
       "7    /u/OriginalHoneyBadger        1\n",
       "6          /u/McNothingness        1\n",
       "5               /u/Leonid83        1\n",
       "4                 /u/Led160        1\n",
       "3                  /u/Kylde        1\n",
       "2        /u/JackFisherBooks        1\n",
       "20             /u/worldpins        1"
      ]
     },
     "execution_count": 15,
     "metadata": {},
     "output_type": "execute_result"
    }
   ],
   "source": [
    "authors = df.groupby('author', as_index=False).agg({'title':'count'})\n",
    "authors.columns = ['author', 'entries']\n",
    "authors.sort_values('entries', ascending=False)"
   ]
  },
  {
   "cell_type": "markdown",
   "metadata": {},
   "source": [
    "Similarly, if we wanted to see which entries had the longest titles, we could create a new column called title_length that contains the number of characters in the title and then sort the data frame by that new column. "
   ]
  },
  {
   "cell_type": "code",
   "execution_count": 16,
   "metadata": {},
   "outputs": [
    {
     "data": {
      "text/html": [
       "<div>\n",
       "<style scoped>\n",
       "    .dataframe tbody tr th:only-of-type {\n",
       "        vertical-align: middle;\n",
       "    }\n",
       "\n",
       "    .dataframe tbody tr th {\n",
       "        vertical-align: top;\n",
       "    }\n",
       "\n",
       "    .dataframe thead th {\n",
       "        text-align: right;\n",
       "    }\n",
       "</style>\n",
       "<table border=\"1\" class=\"dataframe\">\n",
       "  <thead>\n",
       "    <tr style=\"text-align: right;\">\n",
       "      <th></th>\n",
       "      <th>title</th>\n",
       "      <th>author</th>\n",
       "      <th>title_length</th>\n",
       "    </tr>\n",
       "  </thead>\n",
       "  <tbody>\n",
       "    <tr>\n",
       "      <th>10</th>\n",
       "      <td>Sony Announces New Alpha 9 II With Enhanced Co...</td>\n",
       "      <td>/u/worldpins</td>\n",
       "      <td>126</td>\n",
       "    </tr>\n",
       "    <tr>\n",
       "      <th>21</th>\n",
       "      <td>Facebook Used User Data as Bargaining Chip to ...</td>\n",
       "      <td>/u/khoshvar001</td>\n",
       "      <td>89</td>\n",
       "    </tr>\n",
       "    <tr>\n",
       "      <th>2</th>\n",
       "      <td>Why Silicon Valley workers are avoiding food, ...</td>\n",
       "      <td>/u/djwired</td>\n",
       "      <td>86</td>\n",
       "    </tr>\n",
       "    <tr>\n",
       "      <th>16</th>\n",
       "      <td>AI Won’t Replace Employees, It Will Assist The...</td>\n",
       "      <td>/u/McNothingness</td>\n",
       "      <td>74</td>\n",
       "    </tr>\n",
       "    <tr>\n",
       "      <th>13</th>\n",
       "      <td>Uber self-driving car involved in fatal crash ...</td>\n",
       "      <td>/u/djwired</td>\n",
       "      <td>72</td>\n",
       "    </tr>\n",
       "  </tbody>\n",
       "</table>\n",
       "</div>"
      ],
      "text/plain": [
       "                                                title            author  \\\n",
       "10  Sony Announces New Alpha 9 II With Enhanced Co...      /u/worldpins   \n",
       "21  Facebook Used User Data as Bargaining Chip to ...    /u/khoshvar001   \n",
       "2   Why Silicon Valley workers are avoiding food, ...        /u/djwired   \n",
       "16  AI Won’t Replace Employees, It Will Assist The...  /u/McNothingness   \n",
       "13  Uber self-driving car involved in fatal crash ...        /u/djwired   \n",
       "\n",
       "    title_length  \n",
       "10           126  \n",
       "21            89  \n",
       "2             86  \n",
       "16            74  \n",
       "13            72  "
      ]
     },
     "execution_count": 16,
     "metadata": {},
     "output_type": "execute_result"
    }
   ],
   "source": [
    "df['title_length'] = df['title'].apply(len)\n",
    "df[['title', 'author', 'title_length']].sort_values('title_length', ascending=False).head()"
   ]
  },
  {
   "cell_type": "markdown",
   "metadata": {},
   "source": [
    "These are just a couple of the things you can analyze about the entries using the information we were able to obtain."
   ]
  },
  {
   "cell_type": "code",
   "execution_count": null,
   "metadata": {},
   "outputs": [],
   "source": []
  }
 ],
 "metadata": {
  "kernelspec": {
   "display_name": "Python 3",
   "language": "python",
   "name": "python3"
  },
  "language_info": {
   "codemirror_mode": {
    "name": "ipython",
    "version": 3
   },
   "file_extension": ".py",
   "mimetype": "text/x-python",
   "name": "python",
   "nbconvert_exporter": "python",
   "pygments_lexer": "ipython3",
   "version": "3.7.4"
  }
 },
 "nbformat": 4,
 "nbformat_minor": 2
}
