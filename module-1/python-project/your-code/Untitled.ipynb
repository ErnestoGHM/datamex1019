{
 "cells": [
  {
   "cell_type": "markdown",
   "metadata": {},
   "source": [
    "This program tests the life of an evaporator containing a gas.\n",
    "\n",
    "We know the content of the evaporator (content in ml), the percentage of foam or gas lost every day (evap_per_day) and the threshold (threshold) in percentage beyond which the evaporator is no longer useful. All numbers are strictly positive.\n",
    "\n",
    "The program reports the nth day (as an integer) on which the evaporator will be out of use.\n",
    "\n",
    "Note : Content is in fact not necessary in the body of the function \"evaporator\", you can use it or not use it, as you wish. Some people might prefer to reason with content, some other with percentages only. It's up to you but you must keep it as a parameter because the tests have it as an argument.\n",
    "\n",
    "##test.assert_equals(evaporator(10, 10, 10), 22)"
   ]
  },
  {
   "cell_type": "code",
   "execution_count": 25,
   "metadata": {},
   "outputs": [],
   "source": [
    "def evaporator(content, evap_per_day, threshold):\n",
    "    d = 0\n",
    "    x=content\n",
    "    while x > threshold/100*content:\n",
    "        x -= x*evap_per_day/100\n",
    "        d += 1\n",
    "        \n",
    "    return d\n"
   ]
  },
  {
   "cell_type": "code",
   "execution_count": 26,
   "metadata": {},
   "outputs": [
    {
     "name": "stdout",
     "output_type": "stream",
     "text": [
      "9.0\n",
      "8.1\n",
      "7.289999999999999\n",
      "6.560999999999999\n",
      "5.9049\n",
      "5.31441\n",
      "4.782969\n",
      "4.3046720999999994\n",
      "3.8742048899999997\n",
      "3.4867844009999995\n",
      "3.1381059608999995\n",
      "2.8242953648099993\n",
      "2.5418658283289997\n",
      "2.2876792454960997\n",
      "2.0589113209464895\n",
      "1.8530201888518407\n",
      "1.6677181699666566\n",
      "1.500946352969991\n",
      "1.3508517176729917\n",
      "1.2157665459056926\n",
      "1.0941898913151233\n",
      "0.9847709021836111\n"
     ]
    },
    {
     "data": {
      "text/plain": [
       "22"
      ]
     },
     "execution_count": 26,
     "metadata": {},
     "output_type": "execute_result"
    }
   ],
   "source": [
    "evaporator(10,10,10)"
   ]
  },
  {
   "cell_type": "code",
   "execution_count": null,
   "metadata": {},
   "outputs": [],
   "source": []
  }
 ],
 "metadata": {
  "kernelspec": {
   "display_name": "Python 3",
   "language": "python",
   "name": "python3"
  },
  "language_info": {
   "codemirror_mode": {
    "name": "ipython",
    "version": 3
   },
   "file_extension": ".py",
   "mimetype": "text/x-python",
   "name": "python",
   "nbconvert_exporter": "python",
   "pygments_lexer": "ipython3",
   "version": "3.7.4"
  }
 },
 "nbformat": 4,
 "nbformat_minor": 2
}
