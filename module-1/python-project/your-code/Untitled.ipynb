{
 "cells": [
  {
   "cell_type": "code",
   "execution_count": 1,
   "metadata": {},
   "outputs": [],
   "source": [
    "import numpy as np"
   ]
  },
  {
   "cell_type": "code",
   "execution_count": 2,
   "metadata": {},
   "outputs": [
    {
     "data": {
      "text/plain": [
       "array([[0.55269707, 0.54772361, 0.98002684, 0.19697413],\n",
       "       [0.28770927, 0.07929153, 0.764722  , 0.9256423 ],\n",
       "       [0.47377033, 0.80951071, 0.53731121, 0.16358845],\n",
       "       [0.19058867, 0.82340839, 0.72274002, 0.05866694],\n",
       "       [0.47342142, 0.22519919, 0.83382477, 0.18086772],\n",
       "       [0.15773911, 0.66571492, 0.83586034, 0.88004644],\n",
       "       [0.6627818 , 0.88704229, 0.51895742, 0.29546822],\n",
       "       [0.90410974, 0.68012723, 0.24247989, 0.87554769],\n",
       "       [0.0507415 , 0.35433516, 0.39900791, 0.62277415],\n",
       "       [0.62712254, 0.11346302, 0.73323541, 0.46553218]])"
      ]
     },
     "execution_count": 2,
     "metadata": {},
     "output_type": "execute_result"
    }
   ],
   "source": [
    "a=np.random.random((10,4))\n",
    "a"
   ]
  },
  {
   "cell_type": "code",
   "execution_count": 3,
   "metadata": {},
   "outputs": [
    {
     "data": {
      "text/plain": [
       "(10, 4)"
      ]
     },
     "execution_count": 3,
     "metadata": {},
     "output_type": "execute_result"
    }
   ],
   "source": [
    "a.shape"
   ]
  },
  {
   "cell_type": "code",
   "execution_count": 4,
   "metadata": {},
   "outputs": [
    {
     "data": {
      "text/plain": [
       "40"
      ]
     },
     "execution_count": 4,
     "metadata": {},
     "output_type": "execute_result"
    }
   ],
   "source": [
    "a.size"
   ]
  },
  {
   "cell_type": "code",
   "execution_count": 5,
   "metadata": {},
   "outputs": [
    {
     "data": {
      "text/plain": [
       "array([0.55269707, 0.54772361, 0.98002684, 0.19697413])"
      ]
     },
     "execution_count": 5,
     "metadata": {},
     "output_type": "execute_result"
    }
   ],
   "source": [
    "a[0]"
   ]
  },
  {
   "cell_type": "code",
   "execution_count": 7,
   "metadata": {},
   "outputs": [
    {
     "data": {
      "text/plain": [
       "array([[[0.96022057, 0.32357265],\n",
       "        [0.94391164, 0.34532579],\n",
       "        [0.58778981, 0.09889864]],\n",
       "\n",
       "       [[0.7255811 , 0.96393407],\n",
       "        [0.01237296, 0.84492895],\n",
       "        [0.94266654, 0.41525484]],\n",
       "\n",
       "       [[0.47996116, 0.43191374],\n",
       "        [0.72285751, 0.07325477],\n",
       "        [0.47420291, 0.12061482]],\n",
       "\n",
       "       [[0.07923126, 0.37861171],\n",
       "        [0.13744115, 0.24748599],\n",
       "        [0.62104018, 0.80825134]],\n",
       "\n",
       "       [[0.60957786, 0.75267726],\n",
       "        [0.52558181, 0.59806295],\n",
       "        [0.37647122, 0.15334737]]])"
      ]
     },
     "execution_count": 7,
     "metadata": {},
     "output_type": "execute_result"
    }
   ],
   "source": [
    "b=np.random.random((5,3,2))\n",
    "b"
   ]
  },
  {
   "cell_type": "code",
   "execution_count": 8,
   "metadata": {},
   "outputs": [
    {
     "data": {
      "text/plain": [
       "(5, 3, 2)"
      ]
     },
     "execution_count": 8,
     "metadata": {},
     "output_type": "execute_result"
    }
   ],
   "source": [
    "b.shape"
   ]
  },
  {
   "cell_type": "code",
   "execution_count": 9,
   "metadata": {},
   "outputs": [
    {
     "data": {
      "text/plain": [
       "30"
      ]
     },
     "execution_count": 9,
     "metadata": {},
     "output_type": "execute_result"
    }
   ],
   "source": [
    "b.size"
   ]
  },
  {
   "cell_type": "code",
   "execution_count": 10,
   "metadata": {},
   "outputs": [
    {
     "data": {
      "text/plain": [
       "array([[[[0.93235363, 0.82021165, 0.11131105, 0.59389912, 0.8153785 ],\n",
       "         [0.01365642, 0.92996946, 0.08345577, 0.79738541, 0.49739656],\n",
       "         [0.34749746, 0.40212498, 0.62598784, 0.26846407, 0.92975562],\n",
       "         [0.45582472, 0.64647367, 0.2010888 , 0.90631767, 0.30974292]],\n",
       "\n",
       "        [[0.53345945, 0.31964712, 0.05363005, 0.35451206, 0.58250186],\n",
       "         [0.92017837, 0.00648457, 0.18903492, 0.11582658, 0.54363101],\n",
       "         [0.17295689, 0.19896724, 0.52480803, 0.64457698, 0.08085444],\n",
       "         [0.08675363, 0.31158823, 0.77144649, 0.68376471, 0.45491282]],\n",
       "\n",
       "        [[0.36346892, 0.56987802, 0.31900298, 0.64664533, 0.5777318 ],\n",
       "         [0.86967721, 0.07318255, 0.61347175, 0.78215762, 0.27793372],\n",
       "         [0.0217113 , 0.61779695, 0.70346103, 0.99897495, 0.89398684],\n",
       "         [0.76763284, 0.68841067, 0.46354437, 0.80868411, 0.88339793]]],\n",
       "\n",
       "\n",
       "       [[[0.97616478, 0.97280996, 0.45047066, 0.74122495, 0.63464455],\n",
       "         [0.04115303, 0.59031949, 0.86392711, 0.05511782, 0.78103647],\n",
       "         [0.02230784, 0.24907964, 0.42598721, 0.17222021, 0.16117444],\n",
       "         [0.36956411, 0.27340506, 0.91634607, 0.12394797, 0.57317407]],\n",
       "\n",
       "        [[0.52074678, 0.5579121 , 0.23974901, 0.61702989, 0.66017154],\n",
       "         [0.16251138, 0.8616301 , 0.4053395 , 0.6668829 , 0.37777057],\n",
       "         [0.40959356, 0.32517186, 0.06005957, 0.39416909, 0.45652917],\n",
       "         [0.20984141, 0.61183131, 0.00937991, 0.16745113, 0.04942344]],\n",
       "\n",
       "        [[0.707841  , 0.05636642, 0.69035737, 0.71446758, 0.92720761],\n",
       "         [0.0354667 , 0.50031784, 0.15166687, 0.62096924, 0.41787677],\n",
       "         [0.30245558, 0.11473667, 0.99307451, 0.50437523, 0.22298779],\n",
       "         [0.27910493, 0.03652656, 0.40842743, 0.06398587, 0.35314467]]]])"
      ]
     },
     "execution_count": 10,
     "metadata": {},
     "output_type": "execute_result"
    }
   ],
   "source": [
    "c=np.random.random((2,3,4,5))\n",
    "c"
   ]
  },
  {
   "cell_type": "code",
   "execution_count": 11,
   "metadata": {},
   "outputs": [
    {
     "data": {
      "text/plain": [
       "array([], shape=(0, 4), dtype=float64)"
      ]
     },
     "execution_count": 11,
     "metadata": {},
     "output_type": "execute_result"
    }
   ],
   "source": [
    "a[:0]"
   ]
  },
  {
   "cell_type": "code",
   "execution_count": 12,
   "metadata": {},
   "outputs": [
    {
     "data": {
      "text/plain": [
       "array([0.55269707, 0.28770927, 0.47377033, 0.19058867, 0.47342142,\n",
       "       0.15773911, 0.6627818 , 0.90410974, 0.0507415 , 0.62712254])"
      ]
     },
     "execution_count": 12,
     "metadata": {},
     "output_type": "execute_result"
    }
   ],
   "source": [
    "a[:,0]"
   ]
  },
  {
   "cell_type": "code",
   "execution_count": 13,
   "metadata": {},
   "outputs": [
    {
     "data": {
      "text/plain": [
       "array([0.55269707, 0.54772361, 0.98002684, 0.19697413])"
      ]
     },
     "execution_count": 13,
     "metadata": {},
     "output_type": "execute_result"
    }
   ],
   "source": [
    "a[0,:]"
   ]
  },
  {
   "cell_type": "code",
   "execution_count": 14,
   "metadata": {},
   "outputs": [
    {
     "data": {
      "text/plain": [
       "0.8338247697580932"
      ]
     },
     "execution_count": 14,
     "metadata": {},
     "output_type": "execute_result"
    }
   ],
   "source": [
    "a[4][2]"
   ]
  },
  {
   "cell_type": "code",
   "execution_count": 15,
   "metadata": {},
   "outputs": [
    {
     "data": {
      "text/plain": [
       "0.8338247697580932"
      ]
     },
     "execution_count": 15,
     "metadata": {},
     "output_type": "execute_result"
    }
   ],
   "source": [
    "a[4,2]"
   ]
  },
  {
   "cell_type": "code",
   "execution_count": 17,
   "metadata": {},
   "outputs": [
    {
     "data": {
      "text/plain": [
       "0.3196471160846829"
      ]
     },
     "execution_count": 17,
     "metadata": {},
     "output_type": "execute_result"
    }
   ],
   "source": [
    "c[0][1][0][1]"
   ]
  },
  {
   "cell_type": "code",
   "execution_count": 18,
   "metadata": {},
   "outputs": [
    {
     "data": {
      "text/plain": [
       "0.3196471160846829"
      ]
     },
     "execution_count": 18,
     "metadata": {},
     "output_type": "execute_result"
    }
   ],
   "source": [
    "c[0,1,0,1]"
   ]
  },
  {
   "cell_type": "code",
   "execution_count": 19,
   "metadata": {},
   "outputs": [],
   "source": [
    "import pandas as pd"
   ]
  },
  {
   "cell_type": "code",
   "execution_count": 20,
   "metadata": {},
   "outputs": [
    {
     "data": {
      "text/plain": [
       "0    0.626965\n",
       "1    0.897748\n",
       "2    0.586500\n",
       "3    0.854758\n",
       "4    0.815776\n",
       "5    0.745175\n",
       "6    0.697300\n",
       "7    0.864464\n",
       "8    0.307694\n",
       "9    0.142530\n",
       "dtype: float64"
      ]
     },
     "execution_count": 20,
     "metadata": {},
     "output_type": "execute_result"
    }
   ],
   "source": [
    "s=pd.Series(np.random.random(10))\n",
    "s"
   ]
  },
  {
   "cell_type": "code",
   "execution_count": 21,
   "metadata": {},
   "outputs": [
    {
     "data": {
      "text/plain": [
       "a    0.626965\n",
       "b    0.897748\n",
       "c    0.586500\n",
       "d    0.854758\n",
       "e    0.815776\n",
       "f    0.745175\n",
       "g    0.697300\n",
       "h    0.864464\n",
       "i    0.307694\n",
       "j    0.142530\n",
       "dtype: float64"
      ]
     },
     "execution_count": 21,
     "metadata": {},
     "output_type": "execute_result"
    }
   ],
   "source": [
    "s.index=['a','b','c','d','e','f','g','h','i','j']\n",
    "s"
   ]
  },
  {
   "cell_type": "code",
   "execution_count": 23,
   "metadata": {},
   "outputs": [],
   "source": [
    "columnas=['Col1','Col2','Col3','Col4','Col5']"
   ]
  },
  {
   "cell_type": "code",
   "execution_count": null,
   "metadata": {},
   "outputs": [],
   "source": []
  }
 ],
 "metadata": {
  "kernelspec": {
   "display_name": "Python 3",
   "language": "python",
   "name": "python3"
  },
  "language_info": {
   "codemirror_mode": {
    "name": "ipython",
    "version": 3
   },
   "file_extension": ".py",
   "mimetype": "text/x-python",
   "name": "python",
   "nbconvert_exporter": "python",
   "pygments_lexer": "ipython3",
   "version": "3.7.4"
  }
 },
 "nbformat": 4,
 "nbformat_minor": 2
}
