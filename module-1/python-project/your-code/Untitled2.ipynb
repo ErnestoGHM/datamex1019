{
 "cells": [
  {
   "cell_type": "code",
   "execution_count": null,
   "metadata": {},
   "outputs": [],
   "source": [
    "import pandas as pd\n",
    "import json\n",
    "import requests"
   ]
  },
  {
   "cell_type": "code",
   "execution_count": null,
   "metadata": {},
   "outputs": [],
   "source": [
    "URL = 'https://jsonplaceholder.typicode.com/todos'\n",
    "res=requests.get(URL)\n",
    "res"
   ]
  },
  {
   "cell_type": "code",
   "execution_count": null,
   "metadata": {},
   "outputs": [],
   "source": [
    "results=res.json()\n",
    "results[0]"
   ]
  },
  {
   "cell_type": "code",
   "execution_count": null,
   "metadata": {},
   "outputs": [],
   "source": [
    "data=pd.DataFrame(results)\n",
    "data.head()"
   ]
  },
  {
   "cell_type": "code",
   "execution_count": null,
   "metadata": {},
   "outputs": [],
   "source": [
    "#api github\n",
    "URL= 'https://api.github.com/events'\n",
    "resp = requests.get(URL)\n",
    "resp"
   ]
  },
  {
   "cell_type": "code",
   "execution_count": null,
   "metadata": {},
   "outputs": [],
   "source": [
    "data = pd.DataFrame(resp.json())\n",
    "data.head()"
   ]
  },
  {
   "cell_type": "code",
   "execution_count": null,
   "metadata": {},
   "outputs": [],
   "source": [
    "def flatten(data,col):\n",
    "    for c in col:\n",
    "        fl = pd.DataFrame(dict(data[c])).T\n",
    "        cols = [str(col) for col in fl.columns]\n",
    "        fl.columns=[c+'-'+name for name in cols]\n",
    "        data=pd.concat([data,fl],axis=1)\n",
    "        data=data.drop(c,axis=1)\n",
    "    return data"
   ]
  },
  {
   "cell_type": "code",
   "execution_count": null,
   "metadata": {},
   "outputs": [],
   "source": [
    "nested_cols = ['actor','org','repo','payload']\n",
    "flat=flatten(data,nested_cols)\n",
    "flat.head()"
   ]
  },
  {
   "cell_type": "code",
   "execution_count": null,
   "metadata": {},
   "outputs": [],
   "source": [
    "from pandas.io.json import json_normalize"
   ]
  },
  {
   "cell_type": "code",
   "execution_count": null,
   "metadata": {},
   "outputs": [],
   "source": [
    "flattened = json_normalize(resp.json())\n",
    "flattened.head()"
   ]
  },
  {
   "cell_type": "code",
   "execution_count": null,
   "metadata": {},
   "outputs": [],
   "source": [
    "#twitter\n",
    "\n",
    "!pip3 install tweepy"
   ]
  },
  {
   "cell_type": "code",
   "execution_count": null,
   "metadata": {},
   "outputs": [],
   "source": [
    "import tweepy"
   ]
  },
  {
   "cell_type": "code",
   "execution_count": null,
   "metadata": {},
   "outputs": [],
   "source": [
    "API_KEY = 'APIKey'\n",
    "API_SECRET = 'APISecret'\n",
    "ACCESS_TOKEN = 'AccessToken'\n",
    "SECRET_TOKEN = 'SecretToken'\n",
    "\n",
    "auth = tweepy.OAuthHandler(API_KEY,API_SECRET)\n",
    "auth.set_access_token(ACCESS_TOKEN,SECRET_TOKEN)\n",
    "\n",
    "api = tweepy.API(auth)"
   ]
  },
  {
   "cell_type": "code",
   "execution_count": null,
   "metadata": {},
   "outputs": [],
   "source": [
    "def get_followers(user, count=100):\n",
    "    results = api.followers(user,count=count)\n",
    "    followers = [pd.Series(follower.json()) for follower in results]\n",
    "    df = pd.DataFrame(followers)\n",
    "    return df"
   ]
  },
  {
   "cell_type": "code",
   "execution_count": null,
   "metadata": {},
   "outputs": [],
   "source": [
    "ironhack = get_followers('ironhack')"
   ]
  },
  {
   "cell_type": "code",
   "execution_count": null,
   "metadata": {},
   "outputs": [],
   "source": [
    "#pokeapi\n",
    "URL = 'https://pokeapi.co/api/v2/pokemon/25'\n",
    "res = requests.get(URL)\n",
    "res.status_code\n"
   ]
  },
  {
   "cell_type": "code",
   "execution_count": null,
   "metadata": {},
   "outputs": [],
   "source": [
    "type(res.text)"
   ]
  },
  {
   "cell_type": "code",
   "execution_count": null,
   "metadata": {},
   "outputs": [],
   "source": [
    "data=res.json()\n",
    "data['name']"
   ]
  },
  {
   "cell_type": "code",
   "execution_count": null,
   "metadata": {},
   "outputs": [],
   "source": [
    "def get_pokemon(num):\n",
    "    res = requests.get('https://pokeapi.co/api/v2/pokemon/{}'.format(num))\n",
    "    data = res.json()\n",
    "    return {'name':data['name'],'image':data['sprites'][front_default]}"
   ]
  },
  {
   "cell_type": "code",
   "execution_count": null,
   "metadata": {},
   "outputs": [],
   "source": [
    "resp = requests.get('https://pokeapi.co/api/v2/pokemon?limit=3&offset=1')\n",
    "resp.json()"
   ]
  },
  {
   "cell_type": "code",
   "execution_count": null,
   "metadata": {},
   "outputs": [],
   "source": [
    "query={'limit':3,'offset':1}\n",
    "resp = requests.get('https://pokeapi.co/api/v2/pokemon',params=query)\n",
    "resp.json()"
   ]
  },
  {
   "cell_type": "code",
   "execution_count": null,
   "metadata": {},
   "outputs": [],
   "source": []
  },
  {
   "cell_type": "code",
   "execution_count": 3,
   "metadata": {},
   "outputs": [],
   "source": [
    "import smtplib\n",
    "import getpass"
   ]
  },
  {
   "cell_type": "code",
   "execution_count": 6,
   "metadata": {},
   "outputs": [
    {
     "name": "stdout",
     "output_type": "stream",
     "text": [
      "introduce tu gmail:ernesto.ghm\n",
      "Introduce tu contraseña:········\n",
      "Algo está mal\n"
     ]
    }
   ],
   "source": [
    "gmail_user=input('introduce tu gmail:')\n",
    "gmail_pass=getpass.getpass('Introduce tu contraseña:')\n",
    "\n",
    "try:\n",
    "    server = smtplib.SMTP_SSL('smtplib.gmail.com',465)\n",
    "    server.elho()\n",
    "    server.login(gmail_user,gmail_pass)\n",
    "    print('Conectado')\n",
    "except:\n",
    "    print('Algo está mal')"
   ]
  },
  {
   "cell_type": "code",
   "execution_count": null,
   "metadata": {},
   "outputs": [],
   "source": [
    "from_mail = gmail_user\n",
    "to = input('a quien envias el email?')\n",
    "body='Hola que tal'"
   ]
  },
  {
   "cell_type": "code",
   "execution_count": null,
   "metadata": {},
   "outputs": [],
   "source": [
    "server.sendmail(from_mail, to, body)\n",
    "server.close()"
   ]
  }
 ],
 "metadata": {
  "kernelspec": {
   "display_name": "Python 3",
   "language": "python",
   "name": "python3"
  },
  "language_info": {
   "codemirror_mode": {
    "name": "ipython",
    "version": 3
   },
   "file_extension": ".py",
   "mimetype": "text/x-python",
   "name": "python",
   "nbconvert_exporter": "python",
   "pygments_lexer": "ipython3",
   "version": "3.7.4"
  }
 },
 "nbformat": 4,
 "nbformat_minor": 2
}
