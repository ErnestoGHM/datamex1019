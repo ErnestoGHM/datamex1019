{
 "cells": [
  {
   "cell_type": "code",
   "execution_count": null,
   "metadata": {},
   "outputs": [],
   "source": [
    "import random"
   ]
  },
  {
   "cell_type": "code",
   "execution_count": null,
   "metadata": {},
   "outputs": [],
   "source": [
    "print('Welcome to Mini-Risk!\\n'\n",
    "'WAR! America and Europe have engaged in a fearsome battle for World domination!\\n\\n'\n",
    "'Instructions:'\n",
    "\"'The objective of the game is to win all of your opponent's territories; you lose the game if the opposite happens.\\n\"\n",
    "'You will start controlling 5 American regions, where you will display your initial troops (20 units).\\n'\n",
    "\"As an attacker, you'll toss 3 dice, it you have 4 or more troops in your attacking region, 2 dice if you have three troops, 1 die if tou have two, and can´t attack if you just have one troop.\\n\"\n",
    "\"As a defender, you won´t choose with which region you will defend, and you'll toss 2 dice if you have two or more troops in your region, or 1 die if you have one.\\n\"\n",
    "\"When combat happens, the dice will be matched, taking the attacker's top throws against the defender's. When there´s a tie, the defender will win the battle.\\n\")"
   ]
  },
  {
   "cell_type": "code",
   "execution_count": null,
   "metadata": {},
   "outputs": [],
   "source": [
    "Die = [1,2,3,4,5,6]\n",
    "Region = {'South_America':0,'Central_America':0,'Mexico':0,'USA':0,'Canada':0}\n",
    "Enemyregion = {'UK':4,'Iberic_Peninsule':4,'Nordic_Countries':4,'Mid_Europe':4,'East_Europe':4}"
   ]
  },
  {
   "cell_type": "code",
   "execution_count": null,
   "metadata": {},
   "outputs": [],
   "source": [
    "print('Game Setup.\\n'\n",
    "\"You'll play as America, and your enemy as Europe.\\nHere are your regions : 'South_America','Central_America','Mexico','USA','Canada'\\n\"\n",
    "\"And your enemies': 'UK','Iberic_Peninsule','Nordic_Countries','Mid_Europe','East_Europe'\\n\"\n",
    "'You have 20 available troops, please assign them to your regions. You need to assign at least one to each of them.')\n"
   ]
  },
  {
   "cell_type": "code",
   "execution_count": null,
   "metadata": {},
   "outputs": [],
   "source": [
    "def assign(Troops=20):\n",
    "    counter = 0\n",
    "    for x in Region:\n",
    "        print(\"Assign troops to {}: (remaining troops: {})\".format(x,Troops))\n",
    "        Region[x]= int(input())\n",
    "        counter += Region[x]\n",
    "        Troops -= int(Region[x])\n",
    "    if counter > 20:\n",
    "        print(\"You assigned too many troops, let's try again.\")\n",
    "        assign()"
   ]
  },
  {
   "cell_type": "code",
   "execution_count": null,
   "metadata": {},
   "outputs": [],
   "source": [
    "for y in Region:\n",
    "    if Region[y]==0:\n",
    "        assign()\n",
    "    elif Region[y] <= 0:\n",
    "        print('error')\n",
    "        assign()\n",
    "print(\"Let's begin!{}\".format(Region))"
   ]
  },
  {
   "cell_type": "code",
   "execution_count": 7,
   "metadata": {},
   "outputs": [],
   "source": [
    "def attackchoice():\n",
    "    print('Choose your attacker:')\n",
    "    attacker = input()\n",
    "    if attacker in Region.keys() and Region[attacker]>1:\n",
    "        return attacker\n",
    "    elif attacker not in Region.keys():\n",
    "        print('Choose a valid option.')\n",
    "        attackchoice()\n",
    "    elif Region[attacker]<=1:\n",
    "        print('Choose among the regions that have 2 or more Troops.')\n",
    "        attackchoice()"
   ]
  },
  {
   "cell_type": "code",
   "execution_count": 8,
   "metadata": {},
   "outputs": [
    {
     "name": "stdout",
     "output_type": "stream",
     "text": [
      "Choose your attacker:\n",
      "MExico\n",
      "Choose a valid option.\n",
      "Choose your attacker:\n",
      "Mexico\n"
     ]
    }
   ],
   "source": [
    "attch=attackchoice()"
   ]
  },
  {
   "cell_type": "code",
   "execution_count": 9,
   "metadata": {},
   "outputs": [],
   "source": [
    "def attack():\n",
    "    att = []\n",
    "    df = []\n",
    "    if Region[attch] >= 4:\n",
    "        att = [random.choice(Die),random.choice(Die),random.choice(Die)]\n",
    "    elif Region[attch] ==3:\n",
    "        att = [random.choice(Die),random.choice(Die)]\n",
    "    elif Region[attch] == 2:\n",
    "        att = [random.choice(Die)]\n",
    "    print('Choose an Enemy region: {}'.format(Enemyregion))\n",
    "    oppreg = input()\n",
    "    if oppreg in Enemyregion.keys() and Enemyregion[oppreg]>0:\n",
    "        if Enemyregion[oppreg] >= 2:\n",
    "            df = [random.choice(Die),random.choice(Die)]\n",
    "        elif Enemyregion[oppreg] == 1:\n",
    "            df = [random.choice(Die)]\n",
    "    elif attch ==3:\n",
    "        att = [random.choice(Die),random.choice(Die)]\n",
    "        for y in range(Enemyregion[oppreg]):\n",
    "                       df.append(random.choice(Die))\n",
    "    elif oppreg not in Enemyregion.keys():\n",
    "        print('Choose a valid option.')\n",
    "        attack()\n",
    "    elif Enemyregion.keys()<=0:\n",
    "        print('Choose among the regions that have 2 or more Troops.')\n",
    "        attack()\n",
    "        \n",
    "    att.sort(reverse=True)\n",
    "    df.sort(reverse=True)\n",
    "    \n",
    "    print('{} attacking dice: {}'.format(attch,att))\n",
    "    print('{} defending dice: {}'.format(oppreg,df))\n",
    "    \n",
    "    valatt = Region[attch]\n",
    "    valdf = Enemyregion[oppreg]\n",
    "    \n",
    "    for w in range(min(len(att),len(df))):\n",
    "        if att[w] > df[w]:\n",
    "            valdf -= 1\n",
    "            Enemyregion[oppreg]= valdf\n",
    "        elif df[w] >= att[w]:\n",
    "            valatt -= 1\n",
    "            Region[attch] = valatt\n",
    "    \n",
    "    print(Region)\n",
    "    print(Enemyregion)"
   ]
  },
  {
   "cell_type": "code",
   "execution_count": 10,
   "metadata": {},
   "outputs": [],
   "source": [
    "def defense():\n",
    "    att = []\n",
    "    df = []\n",
    "    print('Enemy preparing attack...')\n",
    "    for k,v in Enemyregion.items():\n",
    "        if v >= 4:\n",
    "            attch = k\n",
    "            att = [random.choice(Die),random.choice(Die),random.choice(Die)]\n",
    "        elif v == 3:\n",
    "            attch = k\n",
    "            att = [random.choice(Die),random.choice(Die)]\n",
    "        elif v == 2:\n",
    "            attch = k\n",
    "            att = [random.choice(Die)]\n",
    "    \n",
    "    for g,h in Region.items():\n",
    "        if h == 1:\n",
    "            oppreg = g\n",
    "            df = [random.choice(Die)]\n",
    "        elif h >= 2:\n",
    "            oppreg = g\n",
    "            df = [random.choice(Die),random.choice(Die)]\n",
    "\n",
    "        \n",
    "    att.sort(reverse=True)\n",
    "    df.sort(reverse=True)\n",
    "    \n",
    "    print('{} attacking dice: {}'.format(attch,att))\n",
    "    print('{} defending dice: {}'.format(oppreg,df))\n",
    "    \n",
    "    valatt = Enemyregion[k]\n",
    "    valdf = Region[g]\n",
    "    \n",
    "    for w in range(min(len(att),len(df))):\n",
    "        if att[w] > df[w]:\n",
    "            valdf -= 1\n",
    "            Region[g]=valdf\n",
    "        elif df[w] >= att[w]:\n",
    "            valatt -= 1\n",
    "            Enemyregion[k] = valatt\n",
    "    \n",
    "    print(Region)\n",
    "    print(Enemyregion)"
   ]
  },
  {
   "cell_type": "code",
   "execution_count": 11,
   "metadata": {},
   "outputs": [
    {
     "ename": "KeyError",
     "evalue": "None",
     "output_type": "error",
     "traceback": [
      "\u001b[0;31m---------------------------------------------------------------------------\u001b[0m",
      "\u001b[0;31mKeyError\u001b[0m                                  Traceback (most recent call last)",
      "\u001b[0;32m<ipython-input-11-73a3e7d0de0e>\u001b[0m in \u001b[0;36m<module>\u001b[0;34m\u001b[0m\n\u001b[1;32m      1\u001b[0m \u001b[0;32mwhile\u001b[0m \u001b[0mRegion\u001b[0m\u001b[0;34m.\u001b[0m\u001b[0mvalues\u001b[0m \u001b[0;32mand\u001b[0m \u001b[0mEnemyregion\u001b[0m \u001b[0;34m!=\u001b[0m \u001b[0;36m0\u001b[0m \u001b[0;32mand\u001b[0m \u001b[0;36m1\u001b[0m\u001b[0;34m:\u001b[0m\u001b[0;34m\u001b[0m\u001b[0;34m\u001b[0m\u001b[0m\n\u001b[0;32m----> 2\u001b[0;31m     \u001b[0mattack\u001b[0m\u001b[0;34m(\u001b[0m\u001b[0;34m)\u001b[0m\u001b[0;34m\u001b[0m\u001b[0;34m\u001b[0m\u001b[0m\n\u001b[0m\u001b[1;32m      3\u001b[0m     \u001b[0mdefense\u001b[0m\u001b[0;34m(\u001b[0m\u001b[0;34m)\u001b[0m\u001b[0;34m\u001b[0m\u001b[0;34m\u001b[0m\u001b[0m\n\u001b[1;32m      4\u001b[0m     \u001b[0mattch\u001b[0m \u001b[0;34m=\u001b[0m \u001b[0mattackchoice\u001b[0m\u001b[0;34m(\u001b[0m\u001b[0;34m)\u001b[0m\u001b[0;34m\u001b[0m\u001b[0;34m\u001b[0m\u001b[0m\n",
      "\u001b[0;32m<ipython-input-9-dd163d0b9df3>\u001b[0m in \u001b[0;36mattack\u001b[0;34m()\u001b[0m\n\u001b[1;32m      2\u001b[0m     \u001b[0matt\u001b[0m \u001b[0;34m=\u001b[0m \u001b[0;34m[\u001b[0m\u001b[0;34m]\u001b[0m\u001b[0;34m\u001b[0m\u001b[0;34m\u001b[0m\u001b[0m\n\u001b[1;32m      3\u001b[0m     \u001b[0mdf\u001b[0m \u001b[0;34m=\u001b[0m \u001b[0;34m[\u001b[0m\u001b[0;34m]\u001b[0m\u001b[0;34m\u001b[0m\u001b[0;34m\u001b[0m\u001b[0m\n\u001b[0;32m----> 4\u001b[0;31m     \u001b[0;32mif\u001b[0m \u001b[0mRegion\u001b[0m\u001b[0;34m[\u001b[0m\u001b[0mattch\u001b[0m\u001b[0;34m]\u001b[0m \u001b[0;34m>=\u001b[0m \u001b[0;36m4\u001b[0m\u001b[0;34m:\u001b[0m\u001b[0;34m\u001b[0m\u001b[0;34m\u001b[0m\u001b[0m\n\u001b[0m\u001b[1;32m      5\u001b[0m         \u001b[0matt\u001b[0m \u001b[0;34m=\u001b[0m \u001b[0;34m[\u001b[0m\u001b[0mrandom\u001b[0m\u001b[0;34m.\u001b[0m\u001b[0mchoice\u001b[0m\u001b[0;34m(\u001b[0m\u001b[0mDie\u001b[0m\u001b[0;34m)\u001b[0m\u001b[0;34m,\u001b[0m\u001b[0mrandom\u001b[0m\u001b[0;34m.\u001b[0m\u001b[0mchoice\u001b[0m\u001b[0;34m(\u001b[0m\u001b[0mDie\u001b[0m\u001b[0;34m)\u001b[0m\u001b[0;34m,\u001b[0m\u001b[0mrandom\u001b[0m\u001b[0;34m.\u001b[0m\u001b[0mchoice\u001b[0m\u001b[0;34m(\u001b[0m\u001b[0mDie\u001b[0m\u001b[0;34m)\u001b[0m\u001b[0;34m]\u001b[0m\u001b[0;34m\u001b[0m\u001b[0;34m\u001b[0m\u001b[0m\n\u001b[1;32m      6\u001b[0m     \u001b[0;32melif\u001b[0m \u001b[0mRegion\u001b[0m\u001b[0;34m[\u001b[0m\u001b[0mattch\u001b[0m\u001b[0;34m]\u001b[0m \u001b[0;34m==\u001b[0m\u001b[0;36m3\u001b[0m\u001b[0;34m:\u001b[0m\u001b[0;34m\u001b[0m\u001b[0;34m\u001b[0m\u001b[0m\n",
      "\u001b[0;31mKeyError\u001b[0m: None"
     ]
    }
   ],
   "source": [
    "while Region.values and Enemyregion != 0 and 1:\n",
    "    attack()\n",
    "    defense()\n",
    "    attch = attackchoice()"
   ]
  },
  {
   "cell_type": "code",
   "execution_count": null,
   "metadata": {},
   "outputs": [],
   "source": [
    "dic={'e':0,'f':1,'f':0}\n",
    "fic={'r':1,'t':0,'a':1}\n",
    "fic.values() == 2"
   ]
  },
  {
   "cell_type": "code",
   "execution_count": null,
   "metadata": {},
   "outputs": [],
   "source": [
    "attch=attackchoice()"
   ]
  },
  {
   "cell_type": "code",
   "execution_count": null,
   "metadata": {},
   "outputs": [],
   "source": [
    "combat()"
   ]
  },
  {
   "cell_type": "code",
   "execution_count": null,
   "metadata": {},
   "outputs": [],
   "source": [
    "attch=attackchoice()"
   ]
  },
  {
   "cell_type": "code",
   "execution_count": null,
   "metadata": {},
   "outputs": [],
   "source": [
    "attack()"
   ]
  },
  {
   "cell_type": "code",
   "execution_count": null,
   "metadata": {},
   "outputs": [],
   "source": [
    "defense()"
   ]
  },
  {
   "cell_type": "code",
   "execution_count": null,
   "metadata": {},
   "outputs": [],
   "source": []
  }
 ],
 "metadata": {
  "kernelspec": {
   "display_name": "Python 3",
   "language": "python",
   "name": "python3"
  },
  "language_info": {
   "codemirror_mode": {
    "name": "ipython",
    "version": 3
   },
   "file_extension": ".py",
   "mimetype": "text/x-python",
   "name": "python",
   "nbconvert_exporter": "python",
   "pygments_lexer": "ipython3",
   "version": "3.7.4"
  }
 },
 "nbformat": 4,
 "nbformat_minor": 2
}
