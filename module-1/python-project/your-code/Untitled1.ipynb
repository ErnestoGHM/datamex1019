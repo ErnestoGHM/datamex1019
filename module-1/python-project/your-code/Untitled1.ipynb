{
 "cells": [
  {
   "cell_type": "code",
   "execution_count": 8,
   "metadata": {},
   "outputs": [],
   "source": [
    "def DNA_strand(dna):\n",
    "    adn = []\n",
    "    d = ''\n",
    "    for x in dna:\n",
    "        if x == 'A':\n",
    "            adn.append('T')\n",
    "        elif x is 'T':\n",
    "            adn.append('A')\n",
    "        elif x is 'C':\n",
    "            adn.append('G')\n",
    "        elif x is 'G':\n",
    "            adn.append('C')\n",
    "        \n",
    "    for y in range(len(adn)):\n",
    "        d += adn[y]\n",
    "    \n",
    "    return(d)\n",
    "    "
   ]
  },
  {
   "cell_type": "code",
   "execution_count": 9,
   "metadata": {},
   "outputs": [
    {
     "data": {
      "text/plain": [
       "str"
      ]
     },
     "execution_count": 9,
     "metadata": {},
     "output_type": "execute_result"
    }
   ],
   "source": [
    "type(DNA_strand('ATTGC'))"
   ]
  },
  {
   "cell_type": "code",
   "execution_count": null,
   "metadata": {},
   "outputs": [],
   "source": [
    "def DNA_strand(dna):\n",
    "    d = dna\n",
    "    for x in dna:\n",
    "        str.replace('A','T',x).replace('T','')"
   ]
  }
 ],
 "metadata": {
  "kernelspec": {
   "display_name": "Python 3",
   "language": "python",
   "name": "python3"
  },
  "language_info": {
   "codemirror_mode": {
    "name": "ipython",
    "version": 3
   },
   "file_extension": ".py",
   "mimetype": "text/x-python",
   "name": "python",
   "nbconvert_exporter": "python",
   "pygments_lexer": "ipython3",
   "version": "3.7.4"
  }
 },
 "nbformat": 4,
 "nbformat_minor": 2
}
