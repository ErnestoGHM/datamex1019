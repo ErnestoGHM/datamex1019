{
 "cells": [
  {
   "cell_type": "code",
   "execution_count": 13,
   "metadata": {},
   "outputs": [],
   "source": [
    "objA = { 'a': 10, 'b': 20, 'c': 30 }\n",
    "objB = { 'a': 3, 'c': 6, 'd': 3 }\n",
    "objC = { 'a': 5, 'd': 11, 'e': 8 }\n",
    "objD = { 'c': 3 }"
   ]
  },
  {
   "cell_type": "code",
   "execution_count": 14,
   "metadata": {},
   "outputs": [],
   "source": [
    "def combine(*l_obj):\n",
    "\n",
    "    dic={}\n",
    "    for y in l_obj:\n",
    "        for x in y:\n",
    "            if x == 'a':\n",
    "                if 'a' in dic:\n",
    "                    dic['a']+=y[x]\n",
    "                else:\n",
    "                    dic.update({'a':y[x]}) \n",
    "            elif x == 'b':\n",
    "                if 'b' in dic:\n",
    "                    dic['b']+=y[x]\n",
    "                else:\n",
    "                    dic.update({'b':y[x]}) \n",
    "            elif x == 'c':\n",
    "                if 'c' in dic:\n",
    "                    dic['c']+=y[x]\n",
    "                else:\n",
    "                    dic.update({'c':y[x]}) \n",
    "            elif x == 'd':\n",
    "                if 'd' in dic:\n",
    "                    dic['d']+=y[x]\n",
    "                else:\n",
    "                    dic.update({'d':y[x]}) \n",
    "            elif x == 'e':\n",
    "                if 'e' in dic:\n",
    "                    dic['e']+=y[x]\n",
    "                else:\n",
    "                    dic.update({'e':y[x]}) \n",
    "\n",
    "    return dic\n",
    "\n",
    "\n",
    "\n"
   ]
  },
  {
   "cell_type": "code",
   "execution_count": 15,
   "metadata": {},
   "outputs": [
    {
     "data": {
      "text/plain": [
       "{'a': 13, 'b': 20, 'c': 36, 'd': 3}"
      ]
     },
     "execution_count": 15,
     "metadata": {},
     "output_type": "execute_result"
    }
   ],
   "source": [
    "combine(objA,objB)"
   ]
  },
  {
   "cell_type": "code",
   "execution_count": null,
   "metadata": {},
   "outputs": [],
   "source": []
  }
 ],
 "metadata": {
  "kernelspec": {
   "display_name": "Python 3",
   "language": "python",
   "name": "python3"
  },
  "language_info": {
   "codemirror_mode": {
    "name": "ipython",
    "version": 3
   },
   "file_extension": ".py",
   "mimetype": "text/x-python",
   "name": "python",
   "nbconvert_exporter": "python",
   "pygments_lexer": "ipython3",
   "version": "3.7.4"
  }
 },
 "nbformat": 4,
 "nbformat_minor": 2
}
