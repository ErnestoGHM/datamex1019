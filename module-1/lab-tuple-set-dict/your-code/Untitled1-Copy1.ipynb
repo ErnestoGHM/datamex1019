{
 "cells": [
  {
   "cell_type": "code",
   "execution_count": 1,
   "metadata": {},
   "outputs": [],
   "source": [
    "objA = { 'a': 10, 'b': 20, 'c': 30 }\n",
    "objB = { 'a': 3, 'c': 6, 'd': 3 }\n",
    "objC = { 'a': 5, 'd': 11, 'e': 8 }\n",
    "objD = { 'c': 3 }"
   ]
  },
  {
   "cell_type": "code",
   "execution_count": 2,
   "metadata": {},
   "outputs": [],
   "source": [
    "def combine(*l_obj):\n",
    "\n",
    "    dic={}\n",
    "    for y in l_obj:\n",
    "        for x in y:\n",
    "            if x not in dic:\n",
    "                dic.update({x:y[x]})\n",
    "            elif x in dic:\n",
    "                dic[x]+=y[x]\n",
    "            \n",
    "    return dic"
   ]
  },
  {
   "cell_type": "code",
   "execution_count": 3,
   "metadata": {},
   "outputs": [
    {
     "data": {
      "text/plain": [
       "{'a': 13, 'b': 20, 'c': 36, 'd': 3}"
      ]
     },
     "execution_count": 3,
     "metadata": {},
     "output_type": "execute_result"
    }
   ],
   "source": [
    "combine(objA,objB)"
   ]
  },
  {
   "cell_type": "code",
   "execution_count": null,
   "metadata": {},
   "outputs": [],
   "source": []
  }
 ],
 "metadata": {
  "kernelspec": {
   "display_name": "Python 3",
   "language": "python",
   "name": "python3"
  },
  "language_info": {
   "codemirror_mode": {
    "name": "ipython",
    "version": 3
   },
   "file_extension": ".py",
   "mimetype": "text/x-python",
   "name": "python",
   "nbconvert_exporter": "python",
   "pygments_lexer": "ipython3",
   "version": "3.7.4"
  }
 },
 "nbformat": 4,
 "nbformat_minor": 2
}
