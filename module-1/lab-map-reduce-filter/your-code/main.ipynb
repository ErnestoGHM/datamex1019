{
 "cells": [
  {
   "cell_type": "markdown",
   "metadata": {},
   "source": [
    "# Before your start:\n",
    "- Read the README.md file\n",
    "- Comment as much as you can and use the resources in the README.md file\n",
    "- Happy learning!"
   ]
  },
  {
   "cell_type": "code",
   "execution_count": 1,
   "metadata": {},
   "outputs": [],
   "source": [
    "# import reduce from functools, numpy and pandas\n",
    "import re\n",
    "import numpy as np\n",
    "import pandas as pd\n",
    "from functools import reduce"
   ]
  },
  {
   "cell_type": "markdown",
   "metadata": {},
   "source": [
    "# Challenge 1 - Mapping\n",
    "\n",
    "#### We will use the map function to clean up a words in a book.\n",
    "\n",
    "In the following cell, we will read a text file containing the book The Prophet by Khalil Gibran."
   ]
  },
  {
   "cell_type": "code",
   "execution_count": 2,
   "metadata": {},
   "outputs": [],
   "source": [
    "# Run this code:\n",
    "\n",
    "location = '../58585-0.txt'\n",
    "with open(location, 'r', encoding=\"utf8\") as f:\n",
    "    prophet = f.read().split(' ')\n",
    "\n"
   ]
  },
  {
   "cell_type": "markdown",
   "metadata": {},
   "source": [
    "#### Let's remove the first 568 words since they contain information about the book but are not part of the book itself. \n",
    "\n",
    "Do this by removing from `prophet` elements 0 through 567 of the list (you can also do this by keeping elements 568 through the last element)."
   ]
  },
  {
   "cell_type": "code",
   "execution_count": 3,
   "metadata": {},
   "outputs": [],
   "source": [
    "# Your code here:\n",
    "prophet1 = prophet[568:]\n"
   ]
  },
  {
   "cell_type": "markdown",
   "metadata": {},
   "source": [
    "If you look through the words, you will find that many words have a reference attached to them. For example, let's look at words 1 through 10."
   ]
  },
  {
   "cell_type": "code",
   "execution_count": 4,
   "metadata": {},
   "outputs": [
    {
     "data": {
      "text/plain": [
       "['PROPHET\\n\\n|Almustafa,',\n",
       " 'the{7}',\n",
       " 'chosen',\n",
       " 'and',\n",
       " 'the\\nbeloved,',\n",
       " 'who',\n",
       " 'was',\n",
       " 'a',\n",
       " 'dawn',\n",
       " 'unto']"
      ]
     },
     "execution_count": 4,
     "metadata": {},
     "output_type": "execute_result"
    }
   ],
   "source": [
    "# Your code here:\n",
    "\n",
    "prophet1[0:10]"
   ]
  },
  {
   "cell_type": "code",
   "execution_count": 5,
   "metadata": {},
   "outputs": [],
   "source": [
    "#re.sub('{\\d*}','',prophet1[1])\n",
    "\n"
   ]
  },
  {
   "cell_type": "markdown",
   "metadata": {},
   "source": [
    "#### The next step is to create a function that will remove references. \n",
    "\n",
    "We will do this by splitting the string on the `{` character and keeping only the part before this character. Write your function below."
   ]
  },
  {
   "cell_type": "code",
   "execution_count": 6,
   "metadata": {},
   "outputs": [],
   "source": [
    "reference = lambda x: re.sub('\\{\\d*\\}','',x)\n",
    "\n",
    "\n",
    "#def reference(x):\n",
    "    \n",
    "    # Your code here:\n",
    "    \n",
    "    #prophetsinllaves = []\n",
    "    \n",
    "   # for e in x.split('\\{\\d\\}'):\n",
    "  #      prophetsinllaves.append(e)\n",
    " #       return str(prophetsinllaves)\n",
    "\n",
    "#print(reference(prophet1))"
   ]
  },
  {
   "cell_type": "markdown",
   "metadata": {},
   "source": [
    "Now that we have our function, use the `map()` function to apply this function to our book, The Prophet. Return the resulting list to a new list called `prophet_reference`"
   ]
  },
  {
   "cell_type": "code",
   "execution_count": 7,
   "metadata": {},
   "outputs": [],
   "source": [
    "# Your code here:\n",
    "\n",
    "\n",
    "\n",
    "prophet_reference = list(map(reference,prophet1))"
   ]
  },
  {
   "cell_type": "markdown",
   "metadata": {},
   "source": [
    "Another thing you may have noticed is that some words contain a line break. Let's write a function to split those words. Our function will return the string split on the character `\\n`. Write your function in the cell below."
   ]
  },
  {
   "cell_type": "code",
   "execution_count": 8,
   "metadata": {},
   "outputs": [],
   "source": [
    "line_break = lambda y: re.sub('\\n',' ',y)\n",
    "\n",
    "    \n",
    "    \n",
    "    # Your code here:\n",
    "    \n",
    "    "
   ]
  },
  {
   "cell_type": "markdown",
   "metadata": {},
   "source": [
    "Apply the `line_break` function to the `prophet_reference` list. Name the new list `prophet_line`."
   ]
  },
  {
   "cell_type": "code",
   "execution_count": 9,
   "metadata": {},
   "outputs": [],
   "source": [
    "# Your code here:\n",
    "\n",
    "prophet_line = list(map(line_break,prophet_reference))\n"
   ]
  },
  {
   "cell_type": "markdown",
   "metadata": {},
   "source": [
    "If you look at the elements of `prophet_line`, you will see that the function returned lists and not strings. Our list is now a list of lists. Flatten the list using list comprehension. Assign this new list to `prophet_flat`."
   ]
  },
  {
   "cell_type": "code",
   "execution_count": 10,
   "metadata": {},
   "outputs": [
    {
     "name": "stdout",
     "output_type": "stream",
     "text": [
      "<class 'list'>\n",
      "<class 'str'>\n"
     ]
    }
   ],
   "source": [
    "prophet_flat = prophet_line\n",
    "\n",
    "print(type(prophet_flat))\n",
    "print(type(prophet_flat[6]))\n",
    "# Your code here:\n",
    "\n",
    "#print(prophet_flat)"
   ]
  },
  {
   "cell_type": "markdown",
   "metadata": {},
   "source": [
    "# Challenge 2 - Filtering\n",
    "\n",
    "When printing out a few words from the book, we see that there are words that we may not want to keep if we choose to analyze the corpus of text. Below is a list of words that we would like to get rid of. Create a function that will return false if it contains a word from the list of words specified and true otherwise."
   ]
  },
  {
   "cell_type": "code",
   "execution_count": 11,
   "metadata": {},
   "outputs": [],
   "source": [
    "word_list = ['and', 'the', 'a', 'an']\n",
    "word_filter = lambda s: False if s in word_list else True\n",
    "    #'''\n",
    "    #Input: A string\n",
    "    #Output: true if the word is not in the specified list and false if the word is in the list\n",
    "        \n",
    "    #Example:\n",
    "    #word list = ['and', 'the']\n",
    "    #Input: 'and'\n",
    "    #Output: False\n",
    "    \n",
    "    #Input: 'John'\n",
    "    #Output: True\n",
    "    #'''\n",
    "    \n",
    "\n",
    "    \n",
    "    # Your code here:\n",
    "    \n",
    "\n",
    "#prophet_filter = filter(word_filter,word_list)\n",
    "#print(list(prophet_filter))"
   ]
  },
  {
   "cell_type": "markdown",
   "metadata": {},
   "source": [
    "Use the `filter()` function to filter out the words speficied in the `word_filter()` function. Store the filtered list in the variable `prophet_filter`."
   ]
  },
  {
   "cell_type": "code",
   "execution_count": 19,
   "metadata": {},
   "outputs": [],
   "source": [
    "prophet_filter=list(filter(word_filter,prophet_flat))\n",
    "prophet_filter3 = prophet_filter[0:200]"
   ]
  },
  {
   "cell_type": "markdown",
   "metadata": {},
   "source": [
    "# Bonus Challenge - Part 1\n",
    "\n",
    "Rewrite the `word_filter` function above to not be case sensitive."
   ]
  },
  {
   "cell_type": "code",
   "execution_count": 13,
   "metadata": {},
   "outputs": [],
   "source": [
    "def word_filter_case(x):\n",
    "   \n",
    "    word_list = ['and', 'the', 'a', 'an']\n",
    "    \n",
    "    # Your code here:\n",
    "    \n",
    "    "
   ]
  },
  {
   "cell_type": "markdown",
   "metadata": {},
   "source": [
    "# Challenge 3 - Reducing\n",
    "\n",
    "#### Now that we have significantly cleaned up our text corpus, let's use the `reduce()` function to put the words back together into one long string separated by spaces. \n",
    "\n",
    "We will start by writing a function that takes two strings and concatenates them together with a space between the two strings."
   ]
  },
  {
   "cell_type": "code",
   "execution_count": 22,
   "metadata": {},
   "outputs": [
    {
     "data": {
      "text/plain": [
       "'fefgeragfwegwf'"
      ]
     },
     "execution_count": 22,
     "metadata": {},
     "output_type": "execute_result"
    }
   ],
   "source": [
    "def concat_space(a,b):\n",
    "    return a+b\n",
    "    \n",
    "    '''\n",
    "    Input:Two strings\n",
    "    Output: A single string separated by a space\n",
    "        \n",
    "    Example:\n",
    "    Input: 'John', 'Smith'\n",
    "    Output: 'John Smith'\n",
    "    '''\n",
    "    \n",
    "    # Your code here:\n",
    "concat_space('fefgerag','fwegwf')"
   ]
  },
  {
   "cell_type": "markdown",
   "metadata": {},
   "source": [
    "Use the function above to reduce the text corpus in the list `prophet_filter` into a single string. Assign this new string to the variable `prophet_string`."
   ]
  },
  {
   "cell_type": "code",
   "execution_count": 25,
   "metadata": {},
   "outputs": [
    {
     "name": "stdout",
     "output_type": "stream",
     "text": [
      "PROPHET  |Almustafa,chosenthe beloved,whowasdawnuntohisown day,hadwaitedtwelveyearsincity ofOrphaleseforhisshipthatwasto returnbearhimbacktoisleof hisbirth.  Andintwelfthyear,onseventh dayofIelool,monthofreaping,he climbedhillwithoutcitywalls andlookedseaward;hebeheldhis shipcomingwithmist.  Thengatesofhisheartwereflung open,hisjoyflewfaroversea. Andheclosedhiseyesprayedinthe silencesofhissoul.  *****  Butashedescendedhill,sadness cameuponhim,hethoughtinhis heart:  HowshallIgoinpeacewithout sorrow?Nay,notwithoutwoundinthe spiritshallIleavethiscity.Long weredaysofpainIhavespent withinitswalls,longwerethe nightsofaloneness;whocandepart fromhispainhisalonenesswithout regret?  ToomanyfragmentsofspirithaveI scatteredinthesestreets,toomany arechildrenofmylongingthatwalk nakedamongthesehills,Icannot withdrawfromthemwithoutburdenand anache.  ItisnotgarmentIcastoffthis day,butskinthatItearwithmyown hands.  NorisitthoughtIleavebehindme, butheartmadesweetwithhungerand withthirst.  *****  YetIcannottarrylonger.  Theseathatcallsallthingsuntoher callsme,Imustembark.  Fortostay,thoughhoursburnin thenight,istofreezecrystallize andbeboundinmould.  FainwouldItakewithmeallthatis here.ButhowshallI?  Avoicecannotcarrytongueand thelipsthatgaveitwings.Alone mustitseekether.  Andalonewithouthisnestshallthe eagleflyacrosssun.  *****  Nowwhenhereachedfootofthe hill,heturnedagaintowardssea, andhesawhisshipapproachingthe harbour,uponherprowmariners, themenofhisownland.  Andhissoulcriedouttothem,he said:  Sonsofmyancientmother,youridersof thetides,  Howoftenhaveyousailedinmydreams. Andnowyoucomeinmyawakening,which ismydeeperdream.  ReadyamItogo,myeagernesswith sailsfullsetawaitswind.  OnlyanotherbreathwillIbreathein thisstillair,onlyanotherlovinglook castbackward,  AndthenIshallstandamongyou,a seafareramongseafarers.Andyou, vastsea,sleeplessmother,  Whoalonearepeacefreedomtothe riverstream,  Onlyanotherwindingwillthisstream make,onlyanothermurmurinthisglade,  AndthenshallIcometoyou,a boundlessdroptoboundlessocean.  *****  Andashewalkedhesawfromafarmen andwomenleavingtheirfieldstheir vineyardshasteningtowardscity gates.  Andheheardtheirvoicescallinghis name,shoutingfromfieldtofield tellingoneanotherofcomingofhis ship.  Andhesaidtohimself:  Shalldayofpartingbedayof gathering?  Andshallitbesaidthatmyevewasin truthmydawn?  AndwhatshallIgiveuntohimwhohas lefthisploughinmidfurrow,orto himwhohasstoppedwheelofhis winepress?Shallmyheartbecomea treeheavy-ladenwithfruitthatImay gathergiveuntothem?  Andshallmydesiresflowlikea fountainthatImayfilltheircups?  AmIharpthathandofmighty maytouchme,orflutethathisbreath maypassthroughme?  AseekerofsilencesamI,what treasurehaveIfoundinsilencesthatI maydispensewithconfidence?  Ifthisismydayofharvest,inwhat fieldshaveIsowedseed,in whatunrememberedseasons?  IfthisindeedbehourinwhichI liftupmylantern,itisnotmyflame thatshallburntherein.  EmptydarkshallIraisemylantern,  Andguardianofnightshallfill itwithoilheshalllightitalso.  *****  Thesethingshesaidinwords.Butmuch inhisheartremainedunsaid.Forhe himselfcouldnotspeakhisdeeper secret.  *****  [Illustration:0020]  Andwhenheenteredintocityall thepeoplecametomeethim,they werecryingouttohimaswithone voice.  Andeldersofcitystoodforth andsaid:  Gonotyetawayfromus.  Anoontidehaveyoubeeninour twilight,youryouthhasgivenus dreamstodream.  Nostrangerareyouamongus,nor aguest,butoursonourdearly beloved.  Suffernotyetoureyestohungerfor yourface.  *****  Andpriestspriestessessaid untohim:  Letnotwavesofseaseparateus now,yearsyouhavespentinour midstbecomememory.  Youhavewalkedamongusspirit, andyourshadowhasbeenlight uponourfaces.  Muchhavewelovedyou.Butspeechless wasourlove,withveilshasitbeen veiled.  Yetnowitcriesalouduntoyou,and wouldstandrevealedbeforeyou.  Andeverhasitbeenthatloveknows notitsowndepthuntilhourof separation.  *****  Andotherscamealsoentreatedhim. Butheansweredthemnot.Heonlybent hishead;thosewhostoodnearsaw histearsfallinguponhisbreast.  Andhepeopleproceededtowards thegreatsquarebeforetemple.  Andtherecameoutofsanctuarya womanwhosenamewasAlmitra.Andshe wasseeress.  Andhelookeduponherwithexceeding tenderness,foritwasshewhohadfirst soughtbelievedinhimwhenhehad beenbutdayintheircity.And shehailedhim,saying:  ProphetofGod,inquestofthe uttermost,longhaveyousearchedthe distancesforyourship.  Andnowyourshiphascome,youmust needsgo.  Deepisyourlongingforlandof yourmemoriesdwellingplace ofyourgreaterdesires;ourlove wouldnotbindyounorourneedshold you.  Yetthisweaskereyouleaveus,that youspeaktousgiveusofyour truth.  Andwewillgiveituntoourchildren, andtheyuntotheirchildren,it shallnotperish.  Inyouralonenessyouhavewatchedwith ourdays,inyourwakefulnessyou havelistenedtoweepingthe laughterofoursleep.  Nowthereforediscloseustoourselves, andtellusallthathasbeenshown youofthatwhichisbetweenbirthand death.  *****  Andheanswered,  PeopleofOrphalese,ofwhatcanI speaksaveofthatwhichisevennow movingwithinyoursouls?  **********  ThensaidAlmitra,Speaktousof _Love_.  Andheraisedhisheadlookedupon thepeople,therefellstillness uponthem.Andwithgreatvoicehe said:  Whenlovebeckonstoyou,followhim,  Thoughhiswaysarehardsteep.  Andwhenhiswingsenfoldyouyieldto him,  Thoughswordhiddenamonghis pinionsmaywoundyou.  Andwhenhespeakstoyoubelievein him,  Thoughhisvoicemayshatteryourdreams asnorthwindlayswastegarden.  Forevenaslovecrownsyousoshall hecrucifyyou.Evenasheisforyour growthsoisheforyourpruning.  Evenasheascendstoyourheightand caressesyourtenderestbranches thatquiverinsun,  Soshallhedescendtoyourrootsand shakethemintheirclingingtothe earth.  *****  Likesheavesofcornhegathersyouunto himself.  Hethreshesyoutomakeyounaked.  Hesiftsyoutofreeyoufromyour husks.  Hegrindsyoutowhiteness.  Hekneadsyouuntilyouarepliant;  Andthenheassignsyoutohissacred fire,thatyoumaybecomesacredbread forGod’ssacredfeast.  *****  Allthesethingsshalllovedountoyou thatyoumayknowsecretsofyour heart,inthatknowledgebecomea fragmentofLife’sheart.  Butifinyourfearyouwouldseekonly love’speacelove’spleasure,  Thenitisbetterforyouthatyou coveryournakednesspassoutof love’sthreshing-floor,  Intoseasonlessworldwhereyou shalllaugh,butnotallofyour laughter,weep,butnotallofyour tears.  *****  Lovegivesnaughtbutitselftakes naughtbutfromitself.  Lovepossessesnotnorwoulditbe possessed;  Forloveissufficientuntolove.  Whenyouloveyoushouldnotsay,“God isinmyheart,”butrather,“Iamin theheartofGod.”  Andthinknotyoucandirectcourse oflove,forlove,ifitfindsyou worthy,directsyourcourse.  Lovehasnootherdesirebuttofulfil itself.  Butifyoulovemustneedshave desires,letthesebeyourdesires:  Tomeltbelikerunningbrookthat singsitsmelodytonight.To knowpainoftoomuchtenderness.  Tobewoundedbyyourownunderstanding oflove;  Andtobleedwillinglyjoyfully.  Towakeatdawnwithwingedheartand givethanksforanotherdayofloving;  Torestatnoonhourmeditate love’secstacy;  Toreturnhomeateventidewith gratitude;  Andthentosleepwithprayerfor thebelovedinyourheartsongof praiseuponyourlips.  [Illustration:0029]  **********  ThenAlmitraspokeagainsaid, Andwhatof_Marriage_master?  Andheansweredsaying:  Youwereborntogether,togetheryou shallbeforevermore.  Youshallbetogetherwhenwhite wingsofdeathscatteryourdays.  Aye,youshallbetogethereveninthe silentmemoryofGod.  Butlettherebespacesinyour togetherness,  Andletwindsofheavensdance betweenyou.  *****  Loveoneanother,butmakenotbondof love:  Letitratherbemovingseabetween theshoresofyoursouls.  Filleachother’scupbutdrinknotfrom onecup.  Giveoneanotherofyourbreadbuteat notfromsameloaf.Singand dancetogetherbejoyous,butlet eachoneofyoubealone,  Evenasstringsoflutearealone thoughtheyquiverwithsamemusic.  *****  Giveyourhearts,butnotintoeach other’skeeping.  ForonlyhandofLifecancontain yourhearts.  Andstandtogetheryetnottoonear together:  Forpillarsoftemplestand apart,  Andoaktreecypressgrow notineachother’sshadow.  [Illustration:0032]  **********  Andwomanwhoheldbabe againstherbosomsaid,Speaktousof _Children_.  Andhesaid:  Yourchildrenarenotyourchildren.  Theyaresonsdaughtersof Life’slongingforitself.  Theycomethroughyoubutnotfromyou,  Andthoughtheyarewithyouyetthey belongnottoyou.  *****  Youmaygivethemyourlovebutnotyour thoughts,  Fortheyhavetheirownthoughts.  Youmayhousetheirbodiesbutnottheir souls,  Fortheirsoulsdwellinhouseof tomorrow,whichyoucannotvisit,not eveninyourdreams.  Youmaystrivetobelikethem,butseek nottomakethemlikeyou.For lifegoesnotbackwardnortarrieswith yesterday.  Youarebowsfromwhichyour childrenaslivingarrowsaresent forth.  Thearcherseesmarkuponpath ofinfinite,Hebendsyouwith HismightthatHisarrowsmaygoswift andfar.  LetyourbendinginArcher’shandbe forgladness;  Forevenashelovesarrowthat flies,soHelovesalsobowthatis stable.  **********  Thensaidrichman,Speaktousof _Giving_.  Andheanswered:  Yougivebutlittlewhenyougiveof yourpossessions.  Itiswhenyougiveofyourselfthatyou trulygive.  Forwhatareyourpossessionsbutthings youkeepguardforfearyoumayneed themtomorrow?  Andtomorrow,whatshalltomorrowbring tooverprudentdogburyingbones intracklesssandashefollowsthe pilgrimstoholycity?  Andwhatisfearofneedbutneed itself?  Isnotdreadofthirstwhenyourwellis full,thirstthatisunquenchable?  Therearethosewhogivelittleofthe muchwhichtheyhave--andtheygive itforrecognitiontheirhidden desiremakestheirgiftsunwholesome.  Andtherearethosewhohavelittleand giveitall.  Thesearebelieversinlifeand thebountyoflife,theircofferis neverempty.  Therearethosewhogivewithjoy,and thatjoyistheirreward.  Andtherearethosewhogivewithpain, andthatpainistheirbaptism.  Andtherearethosewhogiveknow notpainingiving,nordotheyseek joy,norgivewithmindfulnessof virtue;  Theygiveasinyondervalleymyrtle breathesitsfragranceintospace.  ThroughhandsofsuchastheseGod speaks,frombehindtheireyesHe smilesuponearth.  [Illustration:0039]  Itiswelltogivewhenasked,butit isbettertogiveunasked,through understanding;  Andtoopen-handedsearchfor onewhoshallreceiveisjoygreater thangiving.  Andisthereaughtyouwouldwithhold?  Allyouhaveshallsomedaybegiven;  Thereforegivenow,thatseason ofgivingmaybeyoursnotyour inheritors’.  Youoftensay,“Iwouldgive,butonly todeserving.”  Thetreesinyourorchardsaynotso, norflocksinyourpasture.  Theygivethattheymaylive,forto withholdistoperish.  Surelyhewhoisworthytoreceivehis dayshisnights,isworthyofall elsefromyou.  Andhewhohasdeservedtodrinkfrom theoceanoflifedeservestofillhis cupfromyourlittlestream.  Andwhatdesertgreatershalltherebe, thanthatwhichliesincourage andconfidence,naycharity,of receiving?  Andwhoareyouthatmenshouldrend theirbosomunveiltheirpride, thatyoumayseetheirworthnakedand theirprideunabashed?  Seefirstthatyouyourselfdeserveto begiver,instrumentofgiving.  Forintruthitislifethatgivesunto life--whileyou,whodeemyourselfa giver,arebutwitness.  Andyoureceivers--andyouare allreceivers--assumenoweightof gratitude,lestyoulayyokeupon yourselfuponhimwhogives.  Ratherrisetogetherwithgiveron hisgiftsasonwings;  Fortobeovermindfulofyourdebt,is itodoubthisgenerositywhohasthe freeheartedearthformother,God forfather.  [Illustration:0042]  **********  Thenoldman,keeperofan inn,said,Speaktousof_Eatingand Drinking_.  Andhesaid:  Wouldthatyoucouldliveonthe fragranceofearth,likeair plantbesustainedbylight.  Butsinceyoumustkilltoeat,rob thenewlybornofitsmother’smilkto quenchyourthirst,letitthenbean actofworship,  Andletyourboardstandaltaron whichpureinnocentof forestplainaresacrificedforthat whichispurerstillmoreinnocent inman.  *****  Whenyoukillbeastsaytohiminyour heart,  “Bysamepowerthatslaysyou,Itoo amslain;Itooshallbeconsumed. Forlawthatdeliveredyouinto myhandshalldelivermeintomightier hand.  Yourbloodmybloodisnaughtbut thesapthatfeedstreeofheaven.”  *****  Andwhenyoucrushapplewithyour teeth,saytoitinyourheart,  “Yourseedsshallliveinmybody,  Andbudsofyourtomorrowshall blossominmyheart,  Andyourfragranceshallbemybreath, Andtogetherweshallrejoicethrough allseasons.”  *****  Andinautumn,whenyougather thegrapesofyourvineyardsforthe winepress,sayinyourheart,  “Itooamvineyard,myfruitshall begatheredforwinepress,  AndlikenewwineIshallbekeptin eternalvessels.”  Andinwinter,whenyoudrawwine, lettherebeinyourheartsong foreachcup;  Andlettherebeinsonga remembranceforautumndays,for thevineyard,forwinepress.  ***** *****  Thenploughmansaid,Speak tousof_Work_.  Andheanswered,saying:  Youworkthatyoumaykeeppacewiththe earthsoulofearth.  Fortobeidleistobecomestranger untoseasons,tostepoutof life’sprocession,thatmarchesin majestyproudsubmissiontowardsthe infinite.  Whenyouworkyouareflutethrough whoseheartwhisperingofhours turnstomusic.  Whichofyouwouldbereed,dumband silent,whenallelsesingstogetherin unison?  Alwaysyouhavebeentoldthatworkisa curselabourmisfortune.  ButIsaytoyouthatwhenyouworkyou fulfilpartofearth’sfurthestdream, assignedtoyouwhenthatdreamwas born,  Andinkeepingyourselfwithlabouryou areintruthlovinglife,  Andtolovelifethroughlabouristobe intimatewithlife’sinmostsecret.  *****  Butifyouinyourpaincallbirthan afflictionsupportofflesh acursewrittenuponyourbrow,thenI answerthatnaughtbutsweatof yourbrowshallwashawaythatwhichis written.  Youhavebeentoldalsothatlifeis darkness,inyourwearinessyouecho whatwassaidbyweary.  AndIsaythatlifeisindeeddarkness ‘savewhenthereisurge,  Andallurgeisblindsavewhenthereis knowledge,  Andallknowledgeisvainsavewhen thereiswork,  Andallworkisemptysavewhenthereis love;  Andwhenyouworkwithloveyoubind yourselftoyourself,toone another,toGod.  *****  Andwhatisittoworkwithlove?  Itistoweaveclothwiththreads drawnfromyourheart,evenasifyour belovedweretowearthatcloth.  Itistobuildhousewithaffection, evenasifyourbelovedweretodwellin thathouse.  Itistosowseedswithtendernessand reapharvestwithjoy,evenasif yourbelovedweretoeatfruit.  Itistochargeallthingsyoufashion withbreathofyourownspirit,  Andtoknowthatallblesseddead arestandingaboutyouwatching.  OftenhaveIheardyousay,asif speakinginsleep,“Hewhoworksin marble,findsshapeofhisown soulinstone,isnoblerthanhewho ploughssoil.Andhewhoseizes therainbowtolayitonclothinthe likenessofman,ismorethanhewho makessandalsforourfeet.”  ButIsay,notinsleepbutinthe overwakefulnessofnoontide,thatthe windspeaksnotmoresweetlytothe giantoaksthantoleastofallthe bladesofgrass;  Andhealoneisgreatwhoturnsthe voiceofwindintosongmade sweeterbyhisownloving.  *****  Workislovemadevisible.  Andifyoucannotworkwithlovebut onlywithdistaste,itisbetterthat youshouldleaveyourworksitat thegateoftempletakealmsof thosewhoworkwithjoy.  Forifyoubakebreadwithindifference, youbakebitterbreadthatfeedsbut halfman’shunger.  Andifyougrudgecrushingofthe grapes,yourgrudgedistilspoisonin thewine.Andifyousingthoughas angels,lovenotsinging,you muffleman’searstovoicesofthe dayvoicesofnight.  **********  Thenwomansaid,Speaktousof _JoySorrow_.  Andheanswered:  Yourjoyisyoursorrowunmasked.  Andselfsamewellfromwhichyour laughterriseswasoftentimesfilled withyourtears.  Andhowelsecanitbe?  Thedeeperthatsorrowcarvesintoyour being,morejoyyoucancontain.  Isnotcupthatholdsyourwinethe verycupthatwasburnedinpotter’s oven?  Andisnotlutethatsoothesyour spirit,verywoodthatwashollowed withknives?  Whenyouarejoyous,lookdeepintoyour heartyoushallfinditisonly thatwhichhasgivenyousorrowthatis givingyoujoy.  Whenyouaresorrowfullookagainin yourheart,youshallseethat intruthyouareweepingforthatwhich hasbeenyourdelight.  *****  Someofyousay,“Joyisgreaterthan sorrow,”otherssay,“Nay,sorrowis thegreater.”  ButIsayuntoyou,theyare inseparable.  Togethertheycome,whenonesits alonewithyouatyourboard,remember thatotherisasleepuponyourbed.  Verilyyouaresuspendedlikescales betweenyoursorrowyourjoy.  Onlywhenyouareemptyareyouat standstillbalanced.  Whentreasure-keeperliftsyouto weighhisgoldhissilver,needs mustyourjoyoryoursorrowriseor fall.  **********  Thenmasoncameforthsaid, Speaktousof_Houses_.  Andheansweredsaid:  Buildofyourimaginingsbowerinthe wildernessereyoubuildhousewithin thecitywalls.  Forevenasyouhavehome-comingsin yourtwilight,sohaswandererin you,everdistantalone.  Yourhouseisyourlargerbody.  Itgrowsinsunsleepsinthe stillnessofnight;itisnot dreamless.Doesnotyourhousedream? anddreaming,leavecityforgrove orhilltop?  WouldthatIcouldgatheryourhouses intomyhand,likesowerscatter theminforestmeadow.  Wouldvalleyswereyourstreets,and thegreenpathsyouralleys,thatyou mightseekoneanotherthrough vineyards,comewithfragrance ofearthinyourgarments.  Butthesethingsarenotyettobe.  Intheirfearyourforefathersgathered youtooneartogether.Andthatfear shallendurelittlelonger.Alittle longershallyourcitywallsseparate yourhearthsfromyourfields.  *****  Andtellme,peopleofOrphalese,what haveyouinthesehouses?Andwhatisit youguardwithfasteneddoors?  Haveyoupeace,quieturgethat revealsyourpower?  Haveyouremembrances,glimmering archesthatspansummitsofthe mind?  Haveyoubeauty,thatleadsheart fromthingsfashionedofwoodstone toholymountain?  Tellme,haveyoutheseinyourhouses?  Orhaveyouonlycomfort,lust forcomfort,thatstealthythingthat entershouseguest,then becomeshost,thenmaster?  *****  Ay,itbecomestamer,with hookscourgemakespuppetsofyour largerdesires.  Thoughitshandsaresilken,itsheart isofiron.  Itlullsyoutosleeponlytostandby yourbedjeeratdignityofthe flesh.  Itmakesmockofyoursoundsenses,and laystheminthistledownlikefragile vessels.  Verilylustforcomfortmurders thepassionofsoul,thenwalks grinninginfuneral.  Butyou,childrenofspace,yourestless inrest,youshallnotbetrappednor tamed.  Yourhouseshallbenotanchorbuta mast.  Itshallnotbeglisteningfilmthat coverswound,buteyelidthat guardseye.  Youshallnotfoldyourwingsthatyou maypassthroughdoors,norbendyour headsthattheystrikenotagainsta ceiling,norfeartobreathelestwalls shouldcrackfalldown.  Youshallnotdwellintombsmadebythe deadforliving.  Andthoughofmagnificenceand splendour,yourhouseshallnothold yoursecretnorshelteryourlonging.  Forthatwhichisboundlessinyou abidesinmansionofsky,whose doorismorningmist,whose windowsaresongssilences ofnight.  **********  Andweaversaid,Speaktousof _Clothes_.  Andheanswered:  Yourclothesconcealmuchofyour beauty,yettheyhidenotthe unbeautiful.  Andthoughyouseekingarmentsthe freedomofprivacyyoumayfindinthem aharnesschain.  Wouldthatyoucouldmeetsunand thewindwithmoreofyourskinless ofyourraiment,  Forbreathoflifeisinthe sunlighthandoflifeisinthe wind.  Someofyousay,“Itisnorthwind whohaswovenclotheswewear.”  AndIsay,Ay,itwasnorthwind,  Butshamewashisloom,the softeningofsinewswashisthread.  Andwhenhisworkwasdonehelaughedin theforest.Forgetnotthatmodesty isforshieldagainsteyeofthe unclean.  Andwhenuncleanshallbenomore, whatweremodestybutfettera foulingofmind?  Andforgetnotthatearthdelights tofeelyourbarefeetwinds longtoplaywithyourhair.  **********  Andmerchantsaid,Speaktousof _BuyingSelling_.  Andheansweredsaid:  Toyouearthyieldsherfruit,and youshallnotwantifyoubutknowhow tofillyourhands.  Itisinexchanginggiftsofthe earththatyoushallfindabundanceand besatisfied.  Yetunlessexchangebeinloveand kindlyjustice,itwillbutleadsometo greedotherstohunger.  Wheninmarketplaceyoutoilersof theseafieldsvineyardsmeet theweaverspottersthe gatherersofspices,--  Invokethenmasterspiritofthe earth,tocomeintoyourmidstand sanctifyscalesreckoning thatweighsvalueagainstvalue.And suffernotbarren-handedtotake partinyourtransactions,whowould selltheirwordsforyourlabour.  Tosuchmenyoushouldsay,  “Comewithustofield,orgowith ourbrotherstoseacastyour net;  Forlandseashallbe bountifultoyouevenastous.”  *****  Andiftherecomesingersthe dancersfluteplayers,--buyof theirgiftsalso.  Fortheytooaregatherersoffruitand frankincense,thatwhichtheybring, thoughfashionedofdreams,israiment andfoodforyoursoul.  Andbeforeyouleavemarketplace, seethatnoonehasgonehiswaywith emptyhands.  Formasterspiritofearthshall notsleeppeacefullyuponwind tillneedsofleastofyouare satisfied.  **********  Thenoneofjudgesofcity stoodforthsaid,Speaktousof _CrimePunishment_.  Andheanswered,saying:  Itiswhenyourspiritgoeswandering uponwind,  Thatyou,aloneunguarded,commit awronguntoothersthereforeunto yourself.  Andforthatwrongcommittedmustyou knockwaitwhileunheededatthe gateofblessed.  Likeoceanisyourgod-self;  Itremainsforeverundefiled.  Andlikeetheritliftsbutthe winged.  Evenlikesunisyourgod-self;  Itknowsnotwaysofmolenor seeksitholesofserpent. Butyourgod-selfdwellsnotalone inyourbeing.  Muchinyouisstillman,muchin youisnotyetman,  Butshapelesspigmythatwalksasleep inmistsearchingforitsown awakening.  AndofmaninyouwouldInowspeak.  Foritishenotyourgod-selfnor thepigmyinmist,thatknowscrime andpunishmentofcrime.  *****  OftentimeshaveIheardyouspeakofone whocommitswrongasthoughhewere notoneofyou,butstrangeruntoyou andintruderuponyourworld.  ButIsaythatevenasholythe righteouscannotrisebeyondhighest whichisineachoneofyou,  Sowickedweakcannotfall lowerthanlowestwhichisinyou also.  Andassingleleafturnsnotyellow butwithsilentknowledgeofthe wholetree,Sowrong-doercannot dowrongwithouthiddenwillofyou all.  Likeprocessionyouwalktogether towardsyourgod-self.  [Illustration:0064]  Youarewaywayfarers.  Andwhenoneofyoufallsdownhefalls forthosebehindhim,cautionagainst thestumblingstone.  Ay,hefallsforthoseaheadofhim, whothoughfastersureroffoot,yet removednotstumblingstone.  Andthisalso,thoughwordlieheavy uponyourhearts:  Themurderedisnotunaccountablefor hisownmurder,  Androbbedisnotblamelessinbeing robbed.  Therighteousisnotinnocentofthe deedsofwicked,  Andwhite-handedisnotcleaninthe doingsoffelon.  Yea,guiltyisoftentimesvictim ofinjured,  Andstillmoreoftencondemnedis theburdenbearerforguiltless andunblamed.  Youcannotseparatejustfromthe unjustgoodfromwicked;  Fortheystandtogetherbeforeface ofsunevenasblackthreadand thewhitearewoventogether.  Andwhenblackthreadbreaks,the weavershalllookintowholecloth, andheshallexamineloomalso.  *****  Ifanyofyouwouldbringtojudgment theunfaithfulwife,  Lethimalsoweighheartofher husbandinscales,measurehissoul withmeasurements.  Andlethimwhowouldlashoffender lookuntospiritofoffended.  Andifanyofyouwouldpunishinthe nameofrighteousnesslayax untoeviltree,lethimseetoits roots;  Andverilyhewillfindrootsofthe goodbad,fruitfulthe fruitless,allentwinedtogetherin thesilentheartofearth.  Andyoujudgeswhowouldbejust,  Whatjudgmentpronounceyouuponhim whothoughhonestinfleshyetisa thiefinspirit?  Whatpenaltylayyouuponhimwhoslays infleshyetishimselfslaininthe spirit?  Andhowprosecuteyouhimwhoinaction isdeceiveroppressor,  Yetwhoalsoisaggrievedoutraged?  *****  Andhowshallyoupunishthosewhose remorseisalreadygreaterthantheir misdeeds?  Isnotremorsejusticewhichis administeredbythatverylawwhichyou wouldfainserve?  Yetyoucannotlayremorseuponthe innocentnorliftitfromheartof theguilty.  Unbiddenshallitcallinnight, thatmenmaywakegazeupon themselves.Andyouwhowould understandjustice,howshallyouunless youlookuponalldeedsinfullness oflight?  Onlythenshallyouknowthaterect andfallenarebutonemanstanding intwilightbetweennightofhis pigmy-selfdayofhisgod-self, Andthatcorner-stoneoftemple isnothigherthanloweststonein itsfoundation.  **********  Thenlawyersaid,Butwhatofour _Laws_,master?  Andheanswered:  Youdelightinlayingdownlaws,  Yetyoudelightmoreinbreakingthem.  Likechildrenplayingbyoceanwho buildsand-towerswithconstancyand thendestroythemwithlaughter.  Butwhileyoubuildyoursand-towersthe oceanbringsmoresandtoshore,  Andwhenyoudestroythemocean laughswithyou.  Verilyoceanlaughsalwayswiththe innocent.  Butwhatofthosetowhomlifeisnot anocean,man-madelawsarenot sand-towers,  Buttowhomlifeisrock,law achiselwithwhichtheywouldcarveit intheirownlikeness?Whatofthe cripplewhohatesdancers?  Whatofoxwholoveshisyokeand deemselkdeerofforest strayvagrantthings?  Whatofoldserpentwhocannotshed hisskin,callsallothersnakedand shameless?  Andofhimwhocomesearlytothe wedding-feast,whenover-fedand tiredgoeshiswaysayingthatall feastsareviolationallfeasters lawbreakers?  *****  WhatshallIsayofthesesavethat theytoostandinsunlight,butwith theirbackstosun?  Theyseeonlytheirshadows,their shadowsaretheirlaws.  Andwhatissuntothembutcaster ofshadows?  Andwhatisittoacknowledgethe lawsbuttostoopdowntracetheir shadowsuponearth?  Butyouwhowalkfacingsun,what imagesdrawnonearthcanhold you?  Youwhotravelwithwind,what weather-vaneshalldirectyourcourse?  Whatman’slawshallbindyouifyou breakyouryokebutuponnoman’sprison door?  Whatlawsshallyoufearifyoudance butstumbleagainstnoman’siron chains?  Andwhoishethatshallbringyouto judgmentifyoutearoffyourgarment yetleaveitinnoman’spath?  *****  PeopleofOrphalese,youcanmufflethe drum,youcanloosenstrings oflyre,butwhoshallcommandthe skylarknottosing?  **********  Andoratorsaid,Speaktousof _Freedom_.  Andheanswered:  Atcitygatebyyourfireside Ihaveseenyouprostrateyourselfand worshipyourownfreedom,  Evenasslaveshumblethemselvesbefore atyrantpraisehimthoughheslays them.  Ay,ingroveoftemplein theshadowofcitadelIhaveseen thefreestamongyouweartheirfreedom asyokehandcuff.  Andmyheartbledwithinme;foryou canonlybefreewhenevendesire ofseekingfreedombecomesharness toyou,whenyouceasetospeakof freedomasgoalfulfilment.  Youshallbefreeindeedwhenyour daysarenotwithoutcarenoryour nightswithoutwantgrief,  Butratherwhenthesethingsgirdleyour lifeyetyouriseabovethemnaked andunbound.  *****  Andhowshallyourisebeyondyourdays andnightsunlessyoubreakthe chainswhichyouatdawnofyour understandinghavefastenedaroundyour noonhour?  Intruththatwhichyoucallfreedomis thestrongestofthesechains,though itslinksglitterinsundazzle youreyes.  Andwhatisitbutfragmentsofyour ownselfyouwoulddiscardthatyoumay becomefree?  Ifitisunjustlawyouwould abolish,thatlawwaswrittenwithyour ownhanduponyourownforehead.  Youcannoteraseitbyburningyourlaw booksnorbywashingforeheadsof yourjudges,thoughyoupoursea uponthem.  Andifitisdespotyouwould dethrone,seefirstthathisthrone erectedwithinyouisdestroyed.  Forhowcantyrantrulefreeand theproud,butfortyrannyintheir ownfreedomshameintheirown pride?  Andifitiscareyouwouldcastoff, thatcarthasbeenchosenbyyourather thanimposeduponyou.  Andifitisfearyouwoulddispel, theseatofthatfearisinyourheart andnotinhandoffeared.  *****  Verilyallthingsmovewithinyourbeing inconstanthalfembrace,desired anddreaded,repugnantthe cherished,pursuedthatwhich youwouldescape.  Thesethingsmovewithinyouaslights andshadowsinpairsthatcling.  Andwhenshadowfadesisno more,lightthatlingersbecomesa shadowtoanotherlight.  Andthusyourfreedomwhenitlosesits fettersbecomesitselffetterofa greaterfreedom.  **********  Andpriestessspokeagain andsaid:Speaktousof_Reasonand Passion_.  Andheanswered,saying:  Yoursoulisoftentimesbattlefield, uponwhichyourreasonyourjudgment wagewaragainstyourpassionyour appetite.  WouldthatIcouldbepeacemakerin yoursoul,thatImightturndiscord andrivalryofyourelementsinto onenessmelody.  ButhowshallI,unlessyouyourselves bealsopeacemakers,nay,lovers ofallyourelements?  Yourreasonyourpassionarethe ruddersailsofyourseafaring soul.  Ifeitheryoursailsoryourrudderbe broken,youcanbuttossdrift, orelsebeheldatstandstillin mid-seas.Forreason,rulingalone, isforceconfining;passion, unattended,isflamethatburnstoits owndestruction.  Thereforeletyoursoulexaltyour reasontoheightofpassion,thatit maysing;  Andletitdirectyourpassionwith reason,thatyourpassionmaylive throughitsowndailyresurrection, andlikephoenixriseaboveitsown ashes.  *****  Iwouldhaveyouconsideryourjudgment andyourappetiteevenasyouwouldtwo lovedguestsinyourhouse.  Surelyyouwouldnothonouroneguest aboveother;forhewhoismore mindfulofoneloseslovethe faithofboth  Amonghills,whenyousitinthe coolshadeofwhitepoplars,sharing thepeaceserenityofdistantfields andmeadows--thenletyourheartsayin silence,“Godrestsinreason.”  Andwhenstormcomes,the mightywindshakesforest, andthunderlightningproclaimthe majestyofsky,--thenletyourheart sayinawe,“Godmovesinpassion.”  AndsinceyouarebreathinGod’s sphere,leafinGod’sforest,you tooshouldrestinreasonmovein passion.  **********  Andwomanspoke,saying,Tellus of_Pain_.  Andhesaid:  Yourpainisbreakingofshell thatenclosesyourunderstanding.  Evenasstoneoffruitmust break,thatitsheartmaystandinthe sun,somustyouknowpain.  Andcouldyoukeepyourheartinwonder atdailymiraclesofyourlife,your painwouldnotseemlesswondrousthan yourjoy;  Andyouwouldacceptseasonsofyour heart,evenasyouhavealwaysaccepted theseasonsthatpassoveryourfields.  Andyouwouldwatchwithserenity throughwintersofyourgrief.  Muchofyourpainisself-chosen.  Itisbitterpotionbywhichthe physicianwithinyouhealsyoursick self.  Thereforetrustphysician,drink hisremedyinsilencetranquillity: Forhishand,thoughheavyhard,is guidedbytenderhandofUnseen, Andcuphebrings,thoughitburn yourlips,hasbeenfashionedofthe claywhichPotterhasmoistenedwith Hisownsacredtears.  **********  Andmansaid,Speaktousof _Self-Knowledge_.  Andheanswered,saying:  Yourheartsknowinsilencesecrets ofdaysnights.  Butyourearsthirstforsoundof yourheart’sknowledge.  Youwouldknowinwordsthatwhichyou havealwaysknowninthought.  Youwouldtouchwithyourfingersthe nakedbodyofyourdreams.  Anditiswellyoushould.  Thehiddenwell-springofyoursoulmust needsriserunmurmuringtosea;  Andtreasureofyourinfinitedepths wouldberevealedtoyoureyes.  Butlettherebenoscalestoweighyour unknowntreasure;  Andseeknotdepthsofyour knowledgewithstafforsounding line.  Forselfisseaboundlessand measureless.  *****  Saynot,“Ihavefoundtruth,”but rather,“Ihavefoundtruth.”  Saynot,“Ihavefoundpathofthe soul.”Sayrather,“Ihavemetsoul walkinguponmypath.”  Forsoulwalksuponallpaths.  Thesoulwalksnotuponline,neither doesitgrowlikereed.  Thesoulunfoldsitself,likelotusof countlesspetals.  [Illustration:0083]  **********  Thensaidteacher,Speaktousof _Teaching_.  Andhesaid:  “Nomancanrevealtoyouaughtbutthat whichalreadylieshalfasleepinthe dawningofyourknowledge.  Theteacherwhowalksinshadowof thetemple,amonghisfollowers,gives notofhiswisdombutratherofhis faithhislovingness.  Ifheisindeedwisehedoesnotbid youenterhouseofhiswisdom,but ratherleadsyoutothresholdof yourownmind.  Theastronomermayspeaktoyouofhis understandingofspace,buthecannot giveyouhisunderstanding.  Themusicianmaysingtoyouofthe rhythmwhichisinallspace,buthe cannotgiveyouearwhicharrests therhythmnorvoicethatechoesit. Andhewhoisversedinscience ofnumberscantellofregions ofweightmeasure,buthecannot conductyouthither.  Forvisionofonemanlendsnotits wingstoanotherman.  Andevenaseachoneofyoustandsalone inGod’sknowledge,somusteachoneof youbealoneinhisknowledgeofGodand inhisunderstandingofearth.  **********  Andyouthsaid,Speaktousof _Friendship_.  Andheanswered,saying:  Yourfriendisyourneedsanswered.  Heisyourfieldwhichyousowwithlove andreapwiththanksgiving.  Andheisyourboardyourfireside.  Foryoucometohimwithyourhunger, andyouseekhimforpeace.  Whenyourfriendspeakshismindyou fearnot“nay”inyourownmind,nor doyouwithhold“ay.”  Andwhenheissilentyourheartceases nottolistentohisheart;  Forwithoutwords,infriendship,all thoughts,alldesires,allexpectations arebornshared,withjoythatis unacclaimed.  Whenyoupartfromyourfriend,you grievenot;  Forthatwhichyoulovemostinhim maybeclearerinhisabsence,asthe mountaintoclimberisclearer fromplain.Andlettherebeno purposeinfriendshipsavedeepening ofspirit.  Forlovethatseeksaughtbutthe disclosureofitsownmysteryisnot lovebutnetcastforth:onlythe unprofitableiscaught.  *****  Andletyourbestbeforyourfriend.  Ifhemustknowebbofyourtide, lethimknowitsfloodalso.  Forwhatisyourfriendthatyoushould seekhimwithhourstokill?  Seekhimalwayswithhourstolive.  Foritishistofillyourneed,butnot youremptiness.  Andinsweetnessoffriendship lettherebelaughter,sharingof pleasures.  Forindewoflittlethings theheartfindsitsmorningis refreshed.  **********  Andthenscholarsaid,Speakof _Talking_.  Andheanswered,saying:  Youtalkwhenyouceasetobeatpeace withyourthoughts;  Andwhenyoucannolongerdwellinthe solitudeofyourheartyouliveinyour lips,soundisdiversiona pastime.  Andinmuchofyourtalking,thinkingis halfmurdered.  Forthoughtisbirdofspace,thatin acageofwordsmayindeedunfoldits wingsbutcannotfly.  Therearethoseamongyouwhoseekthe talkativethroughfearofbeingalone.  Thesilenceofalonenessrevealsto theireyestheirnakedselvesthey wouldescape.  Andtherearethosewhotalk,and withoutknowledgeorforethoughtreveal atruthwhichtheythemselvesdonot understand.  Andtherearethosewhohavetruth withinthem,buttheytellitnotin words.  Inbosomofsuchasthesespirit dwellsinrhythmicsilence.  *****  Whenyoumeetyourfriendonthe roadsideorinmarketplace,letthe spiritinyoumoveyourlipsdirect yourtongue.  Letvoicewithinyourvoicespeakto theearofhisear;  Forhissoulwillkeeptruthof yourheartastasteofwineis remembered  Whencolourisforgottenthe vesselisnomore.  **********  Andastronomersaid,Master,what of_Time_?  Andheanswered:  Youwouldmeasuretimemeasureless andimmeasurable.  Youwouldadjustyourconductand evendirectcourseofyourspirit accordingtohoursseasons.  Oftimeyouwouldmakestreamupon whosebankyouwouldsitwatchits flowing.  Yettimelessinyouisawareof life’stimelessness,  Andknowsthatyesterdayisbuttoday’s memorytomorrowistoday’sdream.  Andthatthatwhichsingsand contemplatesinyouisstilldwelling withinboundsofthatfirstmoment whichscatteredstarsintospace. Whoamongyoudoesnotfeelthathis powertoloveisboundless?  Andyetwhodoesnotfeelthatvery love,thoughboundless,encompassed withincentreofhisbeing,and movingnotfromlovethoughttolove thought,norfromlovedeedstoother lovedeeds?  Andisnottimeevenasloveis, undividedpaceless?  *****  Butifinyourthoughtyoumustmeasure timeintoseasons,leteachseason encircleallotherseasons,  Andlettodayembracepastwith remembrancefuturewithlonging.  **********  Andoneofeldersofcity said,Speaktousof_GoodEvil_.  Andheanswered:  OfgoodinyouIcanspeak,butnot ofevil.  Forwhatisevilbutgoodtorturedby itsownhungerthirst?  Verilywhengoodishungryitseeksfood evenindarkcaves,whenitthirsts itdrinksevenofdeadwaters.  Youaregoodwhenyouareonewith yourself.  Yetwhenyouarenotonewithyourself youarenotevil.  Fordividedhouseisnotdenof thieves;itisonlydividedhouse.  Andshipwithoutruddermaywander aimlesslyamongperilousislesyetsink nottobottom.Youaregoodwhen youstrivetogiveofyourself.  Yetyouarenotevilwhenyouseekgain foryourself.  Forwhenyoustriveforgainyouare butrootthatclingstoearthand sucksatherbreast.  Surelyfruitcannotsaytoroot, “Belikeme,ripefullever givingofyourabundance.”  Fortofruitgivingisneed,as receivingisneedtoroot.  *****  Youaregoodwhenyouarefullyawakein yourspeech,  Yetyouarenotevilwhenyousleep whileyourtonguestaggerswithout purpose.  Andevenstumblingspeechmaystrengthen aweaktongue.  Youaregoodwhenyouwalktoyourgoal firmlywithboldsteps.  Yetyouarenotevilwhenyougothither limping.Eventhosewholimpgonot backward.  Butyouwhoarestrongswift,see thatyoudonotlimpbeforelame, deemingitkindness.  *****  Youaregoodincountlessways,you arenotevilwhenyouarenotgood,  Youareonlyloiteringsluggard.  Pitythatstagscannotteach swiftnesstoturtles.  Inyourlongingforyourgiantselflies yourgoodness:thatlongingisin allofyou.  Butinsomeofyouthatlongingisa torrentrushingwithmighttosea, carryingsecretsofhillsides andsongsofforest.  Andinothersitisflatstreamthat losesitselfinanglesbendsand lingersbeforeitreachesshore.  Butletnothimwholongsmuchsayto himwholongslittle,“Whereforeare youslowhalting?”  Fortrulygoodasknotnaked, “Whereisyourgarment?”northe houseless,“Whathasbefallenyour house?”  **********  Thenpriestesssaid,Speaktous of_Prayer_.  Andheanswered,saying:  Youprayinyourdistressinyour need;wouldthatyoumightprayalso infullnessofyourjoyinyour daysofabundance.  Forwhatisprayerbutexpansionof yourselfintolivingether?  Andifitisforyourcomforttopour yourdarknessintospace,itisalsofor yourdelighttopourforthdawning ofyourheart.  Andifyoucannotbutweepwhenyour soulsummonsyoutoprayer,sheshould spuryouagainyetagain,though weeping,untilyoushallcomelaughing.  Whenyouprayyourisetomeetinthe airthosewhoareprayingatthatvery hour,whomsaveinprayeryou maynotmeet.  Thereforeletyourvisittothattemple invisiblebefornaughtbutecstasyand sweetcommunion.  Forifyoushouldentertemplefor nootherpurposethanaskingyoushall notreceive:  Andifyoushouldenterintoitto humbleyourselfyoushallnotbelifted:  Orevenifyoushouldenterintoitto begforgoodofothersyoushallnot beheard.  Itisenoughthatyouentertemple invisible.  *****  Icannotteachyouhowtoprayinwords.  Godlistensnottoyourwordssavewhen HeHimselfuttersthemthroughyour lips.  AndIcannotteachyouprayerofthe seasforestsmountains. Butyouwhoarebornofthe mountainsforestsseas canfindtheirprayerinyourheart,  Andifyoubutlisteninstillness ofnightyoushallhearthemsaying insilence,  “OurGod,whoartourwingedself,itis thywillinusthatwilleth.  Itisthydesireinusthatdesireth.  Itisthyurgeinusthatwouldturnour nights,whicharethine,intodayswhich arethinealso.  Wecannotasktheeforaught,forthou knowestourneedsbeforetheyareborn inus:  Thouartourneed;ingivingusmore ofthyselfthougivestusall.”  [Illustration:0100]  **********  Thenhermit,whovisitedcity onceyear,cameforthsaid,Speak tousof_Pleasure_.  Andheanswered,saying:  Pleasureisfreedom-song,  Butitisnotfreedom.  Itisblossomingofyourdesires,  Butitisnottheirfruit.  Itisdepthcallinguntoheight,  Butitisnotdeepnorhigh.  Itiscagedtakingwing,  Butitisnotspaceencompassed.  Ay,inverytruth,pleasureisa freedom-song.  AndIfainwouldhaveyousingitwith fullnessofheart;yetIwouldnothave youloseyourheartsinsinging.  Someofyouryouthseekpleasureasif itwereall,theyarejudgedand rebuked.Iwouldnotjudgenor rebukethem.Iwouldhavethemseek.  Fortheyshallfindpleasure,butnot heralone;  Sevenarehersisters,leastof themismorebeautifulthanpleasure.  Haveyounotheardofmanwhowas digginginearthforrootsfound atreasure?  *****  Andsomeofyoureldersremember pleasureswithregretlikewrongs committedindrunkenness.  Butregretisbecloudingofmind andnotitschastisement.  Theyshouldremembertheirpleasures withgratitude,astheywouldthe harvestofsummer.  Yetifitcomfortsthemtoregret,let thembecomforted.  Andthereareamongyouthosewho areneitheryoungtoseeknoroldto remember;  Andintheirfearofseekingand rememberingtheyshunallpleasures, lesttheyneglectspiritoroffend againstit.  Butevenintheirforegoingistheir pleasure.  Andthustheytoofindtreasurethough theydigforrootswithquiveringhands.  Buttellme,whoishethatcanoffend thespirit?  Shallnightingaleoffendthe stillnessofnight,orfirefly thestars?  Andshallyourflameoryoursmoke burdenwind?  Thinkyouspiritisstillpool whichyoucantroublewithstaff?  *****  Oftentimesindenyingyourselfpleasure youdobutstoredesireinthe recessesofyourbeing.  Whoknowsbutthatwhichseemsomitted today,waitsfortomorrow?  Evenyourbodyknowsitsheritage anditsrightfulneedwillnotbe deceived.  Andyourbodyisharpofyoursoul,  Anditisyourstobringforthsweet musicfromitorconfusedsounds.  *****  Andnowyouaskinyourheart,“How shallwedistinguishthatwhichis goodinpleasurefromthatwhichisnot good?”  Gotoyourfieldsyourgardens,and youshalllearnthatitispleasure ofbeetogatherhoneyofthe flower,  Butitisalsopleasureofthe flowertoyielditshoneytobee.  Fortobeeflowerisfountainof life,  Andtoflowerbeeismessenger oflove,  Andtoboth,beeflower,giving andreceivingofpleasureisneed andecstasy.  PeopleofOrphalese,beinyour pleasureslikeflowersbees.  **********  Andpoetsaid,Speaktousof _Beauty_.  Andheanswered:  Whereshallyouseekbeauty,how shallyoufindherunlesssheherselfbe yourwayyourguide?  Andhowshallyouspeakofherexcept shebeweaverofyourspeech?  Theaggrievedinjuredsay, “Beautyiskindgentle.  Likeyoungmotherhalf-shyofherown gloryshewalksamongus.”  Andpassionatesay,“Nay,beautyis athingofmightdread.  Liketempestsheshakesearth beneathusskyaboveus.”  Thetiredwearysay,“Beautyis ofsoftwhisperings.Shespeaksinour spirit.Hervoiceyieldstoour silenceslikefaintlightthatquivers infearofshadow.”  Butrestlesssay,“Wehaveheardher shoutingamongmountains,  Andwithhercriescamesoundof hoofs,beatingofwingsthe roaringoflions.”  Atnightwatchmenofcitysay, “Beautyshallrisewithdawnfrom theeast.”  Andatnoontidetoilersthe wayfarerssay,“Wehaveseenherleaning overearthfromwindowsofthe sunset.”  *****  Inwintersaysnow-bound,“Sheshall comewithspringleapinguponthe hills.”  Andinsummerheatreapers say,“Wehaveseenherdancingwiththe autumnleaves,wesawdriftof snowinherhair.”Allthesethings haveyousaidofbeauty,  Yetintruthyouspokenotofherbutof needsunsatisfied,  Andbeautyisnotneedbutecstasy.  Itisnotmouththirstingnorempty handstretchedforth,  Butratherheartenflamedsoul enchanted.  Itisnotimageyouwouldseenor thesongyouwouldhear,  Butratherimageyouseethoughyou closeyoureyessongyouhear thoughyoushutyourears.  Itisnotsapwithinfurrowed bark,norwingattachedtoclaw,  Butrathergardenforeverinbloom andflockofangelsforeverin flight.  *****  PeopleofOrphalese,beautyislifewhen lifeunveilsherholyface.  Butyouarelifeyouareveil. Beautyiseternitygazingatitself inmirror.  Butyouareeternityyouarethe mirror.  **********  Andoldpriestsaid,Speaktous of_Religion_.  Andhesaid:  HaveIspokenthisdayofaughtelse?  Isnotreligionalldeedsall reflection,  Andthatwhichisneitherdeednor reflection,butwondersurprise everspringinginsoul,evenwhile thehandshewstoneortendthe loom?  Whocanseparatehisfaithfrom hisactions,orhisbelieffromhis occupations?  Whocanspreadhishoursbeforehim, saving,“ThisforGodthisfor myself;Thisformysoul,thisother formybody?”  Allyourhoursarewingsthatbeat throughspacefromselftoself.He whowearshismoralitybutashisbest garmentwerebetternaked.  Thewindsunwilltearnoholes inhisskin.  Andhewhodefineshisconductbyethics imprisonshissong-birdincage.  Thefreestsongcomesnotthroughbars andwires.  Andhetowhomworshippingiswindow, toopenbutalsotoshut,hasnotyet visitedhouseofhissoulwhose windowsarefromdawntodawn.  *****  Yourdailylifeisyourtempleyour religion.  Wheneveryouenterintoittakewithyou yourall.  Takeploughforgethe malletlute,  Thethingsyouhavefashionedin necessityorfordelight.  Forinreveryyoucannotriseaboveyour achievementsnorfalllowerthanyour failures.  Andtakewithyouallmen:Forin adorationyoucannotflyhigherthan theirhopesnorhumbleyourselflower thantheirdespair.  *****  AndifyouwouldknowGodbenot thereforesolverofriddles.  Ratherlookaboutyouyoushallsee Himplayingwithyourchildren.  Andlookintospace;youshallseeHim walkingincloud,outstretchingHis armsinlightningdescendingin rain.  YoushallseeHimsmilinginflowers, thenrisingwavingHishandsin trees.  **********  ThenAlmitraspoke,saying,Wewould asknowof_Death_.  Andhesaid:  Youwouldknowsecretofdeath.  Buthowshallyoufinditunlessyou seekitinheartoflife?  Theowlwhosenight-boundeyesareblind untodaycannotunveilmystery oflight.  Ifyouwouldindeedbeholdspirit ofdeath,openyourheartwideuntothe bodyoflife.  Forlifedeathareone,evenasthe riverseaareone.  Indepthofyourhopesdesires liesyoursilentknowledgeofthe beyond;  Andlikeseedsdreamingbeneathsnow yourheartdreamsofspring.  Trustdreams,forinthemishidden thegatetoeternity.Yourfear ofdeathisbuttremblingofthe shepherdwhenhestandsbeforeking whosehandistobelaiduponhimin honour.  Isshepherdnotjoyfulbeneathhis trembling,thatheshallwearmark ofking?  Yetishenotmoremindfulofhis trembling?  *****  Forwhatisittodiebuttostandnaked inwindtomeltintosun?  Andwhatisittoceasebreathing,but tofreebreathfromitsrestless tides,thatitmayriseexpandand seekGodunencumbered?  Onlywhenyoudrinkfromriverof silenceshallyouindeedsing.  Andwhenyouhavereachedmountain top,thenyoushallbegintoclimb.  Andwhenearthshallclaimyour limbs,thenshallyoutrulydance. Andnowitwasevening.  AndAlmitraseeresssaid,Blessedbe thisdaythisplaceyourspirit thathasspoken.  Andheanswered,WasitIwhospoke?Was Inotalsolistener?  *****  Thenhedescendedstepsofthe Templeallpeoplefollowedhim. Andhereachedhisshipstoodupon thedeck.  Andfacingpeopleagain,heraised hisvoicesaid:  PeopleofOrphalese,windbidsme leaveyou.  LesshastyamIthanwind,yetI mustgo.  Wewanderers,everseekinglonelier way,beginnodaywherewehaveended anotherday;nosunrisefindsus wheresunsetleftus.Evenwhilethe earthsleepswetravel.  Weareseedsoftenacious plant,itisinourripenessour fullnessofheartthatwearegivento thewindarescattered.  *****  Briefweremydaysamongyou,and brieferstillwordsIhavespoken.  Butshouldmyvoicefadeinyourears, andmylovevanishinyourmemory,then Iwillcomeagain,  Andwithricherheartlipsmore yieldingtospiritwillIspeak.  Yea,Ishallreturnwithtide,  Andthoughdeathmayhideme,the greatersilenceenfoldme,yetagain willIseekyourunderstanding.  AndnotinvainwillIseek.  IfaughtIhavesaidistruth,that truthshallrevealitselfinclearer voice,inwordsmorekintoyour thoughts.  Igowithwind,peopleof Orphalese,butnotdownintoemptiness; Andifthisdayisnotfulfilment ofyourneedsmylove,thenletit bepromisetillanotherday.  Man’sneedschange,butnothislove, norhisdesirethathisloveshould satisfyhisneeds.  Knowtherefore,thatfromgreater silenceIshallreturn.  Themistthatdriftsawayatdawn, leavingbutdewinfields,shall risegatherintocloudthen falldowninrain.  AndnotunlikemisthaveIbeen.  InstillnessofnightIhave walkedinyourstreets,myspirit hasenteredyourhouses,  Andyourheart-beatswereinmyheart, andyourbreathwasuponmyface,I knewyouall.  Ay,Iknewyourjoyyourpain, andinyoursleepyourdreamsweremy dreams.  AndoftentimesIwasamongyoulake amongmountains.  Imirroredsummitsinyouthe bendingslopes,eventhe passingflocksofyourthoughtsyour desires.  Andtomysilencecamelaughter ofyourchildreninstreams,the longingofyouryouthsinrivers.  Andwhentheyreachedmydepththe streamsriversceasednotyetto sing.  [Illustration:0119]  Butsweeterstillthanlaughterand greaterthanlongingcametome.  Itwasboundlessinyou;  Thevastmaninwhomyouareallbut cellssinews;  Heinwhosechantallyoursingingis butsoundlessthrobbing.  Itisinvastmanthatyouarevast,  AndinbeholdinghimthatIbeheldyou andlovedyou.  Forwhatdistancescanlovereachthat arenotinthatvastsphere?  Whatvisions,whatexpectationswhat presumptionscanoutsoarthatflight?  Likegiantoaktreecoveredwithapple blossomsisvastmaninyou.His mightbindsyoutoearth,his fragranceliftsyouintospace,in hisdurabilityyouaredeathless.  *****  Youhavebeentoldthat,evenlikea chain,youareasweakasyourweakest link.  Thisisbuthalftruth.Youarealso asstrongasyourstrongestlink.  Tomeasureyoubyyoursmallestdeed istoreckonpowerofoceanbythe frailtyofitsfoam.  Tojudgeyoubyyourfailuresisto castblameuponseasonsfortheir inconstancy.  Ay,youarelikeocean,  Andthoughheavy-groundedshipsawait thetideuponyourshores,yet,even likeocean,youcannothastenyour tides.  Andlikeseasonsyouarealso,  Andthoughinyourwinteryoudenyyour spring,  Yetspring,reposingwithinyou,smiles inherdrowsinessisnotoffended. ThinknotIsaythesethingsin orderthatyoumaysayonetothe other,“Hepraiseduswell.Hesawbut thegoodinus.”  Ionlyspeaktoyouinwordsofthat whichyouyourselvesknowinthought.  Andwhatiswordknowledgebutshadow ofwordlessknowledge?  Yourthoughtsmywordsarewaves fromsealedmemorythatkeepsrecords ofouryesterdays,  Andofancientdayswhenearth knewnotusnorherself,  Andofnightswhenearthwasup-wrought withconfusion.  *****  Wisemenhavecometoyoutogiveyou oftheirwisdom.Icametotakeofyour wisdom:  AndbeholdIhavefoundthatwhichis greaterthanwisdom.  Itisflamespiritinyouever gatheringmoreofitself,  Whileyou,heedlessofitsexpansion, bewailwitheringofyourdays. Itislifeinquestoflifein bodiesthatfeargrave.  *****  Therearenograveshere.  Thesemountainsplainsarecradle andstepping-stone.  Wheneveryoupassbyfieldwhere youhavelaidyourancestorslookwell thereupon,youshallseeyourselves andyourchildrendancinghandinhand.  Verilyyouoftenmakemerrywithout knowing.  Othershavecometoyoutowhomfor goldenpromisesmadeuntoyourfaith youhavegivenbutrichespowerand glory.  LessthanpromisehaveIgiven,and yetmoregeneroushaveyoubeentome.  Youhavegivenmemydeeperthirsting afterlife.  Surelythereisnogreatergifttoman thanthatwhichturnsallhisaims intoparchinglipsalllifeintoa fountain.  [Illustration:0125]  Andinthisliesmyhonourmy reward,--  ThatwheneverIcometofountain todrinkIfindlivingwateritself thirsty;  AnditdrinksmewhileIdrinkit.  *****  Someofyouhavedeemedmeproudand over-shytoreceivegifts.  TooproudindeedamItoreceivewages, butnotgifts.  AndthoughIhaveeatenberriesamong thehillswhenyouwouldhavehadmesit atyourboard,  Andsleptinporticooftemple whenyouwouldgladlyhaveshelteredme,  Yetwasitnotyourlovingmindfulness ofmydaysmynightsthatmadefood sweettomymouthgirdledmysleep withvisions?  ForthisIblessyoumost:  Yougivemuchknownotthatyougive atall.Verilykindnessthat gazesuponitselfinmirrorturnsto stone,  Andgooddeedthatcallsitselfby tendernamesbecomesparenttoa curse.  *****  Andsomeofyouhavecalledmealoof, anddrunkwithmyownaloneness,  Andyouhavesaid,“Heholdscouncil withtreesofforest,butnot withmen.  Hesitsaloneonhill-topslooks downuponourcity.”  TrueitisthatIhaveclimbedhills andwalkedinremoteplaces.  HowcouldIhaveseenyousavefroma greatheightorgreatdistance?  Howcanonebeindeednearunlesshebe tar?  Andothersamongyoucalleduntome,not inwords,theysaid,  “Stranger,stranger,loverof unreachableheights,whydwellyouamong thesummitswhereeaglesbuild theirnests?Whyseekyouthe unattainable?  Whatstormswouldyoutrapinyournet,  Andwhatvaporousbirdsdoyouhuntin thesky?  Comebeoneofus.  Descendappeaseyourhungerwithour breadquenchyourthirstwithour wine.”  Insolitudeoftheirsoulstheysaid thesethings;  Butweretheirsolitudedeeperthey wouldhaveknownthatIsoughtbutthe secretofyourjoyyourpain,  AndIhuntedonlyyourlargerselves thatwalksky.  *****  Buthunterwasalsohunted;  Formanyofmyarrowsleftmybowonly toseekmyownbreast.  Andflierwasalsocreeper;  Forwhenmywingswerespreadinthe suntheirshadowuponearthwasa turtle.  AndIbelieverwasalsodoubter; ForoftenhaveIputmyfinger inmyownwoundthatImighthavethe greaterbeliefinyougreater knowledgeofyou.  *****  Anditiswiththisbeliefthis knowledgethatIsay,  Youarenotenclosedwithinyourbodies, norconfinedtohousesorfields.  Thatwhichisyoudwellsabovethe mountainroveswithwind.  Itisnotthingthatcrawlsinto thesunforwarmthordigsholesinto darknessforsafety,  Butthingfree,spiritthatenvelops theearthmovesinether.  Ifthesebevaguewords,thenseeknot toclearthem.  Vaguenebulousisbeginningof allthings,butnottheirend,  AndIfainwouldhaveyouremembermeas abeginning.  Life,allthatlives,isconceived inmistnotincrystal. Andwhoknowsbutcrystalismist indecay?  *****  ThiswouldIhaveyourememberin rememberingme:  Thatwhichseemsmostfeebleand bewilderedinyouisstrongestand mostdetermined.  Isitnotyourbreaththathaserected andhardenedstructureofyour bones?  Andisitnotdreamwhichnoneofyou rememberhavingdreamt,thatbuilded yourcityfashionedallthereisin it?  Couldyoubutseetidesofthat breathyouwouldceasetoseeallelse,  Andifyoucouldhearwhisperingof thedreamyouwouldhearnoothersound.  Butyoudonotsee,nordoyouhear,and itiswell.  Theveilthatcloudsyoureyesshallbe liftedbyhandsthatwoveit,  Andclaythatfillsyourearsshall bepiercedbythosefingersthatkneaded it.Andyoushallsee.  Andyoushallhear.  Yetyoushallnotdeplorehavingknown blindness,norregrethavingbeendeaf.  Forinthatdayyoushallknowthe hiddenpurposesinallthings,  Andyoushallblessdarknessasyou wouldblesslight.  Aftersayingthesethingshelooked abouthim,hesawpilotofhis shipstandingbyhelmgazing nowatfullsailsnowatthe distance.  Andhesaid:  Patient,overpatient,iscaptainof myship.  Thewindblows,restlessarethe sails;  Evenrudderbegsdirection;  Yetquietlymycaptainawaitsmy silence.  Andthesemymariners,whohaveheard thechoirofgreatersea,theytoo haveheardmepatiently.Nowthey shallwaitnolonger.  Iamready.  Thestreamhasreachedsea,and oncemoregreatmotherholdsherson againstherbreast.  *****  Fareyouwell,peopleofOrphalese.  Thisdayhasended.  Itisclosinguponusevenasthe water-lilyuponitsowntomorrow.  Whatwasgivenushereweshallkeep,  Andifitsufficesnot,thenagainmust wecometogethertogetherstretch ourhandsuntogiver.  ForgetnotthatIshallcomebackto you.  Alittlewhile,mylongingshall gatherdustfoamforanotherbody.  Alittlewhile,momentofrestupon thewind,anotherwomanshallbear me.  FarewelltoyouyouthIhave spentwithyou.  Itwasbutyesterdaywemetina dream.Youhavesungtomeinmy aloneness,Iofyourlongingshave builttowerinsky.  Butnowoursleephasfledourdream isover,itisnolongerdawn.  Thenoontideisuponusourhalf wakinghasturnedtofullerday,we mustpart.  Ifintwilightofmemoryweshould meetoncemore,weshallspeakagain togetheryoushallsingtomea deepersong.  Andifourhandsshouldmeetinanother dreamweshallbuildanothertowerin thesky.  *****  Sosayinghemadesignaltothe seamen,straightwaytheyweighed anchorcastshiploosefromits moorings,theymovedeastward.  Andcrycamefrompeopleasfroma singleheart,itroseintodusk andwascarriedoutoversealikea greattrumpeting.  OnlyAlmitrawassilent,gazingafter theshipuntilithadvanishedinto themist.  Andwhenallpeopleweredispersed shestillstoodaloneuponsea-wall, rememberinginherhearthissaying,  “Alittlewhile,momentofrestupon thewind,anotherwomanshallbear me.”  [Illustration:0134]         EndofProjectGutenbergEBookofTheProphet,byKahlilGibran  ***ENDOFTHISPROJECTGUTENBERGEBOOKTHEPROPHET***  *****Thisfileshouldbenamed58585-0.txtor58585-0.zip***** Thisallassociatedfilesofvariousformatswillbefoundin: http://www.gutenberg.org/5/8/5/8/58585/  ProducedbyDavidWidgerfrompageimagesgenerously providedbyInternetArchive   Updatededitionswillreplacepreviousone--theoldeditionswill berenamed.  CreatingworksfromprinteditionsnotprotectedbyU.S.copyright lawmeansthatnooneownsUnitedStatescopyrightintheseworks, soFoundation(andyou!)cancopydistributeitinUnited Stateswithoutpermissionwithoutpayingcopyright royalties.Specialrules,setforthinGeneralTermsofUsepart ofthislicense,applytocopyingdistributingProject Gutenberg-tmelectronicworkstoprotectPROJECTGUTENBERG-tm concepttrademark.ProjectGutenbergisregisteredtrademark, andmaynotbeusedifyouchargeforeBooks,unlessyoureceive specificpermission.Ifyoudonotchargeanythingforcopiesofthis eBook,complyingwithrulesisveryeasy.YoumayusethiseBook fornearlyanypurposesuchascreationofderivativeworks,reports, performancesresearch.Theymaybemodifiedprintedgiven away--youmaydopracticallyANYTHINGinUnitedStateswitheBooks notprotectedbyU.S.copyrightlaw.Redistributionissubjecttothe trademarklicense,especiallycommercialredistribution.  START:FULLLICENSE  THEFULLPROJECTGUTENBERGLICENSE PLEASEREADTHISBEFOREYOUDISTRIBUTEORUSETHISWORK  ToprotectProjectGutenberg-tmmissionofpromotingfree distributionofelectronicworks,byusingordistributingthiswork (oranyotherworkassociatedinanywaywithphrase\"Project Gutenberg\"),youagreetocomplywithalltermsofFull ProjectGutenberg-tmLicenseavailablewiththisfileoronlineat www.gutenberg.org/license.  Section1.GeneralTermsofUseRedistributingProject Gutenberg-tmelectronicworks  1.A.ByreadingorusinganypartofthisProjectGutenberg-tm electronicwork,youindicatethatyouhaveread,understand,agreeto andacceptalltermsofthislicenseintellectualproperty (trademark/copyright)agreement.Ifyoudonotagreetoabidebyall thetermsofthisagreement,youmustceaseusingreturnor destroyallcopiesofProjectGutenberg-tmelectronicworksinyour possession.Ifyoupaidfeeforobtainingcopyoforaccesstoa ProjectGutenberg-tmelectronicworkyoudonotagreetobebound bytermsofthisagreement,youmayobtainrefundfromthe personorentitytowhomyoupaidfeeassetforthinparagraph 1.E.8.  1.B.\"ProjectGutenberg\"isregisteredtrademark.Itmayonlybe usedonorassociatedinanywaywithelectronicworkbypeoplewho agreetobeboundbytermsofthisagreement.Therearefew thingsthatyoucandowithmostProjectGutenberg-tmelectronicworks evenwithoutcomplyingwithfulltermsofthisagreement.See paragraph1.Cbelow.TherearelotofthingsyoucandowithProject Gutenberg-tmelectronicworksifyoufollowtermsofthis agreementhelppreservefreefutureaccesstoProjectGutenberg-tm electronicworks.Seeparagraph1.Ebelow.  1.C.TheProjectGutenbergLiteraryArchiveFoundation(\"the Foundation\"orPGLAF),ownscompilationcopyrightincollection ofProjectGutenberg-tmelectronicworks.Nearlyallindividual worksincollectionareinpublicdomaininUnited States.Ifindividualworkisunprotectedbycopyrightlawinthe UnitedStatesyouarelocatedinUnitedStates,wedonot claimrighttopreventyoufromcopying,distributing,performing, displayingorcreatingderivativeworksbasedonworkaslongas allreferencestoProjectGutenbergareremoved.Ofcourse,wehope thatyouwillsupportProjectGutenberg-tmmissionofpromoting freeaccesstoelectronicworksbyfreelysharingProjectGutenberg-tm worksincompliancewithtermsofthisagreementforkeepingthe ProjectGutenberg-tmnameassociatedwithwork.Youcaneasily complywithtermsofthisagreementbykeepingthisworkinthe sameformatwithitsattachedfullProjectGutenberg-tmLicensewhen youshareitwithoutchargewithothers.  1.D.Thecopyrightlawsofplacewhereyouarelocatedalsogovern whatyoucandowiththiswork.Copyrightlawsinmostcountriesare inconstantstateofchange.IfyouareoutsideUnitedStates, checklawsofyourcountryinadditiontotermsofthis agreementbeforedownloading,copying,displaying,performing, distributingorcreatingderivativeworksbasedonthisworkorany otherProjectGutenberg-tmwork.TheFoundationmakesno representationsconcerningcopyrightstatusofanyworkinany countryoutsideUnitedStates.  1.E.UnlessyouhaveremovedallreferencestoProjectGutenberg:  1.E.1.Thefollowingsentence,withactivelinksto,orother immediateaccessto,fullProjectGutenberg-tmLicensemustappear prominentlywheneveranycopyofProjectGutenberg-tmwork(anywork onwhichphrase\"ProjectGutenberg\"appears,orwithwhichthe phrase\"ProjectGutenberg\"isassociated)isaccessed,displayed, performed,viewed,copiedordistributed:  ThiseBookisforuseofanyoneanywhereinUnitedStatesand mostotherpartsofworldatnocostwithalmostno restrictionswhatsoever.Youmaycopyit,giveitawayorre-useit undertermsofProjectGutenbergLicenseincludedwiththis eBookoronlineatwww.gutenberg.org.Ifyouarenotlocatedinthe UnitedStates,you'llhavetochecklawsofcountrywhereyou arelocatedbeforeusingthisebook.  1.E.2.IfindividualProjectGutenberg-tmelectronicworkis derivedfromtextsnotprotectedbyU.S.copyrightlaw(doesnot containnoticeindicatingthatitispostedwithpermissionofthe copyrightholder),workcanbecopieddistributedtoanyonein theUnitedStateswithoutpayinganyfeesorcharges.Ifyouare redistributingorprovidingaccesstoworkwithphrase\"Project Gutenberg\"associatedwithorappearingonwork,youmustcomply eitherwithrequirementsofparagraphs1.E.1through1.E.7or obtainpermissionforuseofworkProjectGutenberg-tm trademarkassetforthinparagraphs1.E.8or1.E.9.  1.E.3.IfindividualProjectGutenberg-tmelectronicworkisposted withpermissionofcopyrightholder,yourusedistribution mustcomplywithbothparagraphs1.E.1through1.E.7any additionaltermsimposedbycopyrightholder.Additionalterms willbelinkedtoProjectGutenberg-tmLicenseforallworks postedwithpermissionofcopyrightholderfoundatthe beginningofthiswork.  1.E.4.DonotunlinkordetachorremovefullProjectGutenberg-tm Licensetermsfromthiswork,oranyfilescontainingpartofthis workoranyotherworkassociatedwithProjectGutenberg-tm.  1.E.5.Donotcopy,display,perform,distributeorredistributethis electronicwork,oranypartofthiselectronicwork,without prominentlydisplayingsentencesetforthinparagraph1.E.1with activelinksorimmediateaccesstofulltermsofProject Gutenberg-tmLicense.  1.E.6.Youmayconverttodistributethisworkinanybinary, compressed,markedup,nonproprietaryorproprietaryform,including anywordprocessingorhypertextform.However,ifyouprovideaccess toordistributecopiesofProjectGutenberg-tmworkinformat otherthan\"PlainVanillaASCII\"orotherformatusedinofficial versionpostedonofficialProjectGutenberg-tmwebsite (www.gutenberg.org),youmust,atnoadditionalcost,feeorexpense touser,providecopy,meansofexportingcopy,ormeans ofobtainingcopyuponrequest,ofworkinitsoriginal\"Plain VanillaASCII\"orotherform.Anyalternateformatmustincludethe fullProjectGutenberg-tmLicenseasspecifiedinparagraph1.E.1.  1.E.7.Donotchargefeeforaccessto,viewing,displaying, performing,copyingordistributinganyProjectGutenberg-tmworks unlessyoucomplywithparagraph1.E.8or1.E.9.  1.E.8.Youmaychargereasonablefeeforcopiesoforproviding accesstoordistributingProjectGutenberg-tmelectronicworks providedthat  *Youpayroyaltyfeeof20%ofgrossprofitsyouderivefrom useofProjectGutenberg-tmworkscalculatedusingmethod youalreadyusetocalculateyourapplicabletaxes.Thefeeisowed toownerofProjectGutenberg-tmtrademark,buthehas agreedtodonateroyaltiesunderthisparagraphtoProject GutenbergLiteraryArchiveFoundation.Royaltypaymentsmustbepaid within60daysfollowingeachdateonwhichyouprepare(orare legallyrequiredtoprepare)yourperiodictaxreturns.Royalty paymentsshouldbeclearlymarkedassuchsenttoProject GutenbergLiteraryArchiveFoundationataddressspecifiedin Section4,\"InformationaboutdonationstoProjectGutenberg LiteraryArchiveFoundation.\"  *Youprovidefullrefundofanymoneypaidbyuserwhonotifies youinwriting(orbye-mail)within30daysofreceiptthats/he doesnotagreetotermsoffullProjectGutenberg-tm License.Youmustrequiresuchusertoreturnordestroyall copiesofworkspossessedinphysicalmediumdiscontinue alluseofallaccesstoothercopiesofProjectGutenberg-tm works.  *Youprovide,inaccordancewithparagraph1.F.3,fullrefundof anymoneypaidforworkorreplacementcopy,ifdefectinthe electronicworkisdiscoveredreportedtoyouwithin90daysof receiptofwork.  *Youcomplywithallothertermsofthisagreementforfree distributionofProjectGutenberg-tmworks.  1.E.9.IfyouwishtochargefeeordistributeProject Gutenberg-tmelectronicworkorgroupofworksondifferenttermsthan aresetforthinthisagreement,youmustobtainpermissioninwriting frombothProjectGutenbergLiteraryArchiveFoundationThe ProjectGutenbergTrademarkLLC,ownerofProjectGutenberg-tm trademark.ContactFoundationassetforthinSection3below.  1.F.  1.F.1.ProjectGutenbergvolunteersemployeesexpendconsiderable efforttoidentify,docopyrightresearchon,transcribeproofread worksnotprotectedbyU.S.copyrightlawincreatingProject Gutenberg-tmcollection.Despitetheseefforts,ProjectGutenberg-tm electronicworks,mediumonwhichtheymaybestored,may contain\"Defects,\"suchas,butnotlimitedto,incomplete,inaccurate orcorruptdata,transcriptionerrors,copyrightorother intellectualpropertyinfringement,defectiveordamageddiskor othermedium,computervirus,orcomputercodesthatdamageor cannotbereadbyyourequipment.  1.F.2.LIMITEDWARRANTY,DISCLAIMEROFDAMAGES-Exceptfor\"Right ofReplacementorRefund\"describedinparagraph1.F.3,Project GutenbergLiteraryArchiveFoundation,ownerofProject Gutenberg-tmtrademark,anyotherpartydistributingProject Gutenberg-tmelectronicworkunderthisagreement,disclaimall liabilitytoyoufordamages,costsexpenses,includinglegal fees.YOUAGREETHATYOUHAVENOREMEDIESFORNEGLIGENCE,STRICT LIABILITY,BREACHOFWARRANTYORBREACHOFCONTRACTEXCEPTTHOSE PROVIDEDINPARAGRAPH1.F.3.YOUAGREETHATTHEFOUNDATION,THE TRADEMARKOWNER,ANDANYDISTRIBUTORUNDERTHISAGREEMENTWILLNOTBE LIABLETOYOUFORACTUAL,DIRECT,INDIRECT,CONSEQUENTIAL,PUNITIVEOR INCIDENTALDAMAGESEVENIFYOUGIVENOTICEOFTHEPOSSIBILITYOFSUCH DAMAGE.  1.F.3.LIMITEDRIGHTOFREPLACEMENTORREFUND-Ifyoudiscovera defectinthiselectronicworkwithin90daysofreceivingit,youcan receiverefundofmoney(ifany)youpaidforitbysendinga writtenexplanationtopersonyoureceivedworkfrom.Ifyou receivedworkonphysicalmedium,youmustreturnmedium withyourwrittenexplanation.Thepersonorentitythatprovidedyou withdefectiveworkmayelecttoprovidereplacementcopyin lieuofrefund.Ifyoureceivedworkelectronically,person orentityprovidingittoyoumaychoosetogiveyousecond opportunitytoreceiveworkelectronicallyinlieuofrefund.If thesecondcopyisalsodefective,youmaydemandrefundinwriting withoutfurtheropportunitiestofixproblem.  1.F.4.Exceptforlimitedrightofreplacementorrefundsetforth inparagraph1.F.3,thisworkisprovidedtoyou'AS-IS',WITHNO OTHERWARRANTIESOFANYKIND,EXPRESSORIMPLIED,INCLUDINGBUTNOT LIMITEDTOWARRANTIESOFMERCHANTABILITYORFITNESSFORANYPURPOSE.  1.F.5.Somestatesdonotallowdisclaimersofcertainimplied warrantiesorexclusionorlimitationofcertaintypesof damages.Ifanydisclaimerorlimitationsetforthinthisagreement violateslawofstateapplicabletothisagreement,the agreementshallbeinterpretedtomakemaximumdisclaimeror limitationpermittedbyapplicablestatelaw.Theinvalidityor unenforceabilityofanyprovisionofthisagreementshallnotvoidthe remainingprovisions.  1.F.6.INDEMNITY-YouagreetoindemnifyholdFoundation,the trademarkowner,anyagentoremployeeofFoundation,anyone providingcopiesofProjectGutenberg-tmelectronicworksin accordancewiththisagreement,anyvolunteersassociatedwiththe production,promotiondistributionofProjectGutenberg-tm electronicworks,harmlessfromallliability,costsexpenses, includinglegalfees,thatarisedirectlyorindirectlyfromanyof thefollowingwhichyoudoorcausetooccur:(a)distributionofthis oranyProjectGutenberg-tmwork,(b)alteration,modification,or additionsordeletionstoanyProjectGutenberg-tmwork,(c)any Defectyoucause.  Section2.InformationaboutMissionofProjectGutenberg-tm  ProjectGutenberg-tmissynonymouswithfreedistributionof electronicworksinformatsreadablebywidestvarietyof computersincludingobsolete,old,middle-agednewcomputers.It existsbecauseofeffortsofhundredsofvolunteersdonations frompeopleinallwalksoflife.  Volunteersfinancialsupporttoprovidevolunteerswiththe assistancetheyneedarecriticaltoreachingProjectGutenberg-tm's goalsensuringthatProjectGutenberg-tmcollectionwill remainfreelyavailableforgenerationstocome.In2001,Project GutenbergLiteraryArchiveFoundationwascreatedtoprovidesecure andpermanentfutureforProjectGutenberg-tmfuture generations.TolearnmoreaboutProjectGutenbergLiterary ArchiveFoundationhowyoureffortsdonationscanhelp,see Sections34Foundationinformationpageat www.gutenberg.orgSection3.InformationaboutProjectGutenberg LiteraryArchiveFoundation  TheProjectGutenbergLiteraryArchiveFoundationisnonprofit 501(c)(3)educationalcorporationorganizedunderlawsofthe stateofMississippigrantedtaxexemptstatusbyInternal RevenueService.TheFoundation'sEINorfederaltaxidentification numberis64-6221541.ContributionstoProjectGutenbergLiterary ArchiveFoundationaretaxdeductibletofullextentpermittedby U.S.federallawsyourstate'slaws.  TheFoundation'sprincipalofficeisinFairbanks,Alaska,withthe mailingaddress:POBox750175,Fairbanks,AK99775,butits volunteersemployeesarescatteredthroughoutnumerous locations.Itsbusinessofficeislocatedat809North1500West,Salt LakeCity,UT84116,(801)596-1887.Emailcontactlinksupto datecontactinformationcanbefoundatFoundation'swebsiteand officialpageatwww.gutenberg.org/contact  Foradditionalcontactinformation:  Dr.GregoryB.Newby ChiefExecutiveDirector gbnewby@pglaf.org  Section4.InformationaboutDonationstoProjectGutenberg LiteraryArchiveFoundation  ProjectGutenberg-tmdependsuponcannotsurvivewithoutwide spreadpublicsupportdonationstocarryoutitsmissionof increasingnumberofpublicdomainlicensedworksthatcanbe freelydistributedinmachinereadableformaccessiblebywidest arrayofequipmentincludingoutdatedequipment.Manysmalldonations ($1to$5,000)areparticularlyimportanttomaintainingtaxexempt statuswithIRS.  TheFoundationiscommittedtocomplyingwithlawsregulating charitiescharitabledonationsinall50statesofUnited States.Compliancerequirementsarenotuniformittakesa considerableeffort,muchpaperworkmanyfeestomeetkeepup withtheserequirements.Wedonotsolicitdonationsinlocations wherewehavenotreceivedwrittenconfirmationofcompliance.ToSEND DONATIONSordeterminestatusofcomplianceforanyparticular statevisitwww.gutenberg.org/donate  Whilewecannotdonotsolicitcontributionsfromstateswherewe havenotmetsolicitationrequirements,weknowofnoprohibition againstacceptingunsoliciteddonationsfromdonorsinsuchstateswho approachuswithofferstodonate.  Internationaldonationsaregratefullyaccepted,butwecannotmake anystatementsconcerningtaxtreatmentofdonationsreceivedfrom outsideUnitedStates.U.S.lawsaloneswampoursmallstaff.  PleasecheckProjectGutenbergWebpagesforcurrentdonation methodsaddresses.Donationsareacceptedinnumberofother waysincludingchecks,onlinepaymentscreditcarddonations.To donate,pleasevisit:www.gutenberg.org/donate  Section5.GeneralInformationAboutProjectGutenberg-tmelectronicworks.  ProfessorMichaelS.HartwasoriginatorofProject Gutenberg-tmconceptoflibraryofelectronicworksthatcouldbe freelysharedwithanyone.Forfortyyears,heproducedand distributedProjectGutenberg-tmeBookswithonlyloosenetworkof volunteersupport.  ProjectGutenberg-tmeBooksareoftencreatedfromseveralprinted editions,allofwhichareconfirmedasnotprotectedbycopyrightin theU.S.unlesscopyrightnoticeisincluded.Thus,wedonot necessarilykeepeBooksincompliancewithanyparticularpaper edition.  MostpeoplestartatourWebsitewhichhasmainPGsearch facility:www.gutenberg.org  ThisWebsiteincludesinformationaboutProjectGutenberg-tm, includinghowtomakedonationstoProjectGutenbergLiterary ArchiveFoundation,howtohelpproduceourneweBooks,howto subscribetoouremailnewslettertohearaboutneweBooks.  \n"
     ]
    }
   ],
   "source": [
    "# Your code here:\n",
    "\n",
    "prophet_string= (reduce(concat_space,prophet_filter))\n",
    "\n",
    "print(prophet_string)"
   ]
  },
  {
   "cell_type": "markdown",
   "metadata": {},
   "source": [
    "# Challenge 4 - Applying Functions to DataFrames\n",
    "\n",
    "#### Our next step is to use the apply function to a dataframe and transform all cells.\n",
    "\n",
    "To do this, we will load a dataset below and then write a function that will perform the transformation."
   ]
  },
  {
   "cell_type": "code",
   "execution_count": 75,
   "metadata": {},
   "outputs": [],
   "source": [
    "# Run this code:\n",
    "\n",
    "# The dataset below contains information about pollution from PM2.5 particles in Beijing \n",
    "\n",
    "url = \"https://archive.ics.uci.edu/ml/machine-learning-databases/00381/PRSA_data_2010.1.1-2014.12.31.csv\"\n",
    "pm25 = pd.read_csv(url)"
   ]
  },
  {
   "cell_type": "markdown",
   "metadata": {},
   "source": [
    "Let's look at the data using the `head()` function."
   ]
  },
  {
   "cell_type": "code",
   "execution_count": 76,
   "metadata": {},
   "outputs": [
    {
     "name": "stdout",
     "output_type": "stream",
     "text": [
      "   No  year  month  day  hour  pm2.5  DEWP  TEMP    PRES cbwd    Iws  Is  Ir\n",
      "0   1  2010      1    1     0    NaN   -21 -11.0  1021.0   NW   1.79   0   0\n",
      "1   2  2010      1    1     1    NaN   -21 -12.0  1020.0   NW   4.92   0   0\n",
      "2   3  2010      1    1     2    NaN   -21 -11.0  1019.0   NW   6.71   0   0\n",
      "3   4  2010      1    1     3    NaN   -21 -14.0  1019.0   NW   9.84   0   0\n",
      "4   5  2010      1    1     4    NaN   -20 -12.0  1018.0   NW  12.97   0   0\n"
     ]
    }
   ],
   "source": [
    "# Your code here:\n",
    "\n",
    "data = pd.read_csv(url)\n",
    "datatop = data.head()\n",
    "print(datatop)"
   ]
  },
  {
   "cell_type": "markdown",
   "metadata": {},
   "source": [
    "The next step is to create a function that divides a cell by 24 to produce an hourly figure. Write the function below."
   ]
  },
  {
   "cell_type": "code",
   "execution_count": 105,
   "metadata": {},
   "outputs": [],
   "source": [
    "def hourly(x,y):\n",
    "    try:\n",
    "        return datatop.values[x][y]/24\n",
    "    except:\n",
    "        print('type new coordinates')"
   ]
  },
  {
   "cell_type": "markdown",
   "metadata": {},
   "source": [
    "Apply this function to the columns `Iws`, `Is`, and `Ir`. Store this new dataframe in the variable `pm25_hourly`."
   ]
  },
  {
   "cell_type": "code",
   "execution_count": 108,
   "metadata": {},
   "outputs": [
    {
     "name": "stdout",
     "output_type": "stream",
     "text": [
      "[[0.07458333 0.         0.        ]\n",
      " [0.205      0.         0.        ]\n",
      " [0.27958333 0.         0.        ]\n",
      " [0.41       0.         0.        ]\n",
      " [0.54041667 0.         0.        ]]\n"
     ]
    }
   ],
   "source": [
    "# Your code here:\n",
    "columnas = range(10,13)\n",
    "pm25_hourly = datatop.iloc[:,columnas].values/24\n",
    "\n",
    "print(pm25_hourly)\n",
    "\n"
   ]
  },
  {
   "cell_type": "markdown",
   "metadata": {},
   "source": [
    "#### Our last challenge will be to create an aggregate function and apply it to a select group of columns in our dataframe.\n",
    "\n",
    "Write a function that returns the standard deviation of a column divided by the length of a column minus 1. Since we are using pandas, do not use the `len()` function. One alternative is to use `count()`. Also, use the numpy version of standard deviation."
   ]
  },
  {
   "cell_type": "code",
   "execution_count": 112,
   "metadata": {},
   "outputs": [
    {
     "data": {
      "text/plain": [
       "4.328929428854206"
      ]
     },
     "execution_count": 112,
     "metadata": {},
     "output_type": "execute_result"
    }
   ],
   "source": [
    "def sample_sd(x):\n",
    "    return datatop.loc[:,x].std()\n",
    "\n",
    "sample_sd('Iws')\n",
    "    "
   ]
  },
  {
   "cell_type": "code",
   "execution_count": null,
   "metadata": {},
   "outputs": [],
   "source": []
  }
 ],
 "metadata": {
  "kernelspec": {
   "display_name": "Python 3",
   "language": "python",
   "name": "python3"
  },
  "language_info": {
   "codemirror_mode": {
    "name": "ipython",
    "version": 3
   },
   "file_extension": ".py",
   "mimetype": "text/x-python",
   "name": "python",
   "nbconvert_exporter": "python",
   "pygments_lexer": "ipython3",
   "version": "3.7.4"
  }
 },
 "nbformat": 4,
 "nbformat_minor": 2
}
