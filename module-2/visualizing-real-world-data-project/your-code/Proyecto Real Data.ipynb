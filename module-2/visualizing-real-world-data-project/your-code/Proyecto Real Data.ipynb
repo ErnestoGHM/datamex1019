{
 "cells": [
  {
   "cell_type": "code",
   "execution_count": null,
   "metadata": {},
   "outputs": [],
   "source": [
    "import pymongo\n",
    "import pandas as pd\n",
    "import numpy as np\n",
    "import folium\n",
    "import requests\n",
    "from bs4 import BeautifulSoup as bs\n",
    "from pandas.io.json import json_normalize\n",
    "from pymongo import MongoClient\n",
    "import re\n",
    "import textract\n",
    "import matplotlib.pyplot as plt\n",
    "client=MongoClient()\n",
    "db=client.DB"
   ]
  },
  {
   "cell_type": "code",
   "execution_count": null,
   "metadata": {},
   "outputs": [],
   "source": [
    "urljll = 'https://www.us.jll.com/en/research/cities-research/innovation-geographies'\n",
    "urlnumbeo = 'https://www.numbeo.com/cost-of-living/rankings.jsp'"
   ]
  },
  {
   "cell_type": "code",
   "execution_count": null,
   "metadata": {},
   "outputs": [],
   "source": [
    "htmlinta = requests.get(urljll).content\n",
    "soupinta = bs(htmlinta,'html.parser')\n",
    "jllcity = [c for c in soupinta.find_all('ul',{'class':'list-cities'})]\n",
    "most_innovative_city = jllcity[0].text.strip().split('\\n')\n",
    "most_talented_city = jllcity[1].text.strip().split('\\n')\n",
    "innovation_city = []\n",
    "for y in most_innovative_city:\n",
    "    t = [i for j in re.findall('([A-Z][a-z]+ ?[A-Z][a-z]+)|([A-Z][a-z]+)',y) for i in j if i != '']\n",
    "    innovation_city.append(t[0])\n",
    "talent_city = []\n",
    "for y in most_talented_city:\n",
    "    t = [i for j in re.findall('([A-Z][a-z]+ ?[A-Z][a-z]+)|([A-Z][a-z]+)',y) for i in j if i != '']\n",
    "    talent_city.append(t[0])"
   ]
  },
  {
   "cell_type": "code",
   "execution_count": null,
   "metadata": {},
   "outputs": [],
   "source": [
    "htmlcost = requests.get(urlnumbeo).content\n",
    "soupcost = bs(htmlcost,'html.parser')\n",
    "citycostname = [e.text.split(',')[0] for e in soupcost.find_all('td',{'class':'cityOrCountryInIndicesTable'})]\n",
    "citycostindexes = [e.text for e in soupcost.find_all('td',{'style':'text-align: right'})]\n",
    "citycostindex = []\n",
    "counter = 0\n",
    "for i in range(len(citycostindexes)):\n",
    "    try:\n",
    "        citycostindex.append(float(citycostindexes[counter]))\n",
    "        counter += 6\n",
    "    except:\n",
    "        break\n",
    "citycost = dict(zip(citycostname,citycostindex))"
   ]
  },
  {
   "cell_type": "code",
   "execution_count": null,
   "metadata": {},
   "outputs": [],
   "source": [
    "cities_research = set(innovation_city+talent_city)"
   ]
  },
  {
   "cell_type": "code",
   "execution_count": null,
   "metadata": {},
   "outputs": [],
   "source": [
    "indexpais = pd.DataFrame(cities_research)\n",
    "indexpais.columns = ['ciudad']"
   ]
  },
  {
   "cell_type": "code",
   "execution_count": null,
   "metadata": {},
   "outputs": [],
   "source": [
    "dicic = {r:s+1 for r,s in zip(innovation_city,range(len(innovation_city)))}"
   ]
  },
  {
   "cell_type": "code",
   "execution_count": null,
   "metadata": {},
   "outputs": [],
   "source": [
    "dictc = {r:s+1 for r,s in zip(talent_city,range(len(talent_city)))}"
   ]
  },
  {
   "cell_type": "code",
   "execution_count": null,
   "metadata": {},
   "outputs": [],
   "source": [
    "diccc =  {'Austin':{'latitude':30.267153,'longitude':-97.743057},\n",
    "          'Berlin':{'latitude':52.520008,'longitude':13.404954},\n",
    "          'Boston':{'latitude':42.360081,'longitude':-71.058884},\n",
    "          'Paris':{'latitude':48.856613,'longitude':2.352222},\n",
    "          'Shenzhen':{'latitude':22.543097,'longitude':114.057861},\n",
    "          'San Jose':{'latitude':37.338207,'longitude':-121.886330},\n",
    "          'Munich':{'latitude':48.135124,'longitude':11.581981},\n",
    "          'Helsinki':{'latitude':60.169857,'longitude':24.938379},\n",
    "          'Singapore':{'latitude':1.352083,'longitude':103.819839},\n",
    "          'Zurich':{'latitude':47.376888,'longitude':8.541694},\n",
    "          'Toronto':{'latitude':43.653225,'longitude':-79.383186},\n",
    "          'Amsterdam':{'latitude':52.370216,'longitude':4.895168},\n",
    "          'Edinburgh':{'latitude':55.953251,'longitude':-3.188267},\n",
    "          'Los Angeles':{'latitude':34.052235,'longitude':-118.243683},\n",
    "          'Shanghai':{'latitude':31.230391,'longitude':121.473701},\n",
    "          'Sydney':{'latitude':-33.868820,'longitude':151.209290},\n",
    "          'New York':{'latitude':40.712776,'longitude':-74.005974},\n",
    "          'Stockholm':{'latitude':59.329323,'longitude':18.068581},\n",
    "          'London':{'latitude':51.507351,'longitude':-0.127758},\n",
    "          'Denver':{'latitude':39.739235,'longitude':-104.990250},\n",
    "          'Melbourne':{'latitude':-37.813629,'longitude':144.963058},\n",
    "          'Tokyo':{'latitude':35.689487,'longitude':139.691711},\n",
    "          'San Francisco':{'latitude':37.774929,'longitude':-122.419418},\n",
    "          'Seattle':{'latitude':47.606209,'longitude':-122.332069},\n",
    "          'Oslo':{'latitude':59.913868,'longitude':10.752245},\n",
    "          'Beijing':{'latitude':39.904202,'longitude':116.407394},\n",
    "          'Seoul':{'latitude':37.5665,'longitude':126.9780},\n",
    "          'Washington':{'latitude':38.9072,'longitude':-77.0369}}"
   ]
  },
  {
   "cell_type": "code",
   "execution_count": null,
   "metadata": {},
   "outputs": [],
   "source": [
    "incity = []\n",
    "for t in indexpais.ciudad:\n",
    "    if t in dicic:\n",
    "        incity.append(dicic[t])\n",
    "    else:\n",
    "        incity.append(0)\n",
    "\n",
    "talcity = []\n",
    "for t in indexpais.ciudad:\n",
    "    if t in dictc:\n",
    "        talcity.append(dictc[t])\n",
    "    else:\n",
    "        talcity.append(0)\n",
    "        \n",
    "coordcity = []\n",
    "for t in indexpais.ciudad:\n",
    "    if t in diccc:\n",
    "        coordcity.append(diccc[t])\n",
    "    else:\n",
    "        coordcity.append(0)\n",
    "        \n",
    "costcity = []\n",
    "for t in indexpais.ciudad:\n",
    "    if t in citycost:\n",
    "        costcity.append(citycost[t])\n",
    "    else:\n",
    "        costcity.append(0)        \n",
    "        \n",
    "indexpais['rank_innov'] = incity\n",
    "indexpais['rank_talento'] = talcity\n",
    "indexpais['rank_costo'] = costcity\n",
    "indexpais['coordenadas'] = coordcity"
   ]
  },
  {
   "cell_type": "code",
   "execution_count": null,
   "metadata": {},
   "outputs": [],
   "source": [
    "indexpais = indexpais.assign(integral=np.where(indexpais.rank_innov>0,25-indexpais.rank_innov*(15)/19,0)+\n",
    "                          np.where(indexpais.rank_talento>0,25-indexpais.rank_talento*(15)/19,0)+\n",
    "                          (2134.5/indexpais.rank_costo))"
   ]
  },
  {
   "cell_type": "code",
   "execution_count": null,
   "metadata": {},
   "outputs": [],
   "source": [
    "indexpais.set_index('ciudad',inplace=True)"
   ]
  },
  {
   "cell_type": "code",
   "execution_count": null,
   "metadata": {},
   "outputs": [],
   "source": [
    "indexpais.sort_values('integral',ascending=False)"
   ]
  },
  {
   "cell_type": "code",
   "execution_count": null,
   "metadata": {},
   "outputs": [],
   "source": [
    "z = db.db.find({'number_of_employees':{'$lte':1000},'founded_year':{'$gte':2000},'ipo':None, 'offices.0.city':{'$exists': True },'offices.0.latitude':{'$exists': True }},{'_id':0,'name':1,'category_code':1,'number_of_employees':1,'offices':1})\n",
    "zz = pd.DataFrame(z)\n",
    "zz = zz.assign(city=zz.offices)\n",
    "zz.city = zz.city.apply(lambda x : x[0]['city'])"
   ]
  },
  {
   "cell_type": "code",
   "execution_count": null,
   "metadata": {},
   "outputs": [],
   "source": [
    "def get_first(data):\n",
    "    res=[]\n",
    "    ofi=[]\n",
    "    data=data['offices']\n",
    "    for e in data:\n",
    "        principal=None   # solo las tienen geodata\n",
    "        if e[0]['latitude'] and e[0]['longitude']:\n",
    "            principal={'type':'Point',\n",
    "                       'coordinates':[\n",
    "                           e[0]['longitude'],\n",
    "                           e[0]['latitude']\n",
    "                       ]}\n",
    "            \n",
    "        ofi.append(principal)\n",
    "        \n",
    "        res.append({\n",
    "            'total_offices':len(e),\n",
    "            'lat':e[0]['latitude'],\n",
    "            'lng':e[0]['longitude'],\n",
    "            'oficina_principal':principal\n",
    "        })\n",
    "    \n",
    "    return ofi"
   ]
  },
  {
   "cell_type": "code",
   "execution_count": null,
   "metadata": {},
   "outputs": [],
   "source": [
    "zz = zz.assign(geo=get_first(zz))"
   ]
  },
  {
   "cell_type": "code",
   "execution_count": null,
   "metadata": {},
   "outputs": [],
   "source": [
    "zz = zz.assign(lat = zz.offices.apply(lambda x : x[0]['latitude']))"
   ]
  },
  {
   "cell_type": "code",
   "execution_count": null,
   "metadata": {},
   "outputs": [],
   "source": [
    "zz = zz.assign(long = zz.offices.apply(lambda x : x[0]['longitude']))"
   ]
  },
  {
   "cell_type": "code",
   "execution_count": null,
   "metadata": {},
   "outputs": [],
   "source": [
    "zz"
   ]
  },
  {
   "cell_type": "code",
   "execution_count": null,
   "metadata": {},
   "outputs": [],
   "source": [
    "choice_ciudad = input()"
   ]
  },
  {
   "cell_type": "code",
   "execution_count": null,
   "metadata": {},
   "outputs": [],
   "source": [
    "mapa=folium.Map(location=[indexpais.loc[choice_ciudad].coordenadas['latitude'],indexpais.loc[choice_ciudad].coordenadas['longitude']], tiles='stamentoner', zoom_start=12)\n",
    "folium.CircleMarker([indexpais.loc[choice_ciudad].coordenadas['latitude'], indexpais.loc[choice_ciudad].coordenadas['longitude']], radius=10, icon=folium.Icon()).add_to(mapa)"
   ]
  },
  {
   "cell_type": "code",
   "execution_count": null,
   "metadata": {},
   "outputs": [],
   "source": [
    "startupfilter = zz[zz.city==choice_ciudad]\n",
    "startupfilter"
   ]
  },
  {
   "cell_type": "code",
   "execution_count": null,
   "metadata": {},
   "outputs": [],
   "source": [
    "for i in range(len(startupfilter.lat)):\n",
    "    try:\n",
    "        folium.Marker([startupfilter.lat.iloc[i],startupfilter.long.iloc[i]],popup = startupfilter.name.iloc[i],tooltip='haz click aqui').add_to(mapa)\n",
    "    except:\n",
    "        pass\n",
    "mapa"
   ]
  },
  {
   "cell_type": "code",
   "execution_count": null,
   "metadata": {},
   "outputs": [],
   "source": [
    "db.startupfilter.create_index([('geo', '2dsphere')])"
   ]
  },
  {
   "cell_type": "code",
   "execution_count": null,
   "metadata": {},
   "outputs": [],
   "source": [
    "def find_near(geopoint, radio=100):\n",
    "    return db.startupfilter.find({\n",
    "        'geo':{'$near':{'$geometry':geopoint,'$maxDistance':radio} \n",
    "        }\n",
    "    }\n",
    "    )"
   ]
  },
  {
   "cell_type": "code",
   "execution_count": null,
   "metadata": {},
   "outputs": [],
   "source": [
    "refcity={'type':'Point', 'coordinates':[indexpais.loc[choice_ciudad].coordenadas['latitude'],\n",
    "                                        indexpais.loc[choice_ciudad].coordenadas['longitude']]}\n",
    "radio = 100"
   ]
  },
  {
   "cell_type": "code",
   "execution_count": null,
   "metadata": {},
   "outputs": [],
   "source": [
    "refcity"
   ]
  },
  {
   "cell_type": "code",
   "execution_count": null,
   "metadata": {},
   "outputs": [],
   "source": [
    "n_ofi=find_near(refcity, radio).count()\n",
    "\n",
    "print ('Hay {} oficinas a {} metros'.format(n_ofi, radio))\n",
    "print ('La mas cercana es {}'.format(list(find_near(refcity, radio).limit(1))[0]['name']))"
   ]
  },
  {
   "cell_type": "code",
   "execution_count": null,
   "metadata": {},
   "outputs": [],
   "source": []
  }
 ],
 "metadata": {
  "kernelspec": {
   "display_name": "Python 3",
   "language": "python",
   "name": "python3"
  },
  "language_info": {
   "codemirror_mode": {
    "name": "ipython",
    "version": 3
   },
   "file_extension": ".py",
   "mimetype": "text/x-python",
   "name": "python",
   "nbconvert_exporter": "python",
   "pygments_lexer": "ipython3",
   "version": "3.7.4"
  }
 },
 "nbformat": 4,
 "nbformat_minor": 2
}
