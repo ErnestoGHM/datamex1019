{
 "cells": [
  {
   "cell_type": "code",
   "execution_count": 28,
   "metadata": {},
   "outputs": [
    {
     "ename": "SyntaxError",
     "evalue": "can't assign to function call (<ipython-input-28-58f0710b0e12>, line 7)",
     "output_type": "error",
     "traceback": [
      "\u001b[0;36m  File \u001b[0;32m\"<ipython-input-28-58f0710b0e12>\"\u001b[0;36m, line \u001b[0;32m7\u001b[0m\n\u001b[0;31m    w[i].copy() = w[i].upper()\u001b[0m\n\u001b[0m    ^\u001b[0m\n\u001b[0;31mSyntaxError\u001b[0m\u001b[0;31m:\u001b[0m can't assign to function call\n"
     ]
    }
   ],
   "source": [
    "def wave(str):\n",
    "    import numpy as np\n",
    "    w = list(str)\n",
    "    print(w)\n",
    "    ola = []\n",
    "    for i in range(len(w)):\n",
    "        w[i] = w[i].upper()\n",
    "        print(w[i])\n",
    "        print(w)\n",
    "        ola.append(w)\n",
    "    \n",
    "    return ola"
   ]
  },
  {
   "cell_type": "code",
   "execution_count": 27,
   "metadata": {},
   "outputs": [
    {
     "name": "stdout",
     "output_type": "stream",
     "text": [
      "['h', 'e', 'l', 'l', 'o']\n",
      "H\n",
      "['H', 'e', 'l', 'l', 'o']\n",
      "E\n",
      "['H', 'E', 'l', 'l', 'o']\n",
      "L\n",
      "['H', 'E', 'L', 'l', 'o']\n",
      "L\n",
      "['H', 'E', 'L', 'L', 'o']\n",
      "O\n",
      "['H', 'E', 'L', 'L', 'O']\n"
     ]
    },
    {
     "data": {
      "text/plain": [
       "[['H', 'E', 'L', 'L', 'O'],\n",
       " ['H', 'E', 'L', 'L', 'O'],\n",
       " ['H', 'E', 'L', 'L', 'O'],\n",
       " ['H', 'E', 'L', 'L', 'O'],\n",
       " ['H', 'E', 'L', 'L', 'O']]"
      ]
     },
     "execution_count": 27,
     "metadata": {},
     "output_type": "execute_result"
    }
   ],
   "source": [
    "wave('hello')"
   ]
  },
  {
   "cell_type": "code",
   "execution_count": 41,
   "metadata": {},
   "outputs": [],
   "source": [
    "x = 'hello'"
   ]
  },
  {
   "cell_type": "code",
   "execution_count": 42,
   "metadata": {},
   "outputs": [],
   "source": [
    "import numpy as np"
   ]
  },
  {
   "cell_type": "code",
   "execution_count": 44,
   "metadata": {},
   "outputs": [
    {
     "data": {
      "text/plain": [
       "['h', 'e', 'l', 'l', 'o']"
      ]
     },
     "execution_count": 44,
     "metadata": {},
     "output_type": "execute_result"
    }
   ],
   "source": [
    "y = list(x)\n",
    "y"
   ]
  },
  {
   "cell_type": "code",
   "execution_count": 49,
   "metadata": {},
   "outputs": [
    {
     "data": {
      "text/plain": [
       "[['h', 'e', 'l', 'l', 'o'],\n",
       " ['h', 'e', 'l', 'l', 'o'],\n",
       " ['h', 'e', 'l', 'l', 'o'],\n",
       " ['h', 'e', 'l', 'l', 'o'],\n",
       " ['h', 'e', 'l', 'l', 'o']]"
      ]
     },
     "execution_count": 49,
     "metadata": {},
     "output_type": "execute_result"
    }
   ],
   "source": [
    "z = []\n",
    "for e in range(len(y)):\n",
    "    z.append(y)\n",
    "z"
   ]
  },
  {
   "cell_type": "code",
   "execution_count": 51,
   "metadata": {},
   "outputs": [
    {
     "data": {
      "text/plain": [
       "array([['h', 'e', 'l', 'l', 'o'],\n",
       "       ['h', 'e', 'l', 'l', 'o'],\n",
       "       ['h', 'e', 'l', 'l', 'o'],\n",
       "       ['h', 'e', 'l', 'l', 'o'],\n",
       "       ['h', 'e', 'l', 'l', 'o']], dtype='<U1')"
      ]
     },
     "execution_count": 51,
     "metadata": {},
     "output_type": "execute_result"
    }
   ],
   "source": [
    "m = np.array(z)\n",
    "m"
   ]
  },
  {
   "cell_type": "code",
   "execution_count": 67,
   "metadata": {},
   "outputs": [],
   "source": [
    "for i in range(len(m)):\n",
    "    m[i][i]= m[i][i].upper()\n",
    "\n",
    "b = []"
   ]
  },
  {
   "cell_type": "code",
   "execution_count": 68,
   "metadata": {},
   "outputs": [
    {
     "data": {
      "text/plain": [
       "['o', 'o', 'o', 'o', 'o']"
      ]
     },
     "execution_count": 68,
     "metadata": {},
     "output_type": "execute_result"
    }
   ],
   "source": [
    "for r in range(len(m[0])):\n",
    "    c = ''\n",
    "    c += m[0][i]\n",
    "    b.append(c)\n",
    "\n",
    "b\n"
   ]
  },
  {
   "cell_type": "code",
   "execution_count": null,
   "metadata": {},
   "outputs": [],
   "source": []
  }
 ],
 "metadata": {
  "kernelspec": {
   "display_name": "Python 3",
   "language": "python",
   "name": "python3"
  },
  "language_info": {
   "codemirror_mode": {
    "name": "ipython",
    "version": 3
   },
   "file_extension": ".py",
   "mimetype": "text/x-python",
   "name": "python",
   "nbconvert_exporter": "python",
   "pygments_lexer": "ipython3",
   "version": "3.7.4"
  }
 },
 "nbformat": 4,
 "nbformat_minor": 2
}
