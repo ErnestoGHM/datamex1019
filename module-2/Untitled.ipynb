{
 "cells": [
  {
   "cell_type": "code",
   "execution_count": 34,
   "metadata": {},
   "outputs": [],
   "source": [
    "def alphabet_war(fight):\n",
    "    l = {'w':4,'p':3,'b':2,'s':1}\n",
    "    r = {'m':4,'q':3,'d':2,'z':1}\n",
    "    lp = []\n",
    "    rp = []\n",
    "    for y in fight:\n",
    "        print(y)\n",
    "        if y in l:\n",
    "            lp.append(l[y])\n",
    "            print(lp)\n",
    "        elif y in r:\n",
    "            rp.append(r[y])\n",
    "            print(rp)\n",
    "    if sum(lp) > sum(rp):\n",
    "        return 'Left side wins!'\n",
    "    elif sum(lp) < sum(rp):\n",
    "        return 'Right side wins!'\n",
    "    else:\n",
    "        return \"Let's fight again!\""
   ]
  },
  {
   "cell_type": "code",
   "execution_count": 35,
   "metadata": {},
   "outputs": [
    {
     "name": "stdout",
     "output_type": "stream",
     "text": [
      "z\n",
      "[1]\n"
     ]
    },
    {
     "data": {
      "text/plain": [
       "'Right side wins!'"
      ]
     },
     "execution_count": 35,
     "metadata": {},
     "output_type": "execute_result"
    }
   ],
   "source": [
    "alphabet_war('z')"
   ]
  },
  {
   "cell_type": "code",
   "execution_count": 22,
   "metadata": {},
   "outputs": [],
   "source": [
    "l = {'w':4,'p':3,'b':2,'s':1}"
   ]
  },
  {
   "cell_type": "code",
   "execution_count": 27,
   "metadata": {},
   "outputs": [
    {
     "data": {
      "text/plain": [
       "4"
      ]
     },
     "execution_count": 27,
     "metadata": {},
     "output_type": "execute_result"
    }
   ],
   "source": [
    "l['w']"
   ]
  },
  {
   "cell_type": "code",
   "execution_count": 13,
   "metadata": {},
   "outputs": [
    {
     "data": {
      "text/plain": [
       "'e'"
      ]
     },
     "execution_count": 13,
     "metadata": {},
     "output_type": "execute_result"
    }
   ],
   "source": [
    "z[1]"
   ]
  },
  {
   "cell_type": "code",
   "execution_count": null,
   "metadata": {},
   "outputs": [],
   "source": []
  }
 ],
 "metadata": {
  "kernelspec": {
   "display_name": "Python 3",
   "language": "python",
   "name": "python3"
  },
  "language_info": {
   "codemirror_mode": {
    "name": "ipython",
    "version": 3
   },
   "file_extension": ".py",
   "mimetype": "text/x-python",
   "name": "python",
   "nbconvert_exporter": "python",
   "pygments_lexer": "ipython3",
   "version": "3.7.4"
  }
 },
 "nbformat": 4,
 "nbformat_minor": 2
}
